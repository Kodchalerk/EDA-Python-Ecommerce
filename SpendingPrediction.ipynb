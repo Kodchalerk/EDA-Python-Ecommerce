{
 "cells": [
  {
   "cell_type": "markdown",
   "id": "d5e97d86-7f9b-4e42-98ef-0a36ef8b27be",
   "metadata": {
    "jp-MarkdownHeadingCollapsed": true,
    "tags": []
   },
   "source": [
    "# About Data\n",
    "\n",
    "This dataset contains data of customer from a ecommerce platform. (2022-01-19)\n",
    "Can use this data to predict the Yearly Amount Spent based on customer features\n",
    "\n",
    "Columns:\n",
    "-Email\n",
    "-Address\n",
    "-Avatar\n",
    "-Time on App\n",
    "-Time on Website\n",
    "-Length of Membership\n",
    "-Yearly Amount Spent\n",
    "\n",
    "Title Ecommerce Customer Data\n",
    "Author Mason Greenwood, Mason Greenwood\n",
    "Point of Contact\n",
    "Use email button above to contact.\n",
    "\n",
    "Mason Greenwood, Mason Greenwood\n",
    "Description This dataset contains data of customer from a ecommerce platform. (2022-01-19)\n",
    "Subject Business and Management\n",
    "Depositor Mason Greenwood, Mason Greenwood"
   ]
  },
  {
   "cell_type": "markdown",
   "id": "41ccd923-432d-41c0-84e1-537385f0d872",
   "metadata": {},
   "source": [
    "# Libraries"
   ]
  },
  {
   "cell_type": "code",
   "execution_count": 12,
   "id": "81075393-3118-488a-b4f2-00707dd846b9",
   "metadata": {},
   "outputs": [],
   "source": [
    "import pandas as pd\n",
    "import numpy as np\n",
    "import matplotlib.pyplot as plt\n",
    "import seaborn as sns\n",
    "import plotly.express as px\n",
    "import chart_studio.plotly as py\n",
    "import matplotlib.image as mpimg\n",
    "from plotly.subplots import make_subplots\n",
    "import plotly.graph_objects as go\n",
    "sns.set(style=\"darkgrid\")\n",
    "%matplotlib inline"
   ]
  },
  {
   "cell_type": "markdown",
   "id": "667e4c39-ff5e-47e3-bbbd-eb9a59629f35",
   "metadata": {},
   "source": [
    "# Data processing"
   ]
  },
  {
   "cell_type": "code",
   "execution_count": 13,
   "id": "a81d0852-3f3a-4212-aa22-058ed03682de",
   "metadata": {},
   "outputs": [
    {
     "data": {
      "text/html": [
       "<div>\n",
       "<style scoped>\n",
       "    .dataframe tbody tr th:only-of-type {\n",
       "        vertical-align: middle;\n",
       "    }\n",
       "\n",
       "    .dataframe tbody tr th {\n",
       "        vertical-align: top;\n",
       "    }\n",
       "\n",
       "    .dataframe thead th {\n",
       "        text-align: right;\n",
       "    }\n",
       "</style>\n",
       "<table border=\"1\" class=\"dataframe\">\n",
       "  <thead>\n",
       "    <tr style=\"text-align: right;\">\n",
       "      <th></th>\n",
       "      <th>\\tEmail</th>\n",
       "      <th>Address</th>\n",
       "      <th>Avatar</th>\n",
       "      <th>Time on App</th>\n",
       "      <th>Time on Website</th>\n",
       "      <th>Length of Membership</th>\n",
       "      <th>Yearly Amount Spent</th>\n",
       "    </tr>\n",
       "  </thead>\n",
       "  <tbody>\n",
       "    <tr>\n",
       "      <th>0</th>\n",
       "      <td>mstephenson@fernandez.com</td>\n",
       "      <td>835 Frank TunnelWrightmouth, MI 82180-9605</td>\n",
       "      <td>Violet</td>\n",
       "      <td>12.66</td>\n",
       "      <td>39.58</td>\n",
       "      <td>4.08</td>\n",
       "      <td>587.95</td>\n",
       "    </tr>\n",
       "    <tr>\n",
       "      <th>1</th>\n",
       "      <td>hduke@hotmail.com</td>\n",
       "      <td>4547 Archer CommonDiazchester, CA 06566-8576</td>\n",
       "      <td>DarkGreen</td>\n",
       "      <td>11.11</td>\n",
       "      <td>37.27</td>\n",
       "      <td>2.66</td>\n",
       "      <td>392.20</td>\n",
       "    </tr>\n",
       "    <tr>\n",
       "      <th>2</th>\n",
       "      <td>pallen@yahoo.com</td>\n",
       "      <td>24645 Valerie Unions Suite 582Cobbborough, DC ...</td>\n",
       "      <td>Bisque</td>\n",
       "      <td>11.33</td>\n",
       "      <td>37.11</td>\n",
       "      <td>4.10</td>\n",
       "      <td>487.55</td>\n",
       "    </tr>\n",
       "    <tr>\n",
       "      <th>3</th>\n",
       "      <td>riverarebecca@gmail.com</td>\n",
       "      <td>1414 David ThroughwayPort Jason, OH 22070-1220</td>\n",
       "      <td>SaddleBrown</td>\n",
       "      <td>13.72</td>\n",
       "      <td>36.72</td>\n",
       "      <td>3.12</td>\n",
       "      <td>581.85</td>\n",
       "    </tr>\n",
       "    <tr>\n",
       "      <th>4</th>\n",
       "      <td>mstephens@davidson-herman.com</td>\n",
       "      <td>14023 Rodriguez PassagePort Jacobville, PR 372...</td>\n",
       "      <td>MediumAquaMarine</td>\n",
       "      <td>12.80</td>\n",
       "      <td>37.54</td>\n",
       "      <td>4.45</td>\n",
       "      <td>599.41</td>\n",
       "    </tr>\n",
       "    <tr>\n",
       "      <th>...</th>\n",
       "      <td>...</td>\n",
       "      <td>...</td>\n",
       "      <td>...</td>\n",
       "      <td>...</td>\n",
       "      <td>...</td>\n",
       "      <td>...</td>\n",
       "      <td>...</td>\n",
       "    </tr>\n",
       "    <tr>\n",
       "      <th>495</th>\n",
       "      <td>lewisjessica@craig-evans.com</td>\n",
       "      <td>4483 Jones Motorway Suite 872Lake Jamiefurt, U...</td>\n",
       "      <td>Tan</td>\n",
       "      <td>13.57</td>\n",
       "      <td>36.42</td>\n",
       "      <td>3.75</td>\n",
       "      <td>573.85</td>\n",
       "    </tr>\n",
       "    <tr>\n",
       "      <th>496</th>\n",
       "      <td>katrina56@gmail.com</td>\n",
       "      <td>172 Owen Divide Suite 497West Richard, CA 19320</td>\n",
       "      <td>PaleVioletRed</td>\n",
       "      <td>11.70</td>\n",
       "      <td>37.19</td>\n",
       "      <td>3.58</td>\n",
       "      <td>529.05</td>\n",
       "    </tr>\n",
       "    <tr>\n",
       "      <th>497</th>\n",
       "      <td>dale88@hotmail.com</td>\n",
       "      <td>0787 Andrews Ranch Apt. 633South Chadburgh, TN...</td>\n",
       "      <td>Cornsilk</td>\n",
       "      <td>11.50</td>\n",
       "      <td>38.33</td>\n",
       "      <td>4.96</td>\n",
       "      <td>551.62</td>\n",
       "    </tr>\n",
       "    <tr>\n",
       "      <th>498</th>\n",
       "      <td>cwilson@hotmail.com</td>\n",
       "      <td>680 Jennifer Lodge Apt. 808Brendachester, TX 0...</td>\n",
       "      <td>Teal</td>\n",
       "      <td>12.39</td>\n",
       "      <td>36.84</td>\n",
       "      <td>2.34</td>\n",
       "      <td>456.47</td>\n",
       "    </tr>\n",
       "    <tr>\n",
       "      <th>499</th>\n",
       "      <td>hannahwilson@davidson.com</td>\n",
       "      <td>49791 Rachel Heights Apt. 898East Drewborough,...</td>\n",
       "      <td>DarkMagenta</td>\n",
       "      <td>12.42</td>\n",
       "      <td>35.77</td>\n",
       "      <td>2.74</td>\n",
       "      <td>497.78</td>\n",
       "    </tr>\n",
       "  </tbody>\n",
       "</table>\n",
       "<p>500 rows × 7 columns</p>\n",
       "</div>"
      ],
      "text/plain": [
       "                           \\tEmail  \\\n",
       "0        mstephenson@fernandez.com   \n",
       "1                hduke@hotmail.com   \n",
       "2                 pallen@yahoo.com   \n",
       "3          riverarebecca@gmail.com   \n",
       "4    mstephens@davidson-herman.com   \n",
       "..                             ...   \n",
       "495   lewisjessica@craig-evans.com   \n",
       "496            katrina56@gmail.com   \n",
       "497             dale88@hotmail.com   \n",
       "498            cwilson@hotmail.com   \n",
       "499      hannahwilson@davidson.com   \n",
       "\n",
       "                                               Address            Avatar  \\\n",
       "0           835 Frank TunnelWrightmouth, MI 82180-9605            Violet   \n",
       "1         4547 Archer CommonDiazchester, CA 06566-8576         DarkGreen   \n",
       "2    24645 Valerie Unions Suite 582Cobbborough, DC ...            Bisque   \n",
       "3       1414 David ThroughwayPort Jason, OH 22070-1220       SaddleBrown   \n",
       "4    14023 Rodriguez PassagePort Jacobville, PR 372...  MediumAquaMarine   \n",
       "..                                                 ...               ...   \n",
       "495  4483 Jones Motorway Suite 872Lake Jamiefurt, U...               Tan   \n",
       "496    172 Owen Divide Suite 497West Richard, CA 19320     PaleVioletRed   \n",
       "497  0787 Andrews Ranch Apt. 633South Chadburgh, TN...          Cornsilk   \n",
       "498  680 Jennifer Lodge Apt. 808Brendachester, TX 0...              Teal   \n",
       "499  49791 Rachel Heights Apt. 898East Drewborough,...       DarkMagenta   \n",
       "\n",
       "     Time on App  Time on Website  Length of Membership  Yearly Amount Spent  \n",
       "0          12.66            39.58                  4.08               587.95  \n",
       "1          11.11            37.27                  2.66               392.20  \n",
       "2          11.33            37.11                  4.10               487.55  \n",
       "3          13.72            36.72                  3.12               581.85  \n",
       "4          12.80            37.54                  4.45               599.41  \n",
       "..           ...              ...                   ...                  ...  \n",
       "495        13.57            36.42                  3.75               573.85  \n",
       "496        11.70            37.19                  3.58               529.05  \n",
       "497        11.50            38.33                  4.96               551.62  \n",
       "498        12.39            36.84                  2.34               456.47  \n",
       "499        12.42            35.77                  2.74               497.78  \n",
       "\n",
       "[500 rows x 7 columns]"
      ]
     },
     "execution_count": 13,
     "metadata": {},
     "output_type": "execute_result"
    }
   ],
   "source": [
    "url = 'https://github.com/Kodchalerk/EDA-Python-Ecommerce/blob/main/Ecommerce.csv?raw=true'\n",
    "df = pd.read_csv(url)\n",
    "df"
   ]
  },
  {
   "cell_type": "code",
   "execution_count": 14,
   "id": "51644ade-9756-46fd-8943-c438327fc5c5",
   "metadata": {},
   "outputs": [
    {
     "data": {
      "text/plain": [
       "0"
      ]
     },
     "execution_count": 14,
     "metadata": {},
     "output_type": "execute_result"
    }
   ],
   "source": [
    "# Check duplicate\n",
    "df.duplicated().sum()"
   ]
  },
  {
   "cell_type": "code",
   "execution_count": 15,
   "id": "5894da9b-0835-44c2-80b4-3859675ba39a",
   "metadata": {},
   "outputs": [
    {
     "data": {
      "text/plain": [
       "\\tEmail                 0\n",
       "Address                 0\n",
       "Avatar                  0\n",
       "Time on App             0\n",
       "Time on Website         0\n",
       "Length of Membership    0\n",
       "Yearly Amount Spent     0\n",
       "dtype: int64"
      ]
     },
     "execution_count": 15,
     "metadata": {},
     "output_type": "execute_result"
    }
   ],
   "source": [
    "# Check missing values\n",
    "df.isnull().sum()"
   ]
  },
  {
   "cell_type": "code",
   "execution_count": 16,
   "id": "a724759e-b0cf-4e8e-8323-2e110a6e7b08",
   "metadata": {},
   "outputs": [
    {
     "data": {
      "text/html": [
       "<div>\n",
       "<style scoped>\n",
       "    .dataframe tbody tr th:only-of-type {\n",
       "        vertical-align: middle;\n",
       "    }\n",
       "\n",
       "    .dataframe tbody tr th {\n",
       "        vertical-align: top;\n",
       "    }\n",
       "\n",
       "    .dataframe thead th {\n",
       "        text-align: right;\n",
       "    }\n",
       "</style>\n",
       "<table border=\"1\" class=\"dataframe\">\n",
       "  <thead>\n",
       "    <tr style=\"text-align: right;\">\n",
       "      <th></th>\n",
       "      <th>Time on App</th>\n",
       "      <th>Time on Website</th>\n",
       "      <th>Length of Membership</th>\n",
       "      <th>Yearly Amount Spent</th>\n",
       "    </tr>\n",
       "  </thead>\n",
       "  <tbody>\n",
       "    <tr>\n",
       "      <th>count</th>\n",
       "      <td>500.000000</td>\n",
       "      <td>500.000000</td>\n",
       "      <td>500.00000</td>\n",
       "      <td>500.000000</td>\n",
       "    </tr>\n",
       "    <tr>\n",
       "      <th>mean</th>\n",
       "      <td>12.052620</td>\n",
       "      <td>37.060480</td>\n",
       "      <td>3.53336</td>\n",
       "      <td>499.314240</td>\n",
       "    </tr>\n",
       "    <tr>\n",
       "      <th>std</th>\n",
       "      <td>0.994418</td>\n",
       "      <td>1.010555</td>\n",
       "      <td>0.99926</td>\n",
       "      <td>79.314764</td>\n",
       "    </tr>\n",
       "    <tr>\n",
       "      <th>min</th>\n",
       "      <td>8.510000</td>\n",
       "      <td>33.910000</td>\n",
       "      <td>0.27000</td>\n",
       "      <td>256.670000</td>\n",
       "    </tr>\n",
       "    <tr>\n",
       "      <th>25%</th>\n",
       "      <td>11.390000</td>\n",
       "      <td>36.347500</td>\n",
       "      <td>2.93000</td>\n",
       "      <td>445.037500</td>\n",
       "    </tr>\n",
       "    <tr>\n",
       "      <th>50%</th>\n",
       "      <td>11.980000</td>\n",
       "      <td>37.070000</td>\n",
       "      <td>3.53500</td>\n",
       "      <td>498.890000</td>\n",
       "    </tr>\n",
       "    <tr>\n",
       "      <th>75%</th>\n",
       "      <td>12.752500</td>\n",
       "      <td>37.720000</td>\n",
       "      <td>4.13000</td>\n",
       "      <td>549.312500</td>\n",
       "    </tr>\n",
       "    <tr>\n",
       "      <th>max</th>\n",
       "      <td>15.130000</td>\n",
       "      <td>40.010000</td>\n",
       "      <td>6.92000</td>\n",
       "      <td>765.520000</td>\n",
       "    </tr>\n",
       "  </tbody>\n",
       "</table>\n",
       "</div>"
      ],
      "text/plain": [
       "       Time on App  Time on Website  Length of Membership  Yearly Amount Spent\n",
       "count   500.000000       500.000000             500.00000           500.000000\n",
       "mean     12.052620        37.060480               3.53336           499.314240\n",
       "std       0.994418         1.010555               0.99926            79.314764\n",
       "min       8.510000        33.910000               0.27000           256.670000\n",
       "25%      11.390000        36.347500               2.93000           445.037500\n",
       "50%      11.980000        37.070000               3.53500           498.890000\n",
       "75%      12.752500        37.720000               4.13000           549.312500\n",
       "max      15.130000        40.010000               6.92000           765.520000"
      ]
     },
     "execution_count": 16,
     "metadata": {},
     "output_type": "execute_result"
    }
   ],
   "source": [
    "df.describe()"
   ]
  },
  {
   "cell_type": "code",
   "execution_count": 17,
   "id": "a1ba33ea-3157-417e-9dd4-1d9f33169949",
   "metadata": {},
   "outputs": [
    {
     "data": {
      "application/vnd.plotly.v1+json": {
       "config": {
        "plotlyServerURL": "https://plot.ly"
       },
       "data": [
        {
         "alignmentgroup": "True",
         "hovertemplate": "Time on Website=%{y}<extra></extra>",
         "legendgroup": "",
         "marker": {
          "color": "#636efa"
         },
         "name": "",
         "notched": false,
         "offsetgroup": "",
         "orientation": "v",
         "showlegend": false,
         "type": "box",
         "x0": " ",
         "xaxis": "x",
         "y": [
          39.58,
          37.27,
          37.11,
          36.72,
          37.54,
          34.48,
          36.68,
          37.37,
          37.53,
          37.15,
          37.23,
          37.09,
          37.42,
          36.14,
          36.62,
          36.21,
          34.89,
          38.39,
          38.24,
          37.19,
          37.61,
          37.44,
          38.73,
          36.77,
          37.64,
          37.74,
          36.43,
          37.85,
          35.29,
          37.28,
          36.16,
          35.62,
          35.69,
          38.88,
          35.37,
          38.77,
          36.77,
          37.04,
          37.39,
          36.37,
          37.53,
          37.5,
          37.14,
          36.89,
          36.11,
          39.13,
          37.34,
          36.46,
          36.58,
          36.59,
          37.78,
          37.27,
          37.45,
          35.93,
          38.47,
          35.25,
          39.25,
          36.17,
          36.81,
          37.27,
          38.05,
          36.49,
          38,
          37.41,
          36.6,
          37.16,
          35.36,
          36.38,
          37.68,
          40.01,
          36.27,
          36.16,
          38.01,
          37.03,
          38.26,
          38.73,
          36.63,
          35.89,
          38.21,
          36.91,
          39.6,
          35.88,
          37.06,
          37.78,
          36.16,
          36.18,
          37.15,
          36.82,
          36.95,
          36.11,
          37.88,
          36.77,
          36.05,
          37.72,
          36.63,
          38.63,
          38.06,
          37.83,
          39.07,
          35.89,
          35.99,
          37.39,
          37.58,
          36.26,
          38.07,
          35.85,
          36.15,
          37.71,
          38.17,
          38.5,
          37.33,
          37.72,
          38.42,
          37.31,
          35.6,
          37.69,
          36.7,
          36,
          38.31,
          37.54,
          35.01,
          37.67,
          37.39,
          36.55,
          37.57,
          37.09,
          36.63,
          37.15,
          36.71,
          37.53,
          37.25,
          38.95,
          37.41,
          36.6,
          37.42,
          36.1,
          36.59,
          36.49,
          37.46,
          37.33,
          36.6,
          35.98,
          35.73,
          39.29,
          38.27,
          36.52,
          37.23,
          37.34,
          36.95,
          36.58,
          38.31,
          37.43,
          37.4,
          36.97,
          36.96,
          37.24,
          37.33,
          33.91,
          39.09,
          38.3,
          38.04,
          35.01,
          38.31,
          36.94,
          37.66,
          37.66,
          38.92,
          35.04,
          36.41,
          37.63,
          37.58,
          36.88,
          35.91,
          36.94,
          38.84,
          37.48,
          38.58,
          36.81,
          35.67,
          37.82,
          37.96,
          38.86,
          37.68,
          37.25,
          36.09,
          37.06,
          36.55,
          37.96,
          36.09,
          38.23,
          37.64,
          37.15,
          35.49,
          36.34,
          37.91,
          37.28,
          37.1,
          37.43,
          37.28,
          35.91,
          36.68,
          36.05,
          37.04,
          38.69,
          35.46,
          37.95,
          38.25,
          36.78,
          35.53,
          37.78,
          38.13,
          36.06,
          38.76,
          35.77,
          36.54,
          34.89,
          38.35,
          36.22,
          37.12,
          35.74,
          37.74,
          37.68,
          38.59,
          36.29,
          37.72,
          36.14,
          37.07,
          37.61,
          36.65,
          37.95,
          35.57,
          37.26,
          37.79,
          37.33,
          37.08,
          35.97,
          37.37,
          37.07,
          36.97,
          38.57,
          36.91,
          36.1,
          39.08,
          36.95,
          35.97,
          37.69,
          36.32,
          37.52,
          36.95,
          36.84,
          37.19,
          34.85,
          36.13,
          36.2,
          36.67,
          39.22,
          36.36,
          36.64,
          38.99,
          37.37,
          37.37,
          36.66,
          36.85,
          38.24,
          36.53,
          37.34,
          37.98,
          36.85,
          36.82,
          37.29,
          38.66,
          36.23,
          36.77,
          36.58,
          35.67,
          37.75,
          36.88,
          36.9,
          37.74,
          37.03,
          37.55,
          38.42,
          37.79,
          35.68,
          38.72,
          36.62,
          35.72,
          39.07,
          35.74,
          38.55,
          37.26,
          37.03,
          35.95,
          34.81,
          37.24,
          36.19,
          37.06,
          38.62,
          35.63,
          35.98,
          36.99,
          38.07,
          37.81,
          36.93,
          36.58,
          36.34,
          36.26,
          37.37,
          36.52,
          35.46,
          36.55,
          36.55,
          36.32,
          35.62,
          37.87,
          37.53,
          37.28,
          36.61,
          36.9,
          37.19,
          38.3,
          37.33,
          36.15,
          37.65,
          37.23,
          36.31,
          38.44,
          37.39,
          38.04,
          35.92,
          37.09,
          37.11,
          37.94,
          35.86,
          36.6,
          39.25,
          38.27,
          37.43,
          38.07,
          37.33,
          36.77,
          37.77,
          35.78,
          37.96,
          37.84,
          37.98,
          35.82,
          37.83,
          34.9,
          36.38,
          37.33,
          38.2,
          36.88,
          35.9,
          35.13,
          35.97,
          37.76,
          37.49,
          35.72,
          37.65,
          36.05,
          39.05,
          36.91,
          35.44,
          37.92,
          38,
          36.84,
          35.94,
          36.23,
          37.91,
          37.76,
          38.11,
          36.96,
          37.09,
          38.04,
          36.91,
          37.69,
          35.78,
          36.67,
          38.3,
          35.55,
          37.95,
          37.35,
          35.43,
          36.19,
          34.57,
          38.95,
          34.49,
          36.17,
          37.03,
          36.88,
          37.32,
          37.13,
          36.16,
          38.38,
          37.87,
          35.57,
          36.05,
          38.92,
          37.2,
          37.33,
          36.52,
          37.31,
          38.32,
          36.69,
          37.05,
          35.57,
          38.51,
          37,
          35.19,
          38.78,
          36.99,
          35.94,
          36.73,
          37.63,
          38.79,
          37.64,
          36.95,
          37.07,
          36.01,
          37.14,
          36.73,
          36.39,
          36.68,
          37.86,
          36.46,
          37.24,
          39.67,
          37.02,
          38.42,
          38.4,
          36.61,
          35.63,
          36.31,
          36.35,
          37.02,
          36.09,
          39.24,
          37.18,
          37.31,
          36.83,
          36.98,
          35.91,
          37.65,
          35.46,
          35.63,
          36.49,
          37.81,
          37.68,
          37.68,
          37.65,
          36.84,
          36.81,
          37.72,
          36.32,
          35.77,
          34.78,
          37.03,
          36.86,
          37.43,
          36.84,
          35.26,
          37.21,
          36.93,
          38.41,
          37.67,
          34.65,
          36.37,
          37.49,
          36.67,
          36.6,
          36.38,
          38.86,
          36.17,
          37.07,
          36.3,
          38.68,
          36.17,
          36.88,
          38.13,
          35.77,
          35.54,
          36.07,
          37.2,
          36.87,
          36.36,
          36.53,
          36.06,
          38.19,
          37.13,
          37.68,
          36.81,
          37.84,
          35.54,
          37.97,
          36.42,
          37.19,
          38.33,
          36.84,
          35.77
         ],
         "y0": " ",
         "yaxis": "y"
        }
       ],
       "layout": {
        "autosize": true,
        "boxmode": "group",
        "legend": {
         "tracegroupgap": 0
        },
        "margin": {
         "t": 60
        },
        "template": {
         "data": {
          "bar": [
           {
            "error_x": {
             "color": "#2a3f5f"
            },
            "error_y": {
             "color": "#2a3f5f"
            },
            "marker": {
             "line": {
              "color": "#E5ECF6",
              "width": 0.5
             },
             "pattern": {
              "fillmode": "overlay",
              "size": 10,
              "solidity": 0.2
             }
            },
            "type": "bar"
           }
          ],
          "barpolar": [
           {
            "marker": {
             "line": {
              "color": "#E5ECF6",
              "width": 0.5
             },
             "pattern": {
              "fillmode": "overlay",
              "size": 10,
              "solidity": 0.2
             }
            },
            "type": "barpolar"
           }
          ],
          "carpet": [
           {
            "aaxis": {
             "endlinecolor": "#2a3f5f",
             "gridcolor": "white",
             "linecolor": "white",
             "minorgridcolor": "white",
             "startlinecolor": "#2a3f5f"
            },
            "baxis": {
             "endlinecolor": "#2a3f5f",
             "gridcolor": "white",
             "linecolor": "white",
             "minorgridcolor": "white",
             "startlinecolor": "#2a3f5f"
            },
            "type": "carpet"
           }
          ],
          "choropleth": [
           {
            "colorbar": {
             "outlinewidth": 0,
             "ticks": ""
            },
            "type": "choropleth"
           }
          ],
          "contour": [
           {
            "colorbar": {
             "outlinewidth": 0,
             "ticks": ""
            },
            "colorscale": [
             [
              0,
              "#0d0887"
             ],
             [
              0.1111111111111111,
              "#46039f"
             ],
             [
              0.2222222222222222,
              "#7201a8"
             ],
             [
              0.3333333333333333,
              "#9c179e"
             ],
             [
              0.4444444444444444,
              "#bd3786"
             ],
             [
              0.5555555555555556,
              "#d8576b"
             ],
             [
              0.6666666666666666,
              "#ed7953"
             ],
             [
              0.7777777777777778,
              "#fb9f3a"
             ],
             [
              0.8888888888888888,
              "#fdca26"
             ],
             [
              1,
              "#f0f921"
             ]
            ],
            "type": "contour"
           }
          ],
          "contourcarpet": [
           {
            "colorbar": {
             "outlinewidth": 0,
             "ticks": ""
            },
            "type": "contourcarpet"
           }
          ],
          "heatmap": [
           {
            "colorbar": {
             "outlinewidth": 0,
             "ticks": ""
            },
            "colorscale": [
             [
              0,
              "#0d0887"
             ],
             [
              0.1111111111111111,
              "#46039f"
             ],
             [
              0.2222222222222222,
              "#7201a8"
             ],
             [
              0.3333333333333333,
              "#9c179e"
             ],
             [
              0.4444444444444444,
              "#bd3786"
             ],
             [
              0.5555555555555556,
              "#d8576b"
             ],
             [
              0.6666666666666666,
              "#ed7953"
             ],
             [
              0.7777777777777778,
              "#fb9f3a"
             ],
             [
              0.8888888888888888,
              "#fdca26"
             ],
             [
              1,
              "#f0f921"
             ]
            ],
            "type": "heatmap"
           }
          ],
          "heatmapgl": [
           {
            "colorbar": {
             "outlinewidth": 0,
             "ticks": ""
            },
            "colorscale": [
             [
              0,
              "#0d0887"
             ],
             [
              0.1111111111111111,
              "#46039f"
             ],
             [
              0.2222222222222222,
              "#7201a8"
             ],
             [
              0.3333333333333333,
              "#9c179e"
             ],
             [
              0.4444444444444444,
              "#bd3786"
             ],
             [
              0.5555555555555556,
              "#d8576b"
             ],
             [
              0.6666666666666666,
              "#ed7953"
             ],
             [
              0.7777777777777778,
              "#fb9f3a"
             ],
             [
              0.8888888888888888,
              "#fdca26"
             ],
             [
              1,
              "#f0f921"
             ]
            ],
            "type": "heatmapgl"
           }
          ],
          "histogram": [
           {
            "marker": {
             "pattern": {
              "fillmode": "overlay",
              "size": 10,
              "solidity": 0.2
             }
            },
            "type": "histogram"
           }
          ],
          "histogram2d": [
           {
            "colorbar": {
             "outlinewidth": 0,
             "ticks": ""
            },
            "colorscale": [
             [
              0,
              "#0d0887"
             ],
             [
              0.1111111111111111,
              "#46039f"
             ],
             [
              0.2222222222222222,
              "#7201a8"
             ],
             [
              0.3333333333333333,
              "#9c179e"
             ],
             [
              0.4444444444444444,
              "#bd3786"
             ],
             [
              0.5555555555555556,
              "#d8576b"
             ],
             [
              0.6666666666666666,
              "#ed7953"
             ],
             [
              0.7777777777777778,
              "#fb9f3a"
             ],
             [
              0.8888888888888888,
              "#fdca26"
             ],
             [
              1,
              "#f0f921"
             ]
            ],
            "type": "histogram2d"
           }
          ],
          "histogram2dcontour": [
           {
            "colorbar": {
             "outlinewidth": 0,
             "ticks": ""
            },
            "colorscale": [
             [
              0,
              "#0d0887"
             ],
             [
              0.1111111111111111,
              "#46039f"
             ],
             [
              0.2222222222222222,
              "#7201a8"
             ],
             [
              0.3333333333333333,
              "#9c179e"
             ],
             [
              0.4444444444444444,
              "#bd3786"
             ],
             [
              0.5555555555555556,
              "#d8576b"
             ],
             [
              0.6666666666666666,
              "#ed7953"
             ],
             [
              0.7777777777777778,
              "#fb9f3a"
             ],
             [
              0.8888888888888888,
              "#fdca26"
             ],
             [
              1,
              "#f0f921"
             ]
            ],
            "type": "histogram2dcontour"
           }
          ],
          "mesh3d": [
           {
            "colorbar": {
             "outlinewidth": 0,
             "ticks": ""
            },
            "type": "mesh3d"
           }
          ],
          "parcoords": [
           {
            "line": {
             "colorbar": {
              "outlinewidth": 0,
              "ticks": ""
             }
            },
            "type": "parcoords"
           }
          ],
          "pie": [
           {
            "automargin": true,
            "type": "pie"
           }
          ],
          "scatter": [
           {
            "fillpattern": {
             "fillmode": "overlay",
             "size": 10,
             "solidity": 0.2
            },
            "type": "scatter"
           }
          ],
          "scatter3d": [
           {
            "line": {
             "colorbar": {
              "outlinewidth": 0,
              "ticks": ""
             }
            },
            "marker": {
             "colorbar": {
              "outlinewidth": 0,
              "ticks": ""
             }
            },
            "type": "scatter3d"
           }
          ],
          "scattercarpet": [
           {
            "marker": {
             "colorbar": {
              "outlinewidth": 0,
              "ticks": ""
             }
            },
            "type": "scattercarpet"
           }
          ],
          "scattergeo": [
           {
            "marker": {
             "colorbar": {
              "outlinewidth": 0,
              "ticks": ""
             }
            },
            "type": "scattergeo"
           }
          ],
          "scattergl": [
           {
            "marker": {
             "colorbar": {
              "outlinewidth": 0,
              "ticks": ""
             }
            },
            "type": "scattergl"
           }
          ],
          "scattermapbox": [
           {
            "marker": {
             "colorbar": {
              "outlinewidth": 0,
              "ticks": ""
             }
            },
            "type": "scattermapbox"
           }
          ],
          "scatterpolar": [
           {
            "marker": {
             "colorbar": {
              "outlinewidth": 0,
              "ticks": ""
             }
            },
            "type": "scatterpolar"
           }
          ],
          "scatterpolargl": [
           {
            "marker": {
             "colorbar": {
              "outlinewidth": 0,
              "ticks": ""
             }
            },
            "type": "scatterpolargl"
           }
          ],
          "scatterternary": [
           {
            "marker": {
             "colorbar": {
              "outlinewidth": 0,
              "ticks": ""
             }
            },
            "type": "scatterternary"
           }
          ],
          "surface": [
           {
            "colorbar": {
             "outlinewidth": 0,
             "ticks": ""
            },
            "colorscale": [
             [
              0,
              "#0d0887"
             ],
             [
              0.1111111111111111,
              "#46039f"
             ],
             [
              0.2222222222222222,
              "#7201a8"
             ],
             [
              0.3333333333333333,
              "#9c179e"
             ],
             [
              0.4444444444444444,
              "#bd3786"
             ],
             [
              0.5555555555555556,
              "#d8576b"
             ],
             [
              0.6666666666666666,
              "#ed7953"
             ],
             [
              0.7777777777777778,
              "#fb9f3a"
             ],
             [
              0.8888888888888888,
              "#fdca26"
             ],
             [
              1,
              "#f0f921"
             ]
            ],
            "type": "surface"
           }
          ],
          "table": [
           {
            "cells": {
             "fill": {
              "color": "#EBF0F8"
             },
             "line": {
              "color": "white"
             }
            },
            "header": {
             "fill": {
              "color": "#C8D4E3"
             },
             "line": {
              "color": "white"
             }
            },
            "type": "table"
           }
          ]
         },
         "layout": {
          "annotationdefaults": {
           "arrowcolor": "#2a3f5f",
           "arrowhead": 0,
           "arrowwidth": 1
          },
          "autotypenumbers": "strict",
          "coloraxis": {
           "colorbar": {
            "outlinewidth": 0,
            "ticks": ""
           }
          },
          "colorscale": {
           "diverging": [
            [
             0,
             "#8e0152"
            ],
            [
             0.1,
             "#c51b7d"
            ],
            [
             0.2,
             "#de77ae"
            ],
            [
             0.3,
             "#f1b6da"
            ],
            [
             0.4,
             "#fde0ef"
            ],
            [
             0.5,
             "#f7f7f7"
            ],
            [
             0.6,
             "#e6f5d0"
            ],
            [
             0.7,
             "#b8e186"
            ],
            [
             0.8,
             "#7fbc41"
            ],
            [
             0.9,
             "#4d9221"
            ],
            [
             1,
             "#276419"
            ]
           ],
           "sequential": [
            [
             0,
             "#0d0887"
            ],
            [
             0.1111111111111111,
             "#46039f"
            ],
            [
             0.2222222222222222,
             "#7201a8"
            ],
            [
             0.3333333333333333,
             "#9c179e"
            ],
            [
             0.4444444444444444,
             "#bd3786"
            ],
            [
             0.5555555555555556,
             "#d8576b"
            ],
            [
             0.6666666666666666,
             "#ed7953"
            ],
            [
             0.7777777777777778,
             "#fb9f3a"
            ],
            [
             0.8888888888888888,
             "#fdca26"
            ],
            [
             1,
             "#f0f921"
            ]
           ],
           "sequentialminus": [
            [
             0,
             "#0d0887"
            ],
            [
             0.1111111111111111,
             "#46039f"
            ],
            [
             0.2222222222222222,
             "#7201a8"
            ],
            [
             0.3333333333333333,
             "#9c179e"
            ],
            [
             0.4444444444444444,
             "#bd3786"
            ],
            [
             0.5555555555555556,
             "#d8576b"
            ],
            [
             0.6666666666666666,
             "#ed7953"
            ],
            [
             0.7777777777777778,
             "#fb9f3a"
            ],
            [
             0.8888888888888888,
             "#fdca26"
            ],
            [
             1,
             "#f0f921"
            ]
           ]
          },
          "colorway": [
           "#636efa",
           "#EF553B",
           "#00cc96",
           "#ab63fa",
           "#FFA15A",
           "#19d3f3",
           "#FF6692",
           "#B6E880",
           "#FF97FF",
           "#FECB52"
          ],
          "font": {
           "color": "#2a3f5f"
          },
          "geo": {
           "bgcolor": "white",
           "lakecolor": "white",
           "landcolor": "#E5ECF6",
           "showlakes": true,
           "showland": true,
           "subunitcolor": "white"
          },
          "hoverlabel": {
           "align": "left"
          },
          "hovermode": "closest",
          "mapbox": {
           "style": "light"
          },
          "paper_bgcolor": "white",
          "plot_bgcolor": "#E5ECF6",
          "polar": {
           "angularaxis": {
            "gridcolor": "white",
            "linecolor": "white",
            "ticks": ""
           },
           "bgcolor": "#E5ECF6",
           "radialaxis": {
            "gridcolor": "white",
            "linecolor": "white",
            "ticks": ""
           }
          },
          "scene": {
           "xaxis": {
            "backgroundcolor": "#E5ECF6",
            "gridcolor": "white",
            "gridwidth": 2,
            "linecolor": "white",
            "showbackground": true,
            "ticks": "",
            "zerolinecolor": "white"
           },
           "yaxis": {
            "backgroundcolor": "#E5ECF6",
            "gridcolor": "white",
            "gridwidth": 2,
            "linecolor": "white",
            "showbackground": true,
            "ticks": "",
            "zerolinecolor": "white"
           },
           "zaxis": {
            "backgroundcolor": "#E5ECF6",
            "gridcolor": "white",
            "gridwidth": 2,
            "linecolor": "white",
            "showbackground": true,
            "ticks": "",
            "zerolinecolor": "white"
           }
          },
          "shapedefaults": {
           "line": {
            "color": "#2a3f5f"
           }
          },
          "ternary": {
           "aaxis": {
            "gridcolor": "white",
            "linecolor": "white",
            "ticks": ""
           },
           "baxis": {
            "gridcolor": "white",
            "linecolor": "white",
            "ticks": ""
           },
           "bgcolor": "#E5ECF6",
           "caxis": {
            "gridcolor": "white",
            "linecolor": "white",
            "ticks": ""
           }
          },
          "title": {
           "x": 0.05
          },
          "xaxis": {
           "automargin": true,
           "gridcolor": "white",
           "linecolor": "white",
           "ticks": "",
           "title": {
            "standoff": 15
           },
           "zerolinecolor": "white",
           "zerolinewidth": 2
          },
          "yaxis": {
           "automargin": true,
           "gridcolor": "white",
           "linecolor": "white",
           "ticks": "",
           "title": {
            "standoff": 15
           },
           "zerolinecolor": "white",
           "zerolinewidth": 2
          }
         }
        },
        "xaxis": {
         "anchor": "y",
         "autorange": true,
         "domain": [
          0,
          1
         ],
         "range": [
          -0.5,
          0.5
         ],
         "type": "category"
        },
        "yaxis": {
         "anchor": "x",
         "autorange": true,
         "domain": [
          0,
          1
         ],
         "range": [
          33.57111111111111,
          40.34888888888889
         ],
         "title": {
          "text": "Time on Website"
         },
         "type": "linear"
        }
       }
      },
      "image/png": "[encoded data removed]",
      "text/html": [
       "<div>                            <div id=\"94581723-c14f-42c8-bee1-608b1eb3d0c4\" class=\"plotly-graph-div\" style=\"height:525px; width:100%;\"></div>            <script type=\"text/javascript\">                require([\"plotly\"], function(Plotly) {                    window.PLOTLYENV=window.PLOTLYENV || {};                                    if (document.getElementById(\"94581723-c14f-42c8-bee1-608b1eb3d0c4\")) {                    Plotly.newPlot(                        \"94581723-c14f-42c8-bee1-608b1eb3d0c4\",                        [{\"alignmentgroup\":\"True\",\"hovertemplate\":\"Time on Website=%{y}<extra></extra>\",\"legendgroup\":\"\",\"marker\":{\"color\":\"#636efa\"},\"name\":\"\",\"notched\":false,\"offsetgroup\":\"\",\"orientation\":\"v\",\"showlegend\":false,\"x0\":\" \",\"xaxis\":\"x\",\"y\":[39.58,37.27,37.11,36.72,37.54,34.48,36.68,37.37,37.53,37.15,37.23,37.09,37.42,36.14,36.62,36.21,34.89,38.39,38.24,37.19,37.61,37.44,38.73,36.77,37.64,37.74,36.43,37.85,35.29,37.28,36.16,35.62,35.69,38.88,35.37,38.77,36.77,37.04,37.39,36.37,37.53,37.5,37.14,36.89,36.11,39.13,37.34,36.46,36.58,36.59,37.78,37.27,37.45,35.93,38.47,35.25,39.25,36.17,36.81,37.27,38.05,36.49,38.0,37.41,36.6,37.16,35.36,36.38,37.68,40.01,36.27,36.16,38.01,37.03,38.26,38.73,36.63,35.89,38.21,36.91,39.6,35.88,37.06,37.78,36.16,36.18,37.15,36.82,36.95,36.11,37.88,36.77,36.05,37.72,36.63,38.63,38.06,37.83,39.07,35.89,35.99,37.39,37.58,36.26,38.07,35.85,36.15,37.71,38.17,38.5,37.33,37.72,38.42,37.31,35.6,37.69,36.7,36.0,38.31,37.54,35.01,37.67,37.39,36.55,37.57,37.09,36.63,37.15,36.71,37.53,37.25,38.95,37.41,36.6,37.42,36.1,36.59,36.49,37.46,37.33,36.6,35.98,35.73,39.29,38.27,36.52,37.23,37.34,36.95,36.58,38.31,37.43,37.4,36.97,36.96,37.24,37.33,33.91,39.09,38.3,38.04,35.01,38.31,36.94,37.66,37.66,38.92,35.04,36.41,37.63,37.58,36.88,35.91,36.94,38.84,37.48,38.58,36.81,35.67,37.82,37.96,38.86,37.68,37.25,36.09,37.06,36.55,37.96,36.09,38.23,37.64,37.15,35.49,36.34,37.91,37.28,37.1,37.43,37.28,35.91,36.68,36.05,37.04,38.69,35.46,37.95,38.25,36.78,35.53,37.78,38.13,36.06,38.76,35.77,36.54,34.89,38.35,36.22,37.12,35.74,37.74,37.68,38.59,36.29,37.72,36.14,37.07,37.61,36.65,37.95,35.57,37.26,37.79,37.33,37.08,35.97,37.37,37.07,36.97,38.57,36.91,36.1,39.08,36.95,35.97,37.69,36.32,37.52,36.95,36.84,37.19,34.85,36.13,36.2,36.67,39.22,36.36,36.64,38.99,37.37,37.37,36.66,36.85,38.24,36.53,37.34,37.98,36.85,36.82,37.29,38.66,36.23,36.77,36.58,35.67,37.75,36.88,36.9,37.74,37.03,37.55,38.42,37.79,35.68,38.72,36.62,35.72,39.07,35.74,38.55,37.26,37.03,35.95,34.81,37.24,36.19,37.06,38.62,35.63,35.98,36.99,38.07,37.81,36.93,36.58,36.34,36.26,37.37,36.52,35.46,36.55,36.55,36.32,35.62,37.87,37.53,37.28,36.61,36.9,37.19,38.3,37.33,36.15,37.65,37.23,36.31,38.44,37.39,38.04,35.92,37.09,37.11,37.94,35.86,36.6,39.25,38.27,37.43,38.07,37.33,36.77,37.77,35.78,37.96,37.84,37.98,35.82,37.83,34.9,36.38,37.33,38.2,36.88,35.9,35.13,35.97,37.76,37.49,35.72,37.65,36.05,39.05,36.91,35.44,37.92,38.0,36.84,35.94,36.23,37.91,37.76,38.11,36.96,37.09,38.04,36.91,37.69,35.78,36.67,38.3,35.55,37.95,37.35,35.43,36.19,34.57,38.95,34.49,36.17,37.03,36.88,37.32,37.13,36.16,38.38,37.87,35.57,36.05,38.92,37.2,37.33,36.52,37.31,38.32,36.69,37.05,35.57,38.51,37.0,35.19,38.78,36.99,35.94,36.73,37.63,38.79,37.64,36.95,37.07,36.01,37.14,36.73,36.39,36.68,37.86,36.46,37.24,39.67,37.02,38.42,38.4,36.61,35.63,36.31,36.35,37.02,36.09,39.24,37.18,37.31,36.83,36.98,35.91,37.65,35.46,35.63,36.49,37.81,37.68,37.68,37.65,36.84,36.81,37.72,36.32,35.77,34.78,37.03,36.86,37.43,36.84,35.26,37.21,36.93,38.41,37.67,34.65,36.37,37.49,36.67,36.6,36.38,38.86,36.17,37.07,36.3,38.68,36.17,36.88,38.13,35.77,35.54,36.07,37.2,36.87,36.36,36.53,36.06,38.19,37.13,37.68,36.81,37.84,35.54,37.97,36.42,37.19,38.33,36.84,35.77],\"y0\":\" \",\"yaxis\":\"y\",\"type\":\"box\"}],                        {\"template\":{\"data\":{\"histogram2dcontour\":[{\"type\":\"histogram2dcontour\",\"colorbar\":{\"outlinewidth\":0,\"ticks\":\"\"},\"colorscale\":[[0.0,\"#0d0887\"],[0.1111111111111111,\"#46039f\"],[0.2222222222222222,\"#7201a8\"],[0.3333333333333333,\"#9c179e\"],[0.4444444444444444,\"#bd3786\"],[0.5555555555555556,\"#d8576b\"],[0.6666666666666666,\"#ed7953\"],[0.7777777777777778,\"#fb9f3a\"],[0.8888888888888888,\"#fdca26\"],[1.0,\"#f0f921\"]]}],\"choropleth\":[{\"type\":\"choropleth\",\"colorbar\":{\"outlinewidth\":0,\"ticks\":\"\"}}],\"histogram2d\":[{\"type\":\"histogram2d\",\"colorbar\":{\"outlinewidth\":0,\"ticks\":\"\"},\"colorscale\":[[0.0,\"#0d0887\"],[0.1111111111111111,\"#46039f\"],[0.2222222222222222,\"#7201a8\"],[0.3333333333333333,\"#9c179e\"],[0.4444444444444444,\"#bd3786\"],[0.5555555555555556,\"#d8576b\"],[0.6666666666666666,\"#ed7953\"],[0.7777777777777778,\"#fb9f3a\"],[0.8888888888888888,\"#fdca26\"],[1.0,\"#f0f921\"]]}],\"heatmap\":[{\"type\":\"heatmap\",\"colorbar\":{\"outlinewidth\":0,\"ticks\":\"\"},\"colorscale\":[[0.0,\"#0d0887\"],[0.1111111111111111,\"#46039f\"],[0.2222222222222222,\"#7201a8\"],[0.3333333333333333,\"#9c179e\"],[0.4444444444444444,\"#bd3786\"],[0.5555555555555556,\"#d8576b\"],[0.6666666666666666,\"#ed7953\"],[0.7777777777777778,\"#fb9f3a\"],[0.8888888888888888,\"#fdca26\"],[1.0,\"#f0f921\"]]}],\"heatmapgl\":[{\"type\":\"heatmapgl\",\"colorbar\":{\"outlinewidth\":0,\"ticks\":\"\"},\"colorscale\":[[0.0,\"#0d0887\"],[0.1111111111111111,\"#46039f\"],[0.2222222222222222,\"#7201a8\"],[0.3333333333333333,\"#9c179e\"],[0.4444444444444444,\"#bd3786\"],[0.5555555555555556,\"#d8576b\"],[0.6666666666666666,\"#ed7953\"],[0.7777777777777778,\"#fb9f3a\"],[0.8888888888888888,\"#fdca26\"],[1.0,\"#f0f921\"]]}],\"contourcarpet\":[{\"type\":\"contourcarpet\",\"colorbar\":{\"outlinewidth\":0,\"ticks\":\"\"}}],\"contour\":[{\"type\":\"contour\",\"colorbar\":{\"outlinewidth\":0,\"ticks\":\"\"},\"colorscale\":[[0.0,\"#0d0887\"],[0.1111111111111111,\"#46039f\"],[0.2222222222222222,\"#7201a8\"],[0.3333333333333333,\"#9c179e\"],[0.4444444444444444,\"#bd3786\"],[0.5555555555555556,\"#d8576b\"],[0.6666666666666666,\"#ed7953\"],[0.7777777777777778,\"#fb9f3a\"],[0.8888888888888888,\"#fdca26\"],[1.0,\"#f0f921\"]]}],\"surface\":[{\"type\":\"surface\",\"colorbar\":{\"outlinewidth\":0,\"ticks\":\"\"},\"colorscale\":[[0.0,\"#0d0887\"],[0.1111111111111111,\"#46039f\"],[0.2222222222222222,\"#7201a8\"],[0.3333333333333333,\"#9c179e\"],[0.4444444444444444,\"#bd3786\"],[0.5555555555555556,\"#d8576b\"],[0.6666666666666666,\"#ed7953\"],[0.7777777777777778,\"#fb9f3a\"],[0.8888888888888888,\"#fdca26\"],[1.0,\"#f0f921\"]]}],\"mesh3d\":[{\"type\":\"mesh3d\",\"colorbar\":{\"outlinewidth\":0,\"ticks\":\"\"}}],\"scatter\":[{\"fillpattern\":{\"fillmode\":\"overlay\",\"size\":10,\"solidity\":0.2},\"type\":\"scatter\"}],\"parcoords\":[{\"type\":\"parcoords\",\"line\":{\"colorbar\":{\"outlinewidth\":0,\"ticks\":\"\"}}}],\"scatterpolargl\":[{\"type\":\"scatterpolargl\",\"marker\":{\"colorbar\":{\"outlinewidth\":0,\"ticks\":\"\"}}}],\"bar\":[{\"error_x\":{\"color\":\"#2a3f5f\"},\"error_y\":{\"color\":\"#2a3f5f\"},\"marker\":{\"line\":{\"color\":\"#E5ECF6\",\"width\":0.5},\"pattern\":{\"fillmode\":\"overlay\",\"size\":10,\"solidity\":0.2}},\"type\":\"bar\"}],\"scattergeo\":[{\"type\":\"scattergeo\",\"marker\":{\"colorbar\":{\"outlinewidth\":0,\"ticks\":\"\"}}}],\"scatterpolar\":[{\"type\":\"scatterpolar\",\"marker\":{\"colorbar\":{\"outlinewidth\":0,\"ticks\":\"\"}}}],\"histogram\":[{\"marker\":{\"pattern\":{\"fillmode\":\"overlay\",\"size\":10,\"solidity\":0.2}},\"type\":\"histogram\"}],\"scattergl\":[{\"type\":\"scattergl\",\"marker\":{\"colorbar\":{\"outlinewidth\":0,\"ticks\":\"\"}}}],\"scatter3d\":[{\"type\":\"scatter3d\",\"line\":{\"colorbar\":{\"outlinewidth\":0,\"ticks\":\"\"}},\"marker\":{\"colorbar\":{\"outlinewidth\":0,\"ticks\":\"\"}}}],\"scattermapbox\":[{\"type\":\"scattermapbox\",\"marker\":{\"colorbar\":{\"outlinewidth\":0,\"ticks\":\"\"}}}],\"scatterternary\":[{\"type\":\"scatterternary\",\"marker\":{\"colorbar\":{\"outlinewidth\":0,\"ticks\":\"\"}}}],\"scattercarpet\":[{\"type\":\"scattercarpet\",\"marker\":{\"colorbar\":{\"outlinewidth\":0,\"ticks\":\"\"}}}],\"carpet\":[{\"aaxis\":{\"endlinecolor\":\"#2a3f5f\",\"gridcolor\":\"white\",\"linecolor\":\"white\",\"minorgridcolor\":\"white\",\"startlinecolor\":\"#2a3f5f\"},\"baxis\":{\"endlinecolor\":\"#2a3f5f\",\"gridcolor\":\"white\",\"linecolor\":\"white\",\"minorgridcolor\":\"white\",\"startlinecolor\":\"#2a3f5f\"},\"type\":\"carpet\"}],\"table\":[{\"cells\":{\"fill\":{\"color\":\"#EBF0F8\"},\"line\":{\"color\":\"white\"}},\"header\":{\"fill\":{\"color\":\"#C8D4E3\"},\"line\":{\"color\":\"white\"}},\"type\":\"table\"}],\"barpolar\":[{\"marker\":{\"line\":{\"color\":\"#E5ECF6\",\"width\":0.5},\"pattern\":{\"fillmode\":\"overlay\",\"size\":10,\"solidity\":0.2}},\"type\":\"barpolar\"}],\"pie\":[{\"automargin\":true,\"type\":\"pie\"}]},\"layout\":{\"autotypenumbers\":\"strict\",\"colorway\":[\"#636efa\",\"#EF553B\",\"#00cc96\",\"#ab63fa\",\"#FFA15A\",\"#19d3f3\",\"#FF6692\",\"#B6E880\",\"#FF97FF\",\"#FECB52\"],\"font\":{\"color\":\"#2a3f5f\"},\"hovermode\":\"closest\",\"hoverlabel\":{\"align\":\"left\"},\"paper_bgcolor\":\"white\",\"plot_bgcolor\":\"#E5ECF6\",\"polar\":{\"bgcolor\":\"#E5ECF6\",\"angularaxis\":{\"gridcolor\":\"white\",\"linecolor\":\"white\",\"ticks\":\"\"},\"radialaxis\":{\"gridcolor\":\"white\",\"linecolor\":\"white\",\"ticks\":\"\"}},\"ternary\":{\"bgcolor\":\"#E5ECF6\",\"aaxis\":{\"gridcolor\":\"white\",\"linecolor\":\"white\",\"ticks\":\"\"},\"baxis\":{\"gridcolor\":\"white\",\"linecolor\":\"white\",\"ticks\":\"\"},\"caxis\":{\"gridcolor\":\"white\",\"linecolor\":\"white\",\"ticks\":\"\"}},\"coloraxis\":{\"colorbar\":{\"outlinewidth\":0,\"ticks\":\"\"}},\"colorscale\":{\"sequential\":[[0.0,\"#0d0887\"],[0.1111111111111111,\"#46039f\"],[0.2222222222222222,\"#7201a8\"],[0.3333333333333333,\"#9c179e\"],[0.4444444444444444,\"#bd3786\"],[0.5555555555555556,\"#d8576b\"],[0.6666666666666666,\"#ed7953\"],[0.7777777777777778,\"#fb9f3a\"],[0.8888888888888888,\"#fdca26\"],[1.0,\"#f0f921\"]],\"sequentialminus\":[[0.0,\"#0d0887\"],[0.1111111111111111,\"#46039f\"],[0.2222222222222222,\"#7201a8\"],[0.3333333333333333,\"#9c179e\"],[0.4444444444444444,\"#bd3786\"],[0.5555555555555556,\"#d8576b\"],[0.6666666666666666,\"#ed7953\"],[0.7777777777777778,\"#fb9f3a\"],[0.8888888888888888,\"#fdca26\"],[1.0,\"#f0f921\"]],\"diverging\":[[0,\"#8e0152\"],[0.1,\"#c51b7d\"],[0.2,\"#de77ae\"],[0.3,\"#f1b6da\"],[0.4,\"#fde0ef\"],[0.5,\"#f7f7f7\"],[0.6,\"#e6f5d0\"],[0.7,\"#b8e186\"],[0.8,\"#7fbc41\"],[0.9,\"#4d9221\"],[1,\"#276419\"]]},\"xaxis\":{\"gridcolor\":\"white\",\"linecolor\":\"white\",\"ticks\":\"\",\"title\":{\"standoff\":15},\"zerolinecolor\":\"white\",\"automargin\":true,\"zerolinewidth\":2},\"yaxis\":{\"gridcolor\":\"white\",\"linecolor\":\"white\",\"ticks\":\"\",\"title\":{\"standoff\":15},\"zerolinecolor\":\"white\",\"automargin\":true,\"zerolinewidth\":2},\"scene\":{\"xaxis\":{\"backgroundcolor\":\"#E5ECF6\",\"gridcolor\":\"white\",\"linecolor\":\"white\",\"showbackground\":true,\"ticks\":\"\",\"zerolinecolor\":\"white\",\"gridwidth\":2},\"yaxis\":{\"backgroundcolor\":\"#E5ECF6\",\"gridcolor\":\"white\",\"linecolor\":\"white\",\"showbackground\":true,\"ticks\":\"\",\"zerolinecolor\":\"white\",\"gridwidth\":2},\"zaxis\":{\"backgroundcolor\":\"#E5ECF6\",\"gridcolor\":\"white\",\"linecolor\":\"white\",\"showbackground\":true,\"ticks\":\"\",\"zerolinecolor\":\"white\",\"gridwidth\":2}},\"shapedefaults\":{\"line\":{\"color\":\"#2a3f5f\"}},\"annotationdefaults\":{\"arrowcolor\":\"#2a3f5f\",\"arrowhead\":0,\"arrowwidth\":1},\"geo\":{\"bgcolor\":\"white\",\"landcolor\":\"#E5ECF6\",\"subunitcolor\":\"white\",\"showland\":true,\"showlakes\":true,\"lakecolor\":\"white\"},\"title\":{\"x\":0.05},\"mapbox\":{\"style\":\"light\"}}},\"xaxis\":{\"anchor\":\"y\",\"domain\":[0.0,1.0]},\"yaxis\":{\"anchor\":\"x\",\"domain\":[0.0,1.0],\"title\":{\"text\":\"Time on Website\"}},\"legend\":{\"tracegroupgap\":0},\"margin\":{\"t\":60},\"boxmode\":\"group\"},                        {\"responsive\": true}                    ).then(function(){\n",
       "                            \n",
       "var gd = document.getElementById('94581723-c14f-42c8-bee1-608b1eb3d0c4');\n",
       "var x = new MutationObserver(function (mutations, observer) {{\n",
       "        var display = window.getComputedStyle(gd).display;\n",
       "        if (!display || display === 'none') {{\n",
       "            console.log([gd, 'removed!']);\n",
       "            Plotly.purge(gd);\n",
       "            observer.disconnect();\n",
       "        }}\n",
       "}});\n",
       "\n",
       "// Listen for the removal of the full notebook cells\n",
       "var notebookContainer = gd.closest('#notebook-container');\n",
       "if (notebookContainer) {{\n",
       "    x.observe(notebookContainer, {childList: true});\n",
       "}}\n",
       "\n",
       "// Listen for the clearing of the current output cell\n",
       "var outputEl = gd.closest('.output');\n",
       "if (outputEl) {{\n",
       "    x.observe(outputEl, {childList: true});\n",
       "}}\n",
       "\n",
       "                        })                };                });            </script>        </div>"
      ]
     },
     "metadata": {},
     "output_type": "display_data"
    }
   ],
   "source": [
    "# Check and eliminate outlier\n",
    "px.box(df, y = 'Time on Website' )"
   ]
  },
  {
   "cell_type": "code",
   "execution_count": 18,
   "id": "849be9aa-b395-4b80-b24d-10c18740301f",
   "metadata": {},
   "outputs": [],
   "source": [
    "df = df[(df['Time on Website'] >= 34.48) & (df['Time on Website'] <= 39.67)]"
   ]
  },
  {
   "cell_type": "code",
   "execution_count": 19,
   "id": "b6cafa1b-a06a-43ea-a38c-4d39630bf8b3",
   "metadata": {},
   "outputs": [
    {
     "data": {
      "text/html": [
       "<div>\n",
       "<style scoped>\n",
       "    .dataframe tbody tr th:only-of-type {\n",
       "        vertical-align: middle;\n",
       "    }\n",
       "\n",
       "    .dataframe tbody tr th {\n",
       "        vertical-align: top;\n",
       "    }\n",
       "\n",
       "    .dataframe thead th {\n",
       "        text-align: right;\n",
       "    }\n",
       "</style>\n",
       "<table border=\"1\" class=\"dataframe\">\n",
       "  <thead>\n",
       "    <tr style=\"text-align: right;\">\n",
       "      <th></th>\n",
       "      <th>Time on App</th>\n",
       "      <th>Time on Website</th>\n",
       "      <th>Length of Membership</th>\n",
       "      <th>Yearly Amount Spent</th>\n",
       "    </tr>\n",
       "  </thead>\n",
       "  <tbody>\n",
       "    <tr>\n",
       "      <th>count</th>\n",
       "      <td>498.000000</td>\n",
       "      <td>498.000000</td>\n",
       "      <td>498.000000</td>\n",
       "      <td>498.000000</td>\n",
       "    </tr>\n",
       "    <tr>\n",
       "      <th>mean</th>\n",
       "      <td>12.054036</td>\n",
       "      <td>37.060884</td>\n",
       "      <td>3.526526</td>\n",
       "      <td>498.918313</td>\n",
       "    </tr>\n",
       "    <tr>\n",
       "      <th>std</th>\n",
       "      <td>0.995639</td>\n",
       "      <td>0.993910</td>\n",
       "      <td>0.989654</td>\n",
       "      <td>78.681151</td>\n",
       "    </tr>\n",
       "    <tr>\n",
       "      <th>min</th>\n",
       "      <td>8.510000</td>\n",
       "      <td>34.480000</td>\n",
       "      <td>0.270000</td>\n",
       "      <td>256.670000</td>\n",
       "    </tr>\n",
       "    <tr>\n",
       "      <th>25%</th>\n",
       "      <td>11.390000</td>\n",
       "      <td>36.352500</td>\n",
       "      <td>2.930000</td>\n",
       "      <td>444.992500</td>\n",
       "    </tr>\n",
       "    <tr>\n",
       "      <th>50%</th>\n",
       "      <td>11.980000</td>\n",
       "      <td>37.070000</td>\n",
       "      <td>3.530000</td>\n",
       "      <td>498.890000</td>\n",
       "    </tr>\n",
       "    <tr>\n",
       "      <th>75%</th>\n",
       "      <td>12.757500</td>\n",
       "      <td>37.717500</td>\n",
       "      <td>4.127500</td>\n",
       "      <td>549.100000</td>\n",
       "    </tr>\n",
       "    <tr>\n",
       "      <th>max</th>\n",
       "      <td>15.130000</td>\n",
       "      <td>39.670000</td>\n",
       "      <td>6.400000</td>\n",
       "      <td>765.520000</td>\n",
       "    </tr>\n",
       "  </tbody>\n",
       "</table>\n",
       "</div>"
      ],
      "text/plain": [
       "       Time on App  Time on Website  Length of Membership  Yearly Amount Spent\n",
       "count   498.000000       498.000000            498.000000           498.000000\n",
       "mean     12.054036        37.060884              3.526526           498.918313\n",
       "std       0.995639         0.993910              0.989654            78.681151\n",
       "min       8.510000        34.480000              0.270000           256.670000\n",
       "25%      11.390000        36.352500              2.930000           444.992500\n",
       "50%      11.980000        37.070000              3.530000           498.890000\n",
       "75%      12.757500        37.717500              4.127500           549.100000\n",
       "max      15.130000        39.670000              6.400000           765.520000"
      ]
     },
     "execution_count": 19,
     "metadata": {},
     "output_type": "execute_result"
    }
   ],
   "source": [
    "df.describe()"
   ]
  },
  {
   "cell_type": "code",
   "execution_count": 20,
   "id": "417c2269-4f0b-489e-9ce7-0c89291821d8",
   "metadata": {},
   "outputs": [
    {
     "data": {
      "text/html": [
       "<div>\n",
       "<style scoped>\n",
       "    .dataframe tbody tr th:only-of-type {\n",
       "        vertical-align: middle;\n",
       "    }\n",
       "\n",
       "    .dataframe tbody tr th {\n",
       "        vertical-align: top;\n",
       "    }\n",
       "\n",
       "    .dataframe thead th {\n",
       "        text-align: right;\n",
       "    }\n",
       "</style>\n",
       "<table border=\"1\" class=\"dataframe\">\n",
       "  <thead>\n",
       "    <tr style=\"text-align: right;\">\n",
       "      <th></th>\n",
       "      <th>\\tEmail</th>\n",
       "      <th>Address</th>\n",
       "      <th>Avatar</th>\n",
       "      <th>Time on App</th>\n",
       "      <th>Time on Website</th>\n",
       "      <th>Length of Membership</th>\n",
       "      <th>Yearly Amount Spent</th>\n",
       "    </tr>\n",
       "  </thead>\n",
       "  <tbody>\n",
       "    <tr>\n",
       "      <th>0</th>\n",
       "      <td>mstephenson@fernandez.com</td>\n",
       "      <td>835 Frank TunnelWrightmouth, MI 82180-9605</td>\n",
       "      <td>Violet</td>\n",
       "      <td>12.66</td>\n",
       "      <td>39.58</td>\n",
       "      <td>4.08</td>\n",
       "      <td>587.95</td>\n",
       "    </tr>\n",
       "    <tr>\n",
       "      <th>1</th>\n",
       "      <td>hduke@hotmail.com</td>\n",
       "      <td>4547 Archer CommonDiazchester, CA 06566-8576</td>\n",
       "      <td>DarkGreen</td>\n",
       "      <td>11.11</td>\n",
       "      <td>37.27</td>\n",
       "      <td>2.66</td>\n",
       "      <td>392.20</td>\n",
       "    </tr>\n",
       "    <tr>\n",
       "      <th>2</th>\n",
       "      <td>pallen@yahoo.com</td>\n",
       "      <td>24645 Valerie Unions Suite 582Cobbborough, DC ...</td>\n",
       "      <td>Bisque</td>\n",
       "      <td>11.33</td>\n",
       "      <td>37.11</td>\n",
       "      <td>4.10</td>\n",
       "      <td>487.55</td>\n",
       "    </tr>\n",
       "    <tr>\n",
       "      <th>3</th>\n",
       "      <td>riverarebecca@gmail.com</td>\n",
       "      <td>1414 David ThroughwayPort Jason, OH 22070-1220</td>\n",
       "      <td>SaddleBrown</td>\n",
       "      <td>13.72</td>\n",
       "      <td>36.72</td>\n",
       "      <td>3.12</td>\n",
       "      <td>581.85</td>\n",
       "    </tr>\n",
       "    <tr>\n",
       "      <th>4</th>\n",
       "      <td>mstephens@davidson-herman.com</td>\n",
       "      <td>14023 Rodriguez PassagePort Jacobville, PR 372...</td>\n",
       "      <td>MediumAquaMarine</td>\n",
       "      <td>12.80</td>\n",
       "      <td>37.54</td>\n",
       "      <td>4.45</td>\n",
       "      <td>599.41</td>\n",
       "    </tr>\n",
       "    <tr>\n",
       "      <th>...</th>\n",
       "      <td>...</td>\n",
       "      <td>...</td>\n",
       "      <td>...</td>\n",
       "      <td>...</td>\n",
       "      <td>...</td>\n",
       "      <td>...</td>\n",
       "      <td>...</td>\n",
       "    </tr>\n",
       "    <tr>\n",
       "      <th>495</th>\n",
       "      <td>lewisjessica@craig-evans.com</td>\n",
       "      <td>4483 Jones Motorway Suite 872Lake Jamiefurt, U...</td>\n",
       "      <td>Tan</td>\n",
       "      <td>13.57</td>\n",
       "      <td>36.42</td>\n",
       "      <td>3.75</td>\n",
       "      <td>573.85</td>\n",
       "    </tr>\n",
       "    <tr>\n",
       "      <th>496</th>\n",
       "      <td>katrina56@gmail.com</td>\n",
       "      <td>172 Owen Divide Suite 497West Richard, CA 19320</td>\n",
       "      <td>PaleVioletRed</td>\n",
       "      <td>11.70</td>\n",
       "      <td>37.19</td>\n",
       "      <td>3.58</td>\n",
       "      <td>529.05</td>\n",
       "    </tr>\n",
       "    <tr>\n",
       "      <th>497</th>\n",
       "      <td>dale88@hotmail.com</td>\n",
       "      <td>0787 Andrews Ranch Apt. 633South Chadburgh, TN...</td>\n",
       "      <td>Cornsilk</td>\n",
       "      <td>11.50</td>\n",
       "      <td>38.33</td>\n",
       "      <td>4.96</td>\n",
       "      <td>551.62</td>\n",
       "    </tr>\n",
       "    <tr>\n",
       "      <th>498</th>\n",
       "      <td>cwilson@hotmail.com</td>\n",
       "      <td>680 Jennifer Lodge Apt. 808Brendachester, TX 0...</td>\n",
       "      <td>Teal</td>\n",
       "      <td>12.39</td>\n",
       "      <td>36.84</td>\n",
       "      <td>2.34</td>\n",
       "      <td>456.47</td>\n",
       "    </tr>\n",
       "    <tr>\n",
       "      <th>499</th>\n",
       "      <td>hannahwilson@davidson.com</td>\n",
       "      <td>49791 Rachel Heights Apt. 898East Drewborough,...</td>\n",
       "      <td>DarkMagenta</td>\n",
       "      <td>12.42</td>\n",
       "      <td>35.77</td>\n",
       "      <td>2.74</td>\n",
       "      <td>497.78</td>\n",
       "    </tr>\n",
       "  </tbody>\n",
       "</table>\n",
       "<p>498 rows × 7 columns</p>\n",
       "</div>"
      ],
      "text/plain": [
       "                           \\tEmail  \\\n",
       "0        mstephenson@fernandez.com   \n",
       "1                hduke@hotmail.com   \n",
       "2                 pallen@yahoo.com   \n",
       "3          riverarebecca@gmail.com   \n",
       "4    mstephens@davidson-herman.com   \n",
       "..                             ...   \n",
       "495   lewisjessica@craig-evans.com   \n",
       "496            katrina56@gmail.com   \n",
       "497             dale88@hotmail.com   \n",
       "498            cwilson@hotmail.com   \n",
       "499      hannahwilson@davidson.com   \n",
       "\n",
       "                                               Address            Avatar  \\\n",
       "0           835 Frank TunnelWrightmouth, MI 82180-9605            Violet   \n",
       "1         4547 Archer CommonDiazchester, CA 06566-8576         DarkGreen   \n",
       "2    24645 Valerie Unions Suite 582Cobbborough, DC ...            Bisque   \n",
       "3       1414 David ThroughwayPort Jason, OH 22070-1220       SaddleBrown   \n",
       "4    14023 Rodriguez PassagePort Jacobville, PR 372...  MediumAquaMarine   \n",
       "..                                                 ...               ...   \n",
       "495  4483 Jones Motorway Suite 872Lake Jamiefurt, U...               Tan   \n",
       "496    172 Owen Divide Suite 497West Richard, CA 19320     PaleVioletRed   \n",
       "497  0787 Andrews Ranch Apt. 633South Chadburgh, TN...          Cornsilk   \n",
       "498  680 Jennifer Lodge Apt. 808Brendachester, TX 0...              Teal   \n",
       "499  49791 Rachel Heights Apt. 898East Drewborough,...       DarkMagenta   \n",
       "\n",
       "     Time on App  Time on Website  Length of Membership  Yearly Amount Spent  \n",
       "0          12.66            39.58                  4.08               587.95  \n",
       "1          11.11            37.27                  2.66               392.20  \n",
       "2          11.33            37.11                  4.10               487.55  \n",
       "3          13.72            36.72                  3.12               581.85  \n",
       "4          12.80            37.54                  4.45               599.41  \n",
       "..           ...              ...                   ...                  ...  \n",
       "495        13.57            36.42                  3.75               573.85  \n",
       "496        11.70            37.19                  3.58               529.05  \n",
       "497        11.50            38.33                  4.96               551.62  \n",
       "498        12.39            36.84                  2.34               456.47  \n",
       "499        12.42            35.77                  2.74               497.78  \n",
       "\n",
       "[498 rows x 7 columns]"
      ]
     },
     "execution_count": 20,
     "metadata": {},
     "output_type": "execute_result"
    }
   ],
   "source": [
    "df"
   ]
  },
  {
   "cell_type": "code",
   "execution_count": 27,
   "id": "a23e8543-6b87-4b92-ab13-1abce80796c6",
   "metadata": {},
   "outputs": [
    {
     "data": {
      "application/vnd.plotly.v1+json": {
       "config": {
        "plotlyServerURL": "https://plot.ly"
       },
       "data": [
        {
         "alignmentgroup": "True",
         "hovertemplate": "Time on App=%{y}<extra></extra>",
         "legendgroup": "",
         "marker": {
          "color": "#636efa"
         },
         "name": "",
         "notched": false,
         "offsetgroup": "",
         "orientation": "v",
         "showlegend": false,
         "type": "box",
         "x0": " ",
         "xaxis": "x",
         "y": [
          12.66,
          11.11,
          11.33,
          13.72,
          12.8,
          12.03,
          11.37,
          12.35,
          13.39,
          11.81,
          13.34,
          11.58,
          10.96,
          12.96,
          13.15,
          12.64,
          11.73,
          12.01,
          14.72,
          13.99,
          11.37,
          12.88,
          13.38,
          11.66,
          12.89,
          11.77,
          12.78,
          13.01,
          11.98,
          11.97,
          12.31,
          10.87,
          13.39,
          13.1,
          11.63,
          11.94,
          11.76,
          11.98,
          9.95,
          12.49,
          11.73,
          10.63,
          12.51,
          11.53,
          13.41,
          12.17,
          13.15,
          12.99,
          11.86,
          11.4,
          10.96,
          10.32,
          9.98,
          12.65,
          11.59,
          13.76,
          10.57,
          11.83,
          12.06,
          12.5,
          9.61,
          13.73,
          11.67,
          13.28,
          12.7,
          11.84,
          11.31,
          11.89,
          12.23,
          10.67,
          12.82,
          13.59,
          12.24,
          11.55,
          11.43,
          10.89,
          11.93,
          12.6,
          10.95,
          13.9,
          10.88,
          10.34,
          11.63,
          12.52,
          10.61,
          12.83,
          12.07,
          12.53,
          13.52,
          11.66,
          13.66,
          11.83,
          13.29,
          11.94,
          13.35,
          12.02,
          12.08,
          13.41,
          11.28,
          11.45,
          12.6,
          10.99,
          13.09,
          12.19,
          10.72,
          12.93,
          13.45,
          12.15,
          12.18,
          11.01,
          11.6,
          12.73,
          11.22,
          12.01,
          11.73,
          12.09,
          13.07,
          12.85,
          11.56,
          11.11,
          12.81,
          11.76,
          12.58,
          11.96,
          10.65,
          12.75,
          11.54,
          11.92,
          12.42,
          11.81,
          12.76,
          11.85,
          12.7,
          12.22,
          11.28,
          10.74,
          10.96,
          11.74,
          12.42,
          10.54,
          11.92,
          11.91,
          12.49,
          12.38,
          10.48,
          12.3,
          10.86,
          10.72,
          10.98,
          12.05,
          13.46,
          12.44,
          11.59,
          11.38,
          12.36,
          12.54,
          13.28,
          11.8,
          12.72,
          12.04,
          12.47,
          13.16,
          11.05,
          10.64,
          13.44,
          13.28,
          10.86,
          11.69,
          11.55,
          11.72,
          12.18,
          12.32,
          11.08,
          13.18,
          12.83,
          11.51,
          11.86,
          12.29,
          10.93,
          13.33,
          10.9,
          12.28,
          12.04,
          11.72,
          11.2,
          13.38,
          11.39,
          10.77,
          11.82,
          13.81,
          11.66,
          13.1,
          13.07,
          12.49,
          11.34,
          11.2,
          11.33,
          13.92,
          11.03,
          11.08,
          10.54,
          11.8,
          12.44,
          12.1,
          12.38,
          13.72,
          13.69,
          10.01,
          11.44,
          12.35,
          10.75,
          11.59,
          11.24,
          11.11,
          12.11,
          11.87,
          12.17,
          13.09,
          13.01,
          10.98,
          13.11,
          12.14,
          13.91,
          11.4,
          13.03,
          11.62,
          12.6,
          13.19,
          13.27,
          11.75,
          11.57,
          12.64,
          11.39,
          11.82,
          12.73,
          11.2,
          11.35,
          14.22,
          11.55,
          11.92,
          12.28,
          10.13,
          12.03,
          13.17,
          12.33,
          13.89,
          12.93,
          11.38,
          14.07,
          10.8,
          14.43,
          13.04,
          11.74,
          12.49,
          12.89,
          11.67,
          11.78,
          12.14,
          12.22,
          13.4,
          12.96,
          12.88,
          13.33,
          12.16,
          11.23,
          12.46,
          9.85,
          13.33,
          13.68,
          11.64,
          13.49,
          11.62,
          13.01,
          11.47,
          11.68,
          12.09,
          14.33,
          12.91,
          9.82,
          12.81,
          13.06,
          10.53,
          11.14,
          10.98,
          11.15,
          11.95,
          11.47,
          11.04,
          11.17,
          11.56,
          12.23,
          13.19,
          13.39,
          12.27,
          13.46,
          11.79,
          10.99,
          12.64,
          11.66,
          11.97,
          11.8,
          12.68,
          13.03,
          12.45,
          12.24,
          10.97,
          13.67,
          13.39,
          12.97,
          12.97,
          10.73,
          10.95,
          12.61,
          13.04,
          11,
          13.28,
          10.63,
          13.19,
          11.35,
          12.95,
          11.74,
          11.89,
          10.76,
          11.61,
          11.98,
          12.46,
          10.08,
          12.59,
          14.29,
          11.92,
          11.41,
          12.82,
          11.67,
          10.61,
          12.51,
          11.3,
          10.89,
          12.1,
          12.69,
          11.39,
          10.73,
          11.94,
          12.72,
          10.97,
          13.42,
          11.85,
          11.92,
          13.15,
          12.69,
          10.35,
          12.58,
          11.76,
          12.64,
          11.83,
          10.44,
          12.73,
          9.48,
          10.16,
          11.61,
          11.27,
          11.16,
          10.1,
          12.76,
          12.06,
          11.94,
          12.45,
          12.78,
          12.96,
          9.95,
          13.13,
          11.52,
          10.97,
          13.53,
          12.04,
          10.94,
          12.66,
          11.73,
          11.92,
          11.51,
          12.42,
          13.89,
          12.85,
          12.91,
          11.57,
          11.97,
          13.08,
          11.96,
          13.25,
          13.09,
          12.53,
          11.24,
          12.07,
          12.05,
          11.23,
          11.91,
          13.05,
          13,
          11.52,
          10.31,
          12.43,
          10.75,
          11.02,
          12.22,
          12.33,
          10.81,
          12.14,
          12.94,
          13.3,
          10.4,
          11.89,
          11.59,
          13.27,
          12.99,
          14.04,
          11.91,
          11.14,
          12.9,
          12.39,
          11.82,
          14.13,
          11.91,
          11.48,
          10.05,
          12.43,
          11.97,
          11.12,
          12.5,
          12.13,
          11.73,
          11.95,
          12.48,
          12.59,
          10.95,
          11.48,
          11.12,
          10.97,
          11.59,
          10.71,
          11.08,
          12.95,
          10.57,
          11.66,
          13.59,
          11.37,
          11.23,
          10.29,
          14.12,
          12.42,
          10.77,
          12.66,
          12.67,
          13.97,
          11.51,
          11.41,
          12.26,
          12.71,
          13.47,
          11.19,
          11.25,
          12.36,
          11.76,
          11.76,
          11.55,
          12.48,
          11.73,
          12.21,
          11.9,
          12.22,
          12.01,
          11.91,
          12.13,
          11.31,
          11.61,
          11.69,
          11.2,
          12.63,
          13.35,
          13.57,
          11.7,
          11.5,
          12.39,
          12.42
         ],
         "y0": " ",
         "yaxis": "y"
        }
       ],
       "layout": {
        "autosize": true,
        "boxmode": "group",
        "legend": {
         "tracegroupgap": 0
        },
        "margin": {
         "t": 60
        },
        "template": {
         "data": {
          "bar": [
           {
            "error_x": {
             "color": "#2a3f5f"
            },
            "error_y": {
             "color": "#2a3f5f"
            },
            "marker": {
             "line": {
              "color": "#E5ECF6",
              "width": 0.5
             },
             "pattern": {
              "fillmode": "overlay",
              "size": 10,
              "solidity": 0.2
             }
            },
            "type": "bar"
           }
          ],
          "barpolar": [
           {
            "marker": {
             "line": {
              "color": "#E5ECF6",
              "width": 0.5
             },
             "pattern": {
              "fillmode": "overlay",
              "size": 10,
              "solidity": 0.2
             }
            },
            "type": "barpolar"
           }
          ],
          "carpet": [
           {
            "aaxis": {
             "endlinecolor": "#2a3f5f",
             "gridcolor": "white",
             "linecolor": "white",
             "minorgridcolor": "white",
             "startlinecolor": "#2a3f5f"
            },
            "baxis": {
             "endlinecolor": "#2a3f5f",
             "gridcolor": "white",
             "linecolor": "white",
             "minorgridcolor": "white",
             "startlinecolor": "#2a3f5f"
            },
            "type": "carpet"
           }
          ],
          "choropleth": [
           {
            "colorbar": {
             "outlinewidth": 0,
             "ticks": ""
            },
            "type": "choropleth"
           }
          ],
          "contour": [
           {
            "colorbar": {
             "outlinewidth": 0,
             "ticks": ""
            },
            "colorscale": [
             [
              0,
              "#0d0887"
             ],
             [
              0.1111111111111111,
              "#46039f"
             ],
             [
              0.2222222222222222,
              "#7201a8"
             ],
             [
              0.3333333333333333,
              "#9c179e"
             ],
             [
              0.4444444444444444,
              "#bd3786"
             ],
             [
              0.5555555555555556,
              "#d8576b"
             ],
             [
              0.6666666666666666,
              "#ed7953"
             ],
             [
              0.7777777777777778,
              "#fb9f3a"
             ],
             [
              0.8888888888888888,
              "#fdca26"
             ],
             [
              1,
              "#f0f921"
             ]
            ],
            "type": "contour"
           }
          ],
          "contourcarpet": [
           {
            "colorbar": {
             "outlinewidth": 0,
             "ticks": ""
            },
            "type": "contourcarpet"
           }
          ],
          "heatmap": [
           {
            "colorbar": {
             "outlinewidth": 0,
             "ticks": ""
            },
            "colorscale": [
             [
              0,
              "#0d0887"
             ],
             [
              0.1111111111111111,
              "#46039f"
             ],
             [
              0.2222222222222222,
              "#7201a8"
             ],
             [
              0.3333333333333333,
              "#9c179e"
             ],
             [
              0.4444444444444444,
              "#bd3786"
             ],
             [
              0.5555555555555556,
              "#d8576b"
             ],
             [
              0.6666666666666666,
              "#ed7953"
             ],
             [
              0.7777777777777778,
              "#fb9f3a"
             ],
             [
              0.8888888888888888,
              "#fdca26"
             ],
             [
              1,
              "#f0f921"
             ]
            ],
            "type": "heatmap"
           }
          ],
          "heatmapgl": [
           {
            "colorbar": {
             "outlinewidth": 0,
             "ticks": ""
            },
            "colorscale": [
             [
              0,
              "#0d0887"
             ],
             [
              0.1111111111111111,
              "#46039f"
             ],
             [
              0.2222222222222222,
              "#7201a8"
             ],
             [
              0.3333333333333333,
              "#9c179e"
             ],
             [
              0.4444444444444444,
              "#bd3786"
             ],
             [
              0.5555555555555556,
              "#d8576b"
             ],
             [
              0.6666666666666666,
              "#ed7953"
             ],
             [
              0.7777777777777778,
              "#fb9f3a"
             ],
             [
              0.8888888888888888,
              "#fdca26"
             ],
             [
              1,
              "#f0f921"
             ]
            ],
            "type": "heatmapgl"
           }
          ],
          "histogram": [
           {
            "marker": {
             "pattern": {
              "fillmode": "overlay",
              "size": 10,
              "solidity": 0.2
             }
            },
            "type": "histogram"
           }
          ],
          "histogram2d": [
           {
            "colorbar": {
             "outlinewidth": 0,
             "ticks": ""
            },
            "colorscale": [
             [
              0,
              "#0d0887"
             ],
             [
              0.1111111111111111,
              "#46039f"
             ],
             [
              0.2222222222222222,
              "#7201a8"
             ],
             [
              0.3333333333333333,
              "#9c179e"
             ],
             [
              0.4444444444444444,
              "#bd3786"
             ],
             [
              0.5555555555555556,
              "#d8576b"
             ],
             [
              0.6666666666666666,
              "#ed7953"
             ],
             [
              0.7777777777777778,
              "#fb9f3a"
             ],
             [
              0.8888888888888888,
              "#fdca26"
             ],
             [
              1,
              "#f0f921"
             ]
            ],
            "type": "histogram2d"
           }
          ],
          "histogram2dcontour": [
           {
            "colorbar": {
             "outlinewidth": 0,
             "ticks": ""
            },
            "colorscale": [
             [
              0,
              "#0d0887"
             ],
             [
              0.1111111111111111,
              "#46039f"
             ],
             [
              0.2222222222222222,
              "#7201a8"
             ],
             [
              0.3333333333333333,
              "#9c179e"
             ],
             [
              0.4444444444444444,
              "#bd3786"
             ],
             [
              0.5555555555555556,
              "#d8576b"
             ],
             [
              0.6666666666666666,
              "#ed7953"
             ],
             [
              0.7777777777777778,
              "#fb9f3a"
             ],
             [
              0.8888888888888888,
              "#fdca26"
             ],
             [
              1,
              "#f0f921"
             ]
            ],
            "type": "histogram2dcontour"
           }
          ],
          "mesh3d": [
           {
            "colorbar": {
             "outlinewidth": 0,
             "ticks": ""
            },
            "type": "mesh3d"
           }
          ],
          "parcoords": [
           {
            "line": {
             "colorbar": {
              "outlinewidth": 0,
              "ticks": ""
             }
            },
            "type": "parcoords"
           }
          ],
          "pie": [
           {
            "automargin": true,
            "type": "pie"
           }
          ],
          "scatter": [
           {
            "fillpattern": {
             "fillmode": "overlay",
             "size": 10,
             "solidity": 0.2
            },
            "type": "scatter"
           }
          ],
          "scatter3d": [
           {
            "line": {
             "colorbar": {
              "outlinewidth": 0,
              "ticks": ""
             }
            },
            "marker": {
             "colorbar": {
              "outlinewidth": 0,
              "ticks": ""
             }
            },
            "type": "scatter3d"
           }
          ],
          "scattercarpet": [
           {
            "marker": {
             "colorbar": {
              "outlinewidth": 0,
              "ticks": ""
             }
            },
            "type": "scattercarpet"
           }
          ],
          "scattergeo": [
           {
            "marker": {
             "colorbar": {
              "outlinewidth": 0,
              "ticks": ""
             }
            },
            "type": "scattergeo"
           }
          ],
          "scattergl": [
           {
            "marker": {
             "colorbar": {
              "outlinewidth": 0,
              "ticks": ""
             }
            },
            "type": "scattergl"
           }
          ],
          "scattermapbox": [
           {
            "marker": {
             "colorbar": {
              "outlinewidth": 0,
              "ticks": ""
             }
            },
            "type": "scattermapbox"
           }
          ],
          "scatterpolar": [
           {
            "marker": {
             "colorbar": {
              "outlinewidth": 0,
              "ticks": ""
             }
            },
            "type": "scatterpolar"
           }
          ],
          "scatterpolargl": [
           {
            "marker": {
             "colorbar": {
              "outlinewidth": 0,
              "ticks": ""
             }
            },
            "type": "scatterpolargl"
           }
          ],
          "scatterternary": [
           {
            "marker": {
             "colorbar": {
              "outlinewidth": 0,
              "ticks": ""
             }
            },
            "type": "scatterternary"
           }
          ],
          "surface": [
           {
            "colorbar": {
             "outlinewidth": 0,
             "ticks": ""
            },
            "colorscale": [
             [
              0,
              "#0d0887"
             ],
             [
              0.1111111111111111,
              "#46039f"
             ],
             [
              0.2222222222222222,
              "#7201a8"
             ],
             [
              0.3333333333333333,
              "#9c179e"
             ],
             [
              0.4444444444444444,
              "#bd3786"
             ],
             [
              0.5555555555555556,
              "#d8576b"
             ],
             [
              0.6666666666666666,
              "#ed7953"
             ],
             [
              0.7777777777777778,
              "#fb9f3a"
             ],
             [
              0.8888888888888888,
              "#fdca26"
             ],
             [
              1,
              "#f0f921"
             ]
            ],
            "type": "surface"
           }
          ],
          "table": [
           {
            "cells": {
             "fill": {
              "color": "#EBF0F8"
             },
             "line": {
              "color": "white"
             }
            },
            "header": {
             "fill": {
              "color": "#C8D4E3"
             },
             "line": {
              "color": "white"
             }
            },
            "type": "table"
           }
          ]
         },
         "layout": {
          "annotationdefaults": {
           "arrowcolor": "#2a3f5f",
           "arrowhead": 0,
           "arrowwidth": 1
          },
          "autotypenumbers": "strict",
          "coloraxis": {
           "colorbar": {
            "outlinewidth": 0,
            "ticks": ""
           }
          },
          "colorscale": {
           "diverging": [
            [
             0,
             "#8e0152"
            ],
            [
             0.1,
             "#c51b7d"
            ],
            [
             0.2,
             "#de77ae"
            ],
            [
             0.3,
             "#f1b6da"
            ],
            [
             0.4,
             "#fde0ef"
            ],
            [
             0.5,
             "#f7f7f7"
            ],
            [
             0.6,
             "#e6f5d0"
            ],
            [
             0.7,
             "#b8e186"
            ],
            [
             0.8,
             "#7fbc41"
            ],
            [
             0.9,
             "#4d9221"
            ],
            [
             1,
             "#276419"
            ]
           ],
           "sequential": [
            [
             0,
             "#0d0887"
            ],
            [
             0.1111111111111111,
             "#46039f"
            ],
            [
             0.2222222222222222,
             "#7201a8"
            ],
            [
             0.3333333333333333,
             "#9c179e"
            ],
            [
             0.4444444444444444,
             "#bd3786"
            ],
            [
             0.5555555555555556,
             "#d8576b"
            ],
            [
             0.6666666666666666,
             "#ed7953"
            ],
            [
             0.7777777777777778,
             "#fb9f3a"
            ],
            [
             0.8888888888888888,
             "#fdca26"
            ],
            [
             1,
             "#f0f921"
            ]
           ],
           "sequentialminus": [
            [
             0,
             "#0d0887"
            ],
            [
             0.1111111111111111,
             "#46039f"
            ],
            [
             0.2222222222222222,
             "#7201a8"
            ],
            [
             0.3333333333333333,
             "#9c179e"
            ],
            [
             0.4444444444444444,
             "#bd3786"
            ],
            [
             0.5555555555555556,
             "#d8576b"
            ],
            [
             0.6666666666666666,
             "#ed7953"
            ],
            [
             0.7777777777777778,
             "#fb9f3a"
            ],
            [
             0.8888888888888888,
             "#fdca26"
            ],
            [
             1,
             "#f0f921"
            ]
           ]
          },
          "colorway": [
           "#636efa",
           "#EF553B",
           "#00cc96",
           "#ab63fa",
           "#FFA15A",
           "#19d3f3",
           "#FF6692",
           "#B6E880",
           "#FF97FF",
           "#FECB52"
          ],
          "font": {
           "color": "#2a3f5f"
          },
          "geo": {
           "bgcolor": "white",
           "lakecolor": "white",
           "landcolor": "#E5ECF6",
           "showlakes": true,
           "showland": true,
           "subunitcolor": "white"
          },
          "hoverlabel": {
           "align": "left"
          },
          "hovermode": "closest",
          "mapbox": {
           "style": "light"
          },
          "paper_bgcolor": "white",
          "plot_bgcolor": "#E5ECF6",
          "polar": {
           "angularaxis": {
            "gridcolor": "white",
            "linecolor": "white",
            "ticks": ""
           },
           "bgcolor": "#E5ECF6",
           "radialaxis": {
            "gridcolor": "white",
            "linecolor": "white",
            "ticks": ""
           }
          },
          "scene": {
           "xaxis": {
            "backgroundcolor": "#E5ECF6",
            "gridcolor": "white",
            "gridwidth": 2,
            "linecolor": "white",
            "showbackground": true,
            "ticks": "",
            "zerolinecolor": "white"
           },
           "yaxis": {
            "backgroundcolor": "#E5ECF6",
            "gridcolor": "white",
            "gridwidth": 2,
            "linecolor": "white",
            "showbackground": true,
            "ticks": "",
            "zerolinecolor": "white"
           },
           "zaxis": {
            "backgroundcolor": "#E5ECF6",
            "gridcolor": "white",
            "gridwidth": 2,
            "linecolor": "white",
            "showbackground": true,
            "ticks": "",
            "zerolinecolor": "white"
           }
          },
          "shapedefaults": {
           "line": {
            "color": "#2a3f5f"
           }
          },
          "ternary": {
           "aaxis": {
            "gridcolor": "white",
            "linecolor": "white",
            "ticks": ""
           },
           "baxis": {
            "gridcolor": "white",
            "linecolor": "white",
            "ticks": ""
           },
           "bgcolor": "#E5ECF6",
           "caxis": {
            "gridcolor": "white",
            "linecolor": "white",
            "ticks": ""
           }
          },
          "title": {
           "x": 0.05
          },
          "xaxis": {
           "automargin": true,
           "gridcolor": "white",
           "linecolor": "white",
           "ticks": "",
           "title": {
            "standoff": 15
           },
           "zerolinecolor": "white",
           "zerolinewidth": 2
          },
          "yaxis": {
           "automargin": true,
           "gridcolor": "white",
           "linecolor": "white",
           "ticks": "",
           "title": {
            "standoff": 15
           },
           "zerolinecolor": "white",
           "zerolinewidth": 2
          }
         }
        },
        "xaxis": {
         "anchor": "y",
         "autorange": true,
         "domain": [
          0,
          1
         ],
         "range": [
          -0.5,
          0.5
         ],
         "type": "category"
        },
        "yaxis": {
         "anchor": "x",
         "autorange": true,
         "domain": [
          0,
          1
         ],
         "range": [
          9.18888888888889,
          15.011111111111111
         ],
         "title": {
          "text": "Time on App"
         },
         "type": "linear"
        }
       }
      },
      "image/png": "[encoded data removed]",
      "text/html": [
       "<div>                            <div id=\"84997e29-c0b2-46fe-8d11-638c62b1c5de\" class=\"plotly-graph-div\" style=\"height:525px; width:100%;\"></div>            <script type=\"text/javascript\">                require([\"plotly\"], function(Plotly) {                    window.PLOTLYENV=window.PLOTLYENV || {};                                    if (document.getElementById(\"84997e29-c0b2-46fe-8d11-638c62b1c5de\")) {                    Plotly.newPlot(                        \"84997e29-c0b2-46fe-8d11-638c62b1c5de\",                        [{\"alignmentgroup\":\"True\",\"hovertemplate\":\"Time on App=%{y}<extra></extra>\",\"legendgroup\":\"\",\"marker\":{\"color\":\"#636efa\"},\"name\":\"\",\"notched\":false,\"offsetgroup\":\"\",\"orientation\":\"v\",\"showlegend\":false,\"x0\":\" \",\"xaxis\":\"x\",\"y\":[12.66,11.11,11.33,13.72,12.8,12.03,11.37,12.35,13.39,11.81,13.34,11.58,10.96,12.96,13.15,12.64,11.73,12.01,14.72,13.99,11.37,12.88,13.38,11.66,12.89,11.77,12.78,13.01,11.98,11.97,12.31,10.87,13.39,13.1,11.63,11.94,11.76,11.98,9.95,12.49,11.73,10.63,12.51,11.53,13.41,12.17,13.15,12.99,11.86,11.4,10.96,10.32,9.98,12.65,11.59,13.76,10.57,11.83,12.06,12.5,9.61,13.73,11.67,13.28,12.7,11.84,11.31,11.89,12.23,10.67,12.82,13.59,12.24,11.55,11.43,10.89,11.93,12.6,10.95,13.9,10.88,10.34,11.63,12.52,10.61,12.83,12.07,12.53,13.52,11.66,13.66,11.83,13.29,11.94,13.35,12.02,12.08,13.41,11.28,11.45,12.6,10.99,13.09,12.19,10.72,12.93,13.45,12.15,12.18,11.01,11.6,12.73,11.22,12.01,11.73,12.09,13.07,12.85,11.56,11.11,12.81,11.76,12.58,11.96,10.65,12.75,11.54,11.92,12.42,11.81,12.76,11.85,12.7,12.22,11.28,10.74,10.96,11.74,12.42,10.54,11.92,11.91,12.49,12.38,10.48,12.3,10.86,10.72,10.98,12.05,13.46,12.44,11.59,11.38,12.36,12.54,13.28,11.8,12.72,12.04,12.47,13.16,11.05,10.64,13.44,13.28,10.86,11.69,11.55,11.72,12.18,12.32,11.08,13.18,12.83,11.51,11.86,12.29,10.93,13.33,10.9,12.28,12.04,11.72,11.2,13.38,11.39,10.77,11.82,13.81,11.66,13.1,13.07,12.49,11.34,11.2,11.33,13.92,11.03,11.08,10.54,11.8,12.44,12.1,12.38,13.72,13.69,10.01,11.44,12.35,10.75,11.59,11.24,11.11,12.11,11.87,12.17,13.09,13.01,10.98,13.11,12.14,13.91,11.4,13.03,11.62,12.6,13.19,13.27,11.75,11.57,12.64,11.39,11.82,12.73,11.2,11.35,14.22,11.55,11.92,12.28,10.13,12.03,13.17,12.33,13.89,12.93,11.38,14.07,10.8,14.43,13.04,11.74,12.49,12.89,11.67,11.78,12.14,12.22,13.4,12.96,12.88,13.33,12.16,11.23,12.46,9.85,13.33,13.68,11.64,13.49,11.62,13.01,11.47,11.68,12.09,14.33,12.91,9.82,12.81,13.06,10.53,11.14,10.98,11.15,11.95,11.47,11.04,11.17,11.56,12.23,13.19,13.39,12.27,13.46,11.79,10.99,12.64,11.66,11.97,11.8,12.68,13.03,12.45,12.24,10.97,13.67,13.39,12.97,12.97,10.73,10.95,12.61,13.04,11.0,13.28,10.63,13.19,11.35,12.95,11.74,11.89,10.76,11.61,11.98,12.46,10.08,12.59,14.29,11.92,11.41,12.82,11.67,10.61,12.51,11.3,10.89,12.1,12.69,11.39,10.73,11.94,12.72,10.97,13.42,11.85,11.92,13.15,12.69,10.35,12.58,11.76,12.64,11.83,10.44,12.73,9.48,10.16,11.61,11.27,11.16,10.1,12.76,12.06,11.94,12.45,12.78,12.96,9.95,13.13,11.52,10.97,13.53,12.04,10.94,12.66,11.73,11.92,11.51,12.42,13.89,12.85,12.91,11.57,11.97,13.08,11.96,13.25,13.09,12.53,11.24,12.07,12.05,11.23,11.91,13.05,13.0,11.52,10.31,12.43,10.75,11.02,12.22,12.33,10.81,12.14,12.94,13.3,10.4,11.89,11.59,13.27,12.99,14.04,11.91,11.14,12.9,12.39,11.82,14.13,11.91,11.48,10.05,12.43,11.97,11.12,12.5,12.13,11.73,11.95,12.48,12.59,10.95,11.48,11.12,10.97,11.59,10.71,11.08,12.95,10.57,11.66,13.59,11.37,11.23,10.29,14.12,12.42,10.77,12.66,12.67,13.97,11.51,11.41,12.26,12.71,13.47,11.19,11.25,12.36,11.76,11.76,11.55,12.48,11.73,12.21,11.9,12.22,12.01,11.91,12.13,11.31,11.61,11.69,11.2,12.63,13.35,13.57,11.7,11.5,12.39,12.42],\"y0\":\" \",\"yaxis\":\"y\",\"type\":\"box\"}],                        {\"template\":{\"data\":{\"histogram2dcontour\":[{\"type\":\"histogram2dcontour\",\"colorbar\":{\"outlinewidth\":0,\"ticks\":\"\"},\"colorscale\":[[0.0,\"#0d0887\"],[0.1111111111111111,\"#46039f\"],[0.2222222222222222,\"#7201a8\"],[0.3333333333333333,\"#9c179e\"],[0.4444444444444444,\"#bd3786\"],[0.5555555555555556,\"#d8576b\"],[0.6666666666666666,\"#ed7953\"],[0.7777777777777778,\"#fb9f3a\"],[0.8888888888888888,\"#fdca26\"],[1.0,\"#f0f921\"]]}],\"choropleth\":[{\"type\":\"choropleth\",\"colorbar\":{\"outlinewidth\":0,\"ticks\":\"\"}}],\"histogram2d\":[{\"type\":\"histogram2d\",\"colorbar\":{\"outlinewidth\":0,\"ticks\":\"\"},\"colorscale\":[[0.0,\"#0d0887\"],[0.1111111111111111,\"#46039f\"],[0.2222222222222222,\"#7201a8\"],[0.3333333333333333,\"#9c179e\"],[0.4444444444444444,\"#bd3786\"],[0.5555555555555556,\"#d8576b\"],[0.6666666666666666,\"#ed7953\"],[0.7777777777777778,\"#fb9f3a\"],[0.8888888888888888,\"#fdca26\"],[1.0,\"#f0f921\"]]}],\"heatmap\":[{\"type\":\"heatmap\",\"colorbar\":{\"outlinewidth\":0,\"ticks\":\"\"},\"colorscale\":[[0.0,\"#0d0887\"],[0.1111111111111111,\"#46039f\"],[0.2222222222222222,\"#7201a8\"],[0.3333333333333333,\"#9c179e\"],[0.4444444444444444,\"#bd3786\"],[0.5555555555555556,\"#d8576b\"],[0.6666666666666666,\"#ed7953\"],[0.7777777777777778,\"#fb9f3a\"],[0.8888888888888888,\"#fdca26\"],[1.0,\"#f0f921\"]]}],\"heatmapgl\":[{\"type\":\"heatmapgl\",\"colorbar\":{\"outlinewidth\":0,\"ticks\":\"\"},\"colorscale\":[[0.0,\"#0d0887\"],[0.1111111111111111,\"#46039f\"],[0.2222222222222222,\"#7201a8\"],[0.3333333333333333,\"#9c179e\"],[0.4444444444444444,\"#bd3786\"],[0.5555555555555556,\"#d8576b\"],[0.6666666666666666,\"#ed7953\"],[0.7777777777777778,\"#fb9f3a\"],[0.8888888888888888,\"#fdca26\"],[1.0,\"#f0f921\"]]}],\"contourcarpet\":[{\"type\":\"contourcarpet\",\"colorbar\":{\"outlinewidth\":0,\"ticks\":\"\"}}],\"contour\":[{\"type\":\"contour\",\"colorbar\":{\"outlinewidth\":0,\"ticks\":\"\"},\"colorscale\":[[0.0,\"#0d0887\"],[0.1111111111111111,\"#46039f\"],[0.2222222222222222,\"#7201a8\"],[0.3333333333333333,\"#9c179e\"],[0.4444444444444444,\"#bd3786\"],[0.5555555555555556,\"#d8576b\"],[0.6666666666666666,\"#ed7953\"],[0.7777777777777778,\"#fb9f3a\"],[0.8888888888888888,\"#fdca26\"],[1.0,\"#f0f921\"]]}],\"surface\":[{\"type\":\"surface\",\"colorbar\":{\"outlinewidth\":0,\"ticks\":\"\"},\"colorscale\":[[0.0,\"#0d0887\"],[0.1111111111111111,\"#46039f\"],[0.2222222222222222,\"#7201a8\"],[0.3333333333333333,\"#9c179e\"],[0.4444444444444444,\"#bd3786\"],[0.5555555555555556,\"#d8576b\"],[0.6666666666666666,\"#ed7953\"],[0.7777777777777778,\"#fb9f3a\"],[0.8888888888888888,\"#fdca26\"],[1.0,\"#f0f921\"]]}],\"mesh3d\":[{\"type\":\"mesh3d\",\"colorbar\":{\"outlinewidth\":0,\"ticks\":\"\"}}],\"scatter\":[{\"fillpattern\":{\"fillmode\":\"overlay\",\"size\":10,\"solidity\":0.2},\"type\":\"scatter\"}],\"parcoords\":[{\"type\":\"parcoords\",\"line\":{\"colorbar\":{\"outlinewidth\":0,\"ticks\":\"\"}}}],\"scatterpolargl\":[{\"type\":\"scatterpolargl\",\"marker\":{\"colorbar\":{\"outlinewidth\":0,\"ticks\":\"\"}}}],\"bar\":[{\"error_x\":{\"color\":\"#2a3f5f\"},\"error_y\":{\"color\":\"#2a3f5f\"},\"marker\":{\"line\":{\"color\":\"#E5ECF6\",\"width\":0.5},\"pattern\":{\"fillmode\":\"overlay\",\"size\":10,\"solidity\":0.2}},\"type\":\"bar\"}],\"scattergeo\":[{\"type\":\"scattergeo\",\"marker\":{\"colorbar\":{\"outlinewidth\":0,\"ticks\":\"\"}}}],\"scatterpolar\":[{\"type\":\"scatterpolar\",\"marker\":{\"colorbar\":{\"outlinewidth\":0,\"ticks\":\"\"}}}],\"histogram\":[{\"marker\":{\"pattern\":{\"fillmode\":\"overlay\",\"size\":10,\"solidity\":0.2}},\"type\":\"histogram\"}],\"scattergl\":[{\"type\":\"scattergl\",\"marker\":{\"colorbar\":{\"outlinewidth\":0,\"ticks\":\"\"}}}],\"scatter3d\":[{\"type\":\"scatter3d\",\"line\":{\"colorbar\":{\"outlinewidth\":0,\"ticks\":\"\"}},\"marker\":{\"colorbar\":{\"outlinewidth\":0,\"ticks\":\"\"}}}],\"scattermapbox\":[{\"type\":\"scattermapbox\",\"marker\":{\"colorbar\":{\"outlinewidth\":0,\"ticks\":\"\"}}}],\"scatterternary\":[{\"type\":\"scatterternary\",\"marker\":{\"colorbar\":{\"outlinewidth\":0,\"ticks\":\"\"}}}],\"scattercarpet\":[{\"type\":\"scattercarpet\",\"marker\":{\"colorbar\":{\"outlinewidth\":0,\"ticks\":\"\"}}}],\"carpet\":[{\"aaxis\":{\"endlinecolor\":\"#2a3f5f\",\"gridcolor\":\"white\",\"linecolor\":\"white\",\"minorgridcolor\":\"white\",\"startlinecolor\":\"#2a3f5f\"},\"baxis\":{\"endlinecolor\":\"#2a3f5f\",\"gridcolor\":\"white\",\"linecolor\":\"white\",\"minorgridcolor\":\"white\",\"startlinecolor\":\"#2a3f5f\"},\"type\":\"carpet\"}],\"table\":[{\"cells\":{\"fill\":{\"color\":\"#EBF0F8\"},\"line\":{\"color\":\"white\"}},\"header\":{\"fill\":{\"color\":\"#C8D4E3\"},\"line\":{\"color\":\"white\"}},\"type\":\"table\"}],\"barpolar\":[{\"marker\":{\"line\":{\"color\":\"#E5ECF6\",\"width\":0.5},\"pattern\":{\"fillmode\":\"overlay\",\"size\":10,\"solidity\":0.2}},\"type\":\"barpolar\"}],\"pie\":[{\"automargin\":true,\"type\":\"pie\"}]},\"layout\":{\"autotypenumbers\":\"strict\",\"colorway\":[\"#636efa\",\"#EF553B\",\"#00cc96\",\"#ab63fa\",\"#FFA15A\",\"#19d3f3\",\"#FF6692\",\"#B6E880\",\"#FF97FF\",\"#FECB52\"],\"font\":{\"color\":\"#2a3f5f\"},\"hovermode\":\"closest\",\"hoverlabel\":{\"align\":\"left\"},\"paper_bgcolor\":\"white\",\"plot_bgcolor\":\"#E5ECF6\",\"polar\":{\"bgcolor\":\"#E5ECF6\",\"angularaxis\":{\"gridcolor\":\"white\",\"linecolor\":\"white\",\"ticks\":\"\"},\"radialaxis\":{\"gridcolor\":\"white\",\"linecolor\":\"white\",\"ticks\":\"\"}},\"ternary\":{\"bgcolor\":\"#E5ECF6\",\"aaxis\":{\"gridcolor\":\"white\",\"linecolor\":\"white\",\"ticks\":\"\"},\"baxis\":{\"gridcolor\":\"white\",\"linecolor\":\"white\",\"ticks\":\"\"},\"caxis\":{\"gridcolor\":\"white\",\"linecolor\":\"white\",\"ticks\":\"\"}},\"coloraxis\":{\"colorbar\":{\"outlinewidth\":0,\"ticks\":\"\"}},\"colorscale\":{\"sequential\":[[0.0,\"#0d0887\"],[0.1111111111111111,\"#46039f\"],[0.2222222222222222,\"#7201a8\"],[0.3333333333333333,\"#9c179e\"],[0.4444444444444444,\"#bd3786\"],[0.5555555555555556,\"#d8576b\"],[0.6666666666666666,\"#ed7953\"],[0.7777777777777778,\"#fb9f3a\"],[0.8888888888888888,\"#fdca26\"],[1.0,\"#f0f921\"]],\"sequentialminus\":[[0.0,\"#0d0887\"],[0.1111111111111111,\"#46039f\"],[0.2222222222222222,\"#7201a8\"],[0.3333333333333333,\"#9c179e\"],[0.4444444444444444,\"#bd3786\"],[0.5555555555555556,\"#d8576b\"],[0.6666666666666666,\"#ed7953\"],[0.7777777777777778,\"#fb9f3a\"],[0.8888888888888888,\"#fdca26\"],[1.0,\"#f0f921\"]],\"diverging\":[[0,\"#8e0152\"],[0.1,\"#c51b7d\"],[0.2,\"#de77ae\"],[0.3,\"#f1b6da\"],[0.4,\"#fde0ef\"],[0.5,\"#f7f7f7\"],[0.6,\"#e6f5d0\"],[0.7,\"#b8e186\"],[0.8,\"#7fbc41\"],[0.9,\"#4d9221\"],[1,\"#276419\"]]},\"xaxis\":{\"gridcolor\":\"white\",\"linecolor\":\"white\",\"ticks\":\"\",\"title\":{\"standoff\":15},\"zerolinecolor\":\"white\",\"automargin\":true,\"zerolinewidth\":2},\"yaxis\":{\"gridcolor\":\"white\",\"linecolor\":\"white\",\"ticks\":\"\",\"title\":{\"standoff\":15},\"zerolinecolor\":\"white\",\"automargin\":true,\"zerolinewidth\":2},\"scene\":{\"xaxis\":{\"backgroundcolor\":\"#E5ECF6\",\"gridcolor\":\"white\",\"linecolor\":\"white\",\"showbackground\":true,\"ticks\":\"\",\"zerolinecolor\":\"white\",\"gridwidth\":2},\"yaxis\":{\"backgroundcolor\":\"#E5ECF6\",\"gridcolor\":\"white\",\"linecolor\":\"white\",\"showbackground\":true,\"ticks\":\"\",\"zerolinecolor\":\"white\",\"gridwidth\":2},\"zaxis\":{\"backgroundcolor\":\"#E5ECF6\",\"gridcolor\":\"white\",\"linecolor\":\"white\",\"showbackground\":true,\"ticks\":\"\",\"zerolinecolor\":\"white\",\"gridwidth\":2}},\"shapedefaults\":{\"line\":{\"color\":\"#2a3f5f\"}},\"annotationdefaults\":{\"arrowcolor\":\"#2a3f5f\",\"arrowhead\":0,\"arrowwidth\":1},\"geo\":{\"bgcolor\":\"white\",\"landcolor\":\"#E5ECF6\",\"subunitcolor\":\"white\",\"showland\":true,\"showlakes\":true,\"lakecolor\":\"white\"},\"title\":{\"x\":0.05},\"mapbox\":{\"style\":\"light\"}}},\"xaxis\":{\"anchor\":\"y\",\"domain\":[0.0,1.0]},\"yaxis\":{\"anchor\":\"x\",\"domain\":[0.0,1.0],\"title\":{\"text\":\"Time on App\"}},\"legend\":{\"tracegroupgap\":0},\"margin\":{\"t\":60},\"boxmode\":\"group\"},                        {\"responsive\": true}                    ).then(function(){\n",
       "                            \n",
       "var gd = document.getElementById('84997e29-c0b2-46fe-8d11-638c62b1c5de');\n",
       "var x = new MutationObserver(function (mutations, observer) {{\n",
       "        var display = window.getComputedStyle(gd).display;\n",
       "        if (!display || display === 'none') {{\n",
       "            console.log([gd, 'removed!']);\n",
       "            Plotly.purge(gd);\n",
       "            observer.disconnect();\n",
       "        }}\n",
       "}});\n",
       "\n",
       "// Listen for the removal of the full notebook cells\n",
       "var notebookContainer = gd.closest('#notebook-container');\n",
       "if (notebookContainer) {{\n",
       "    x.observe(notebookContainer, {childList: true});\n",
       "}}\n",
       "\n",
       "// Listen for the clearing of the current output cell\n",
       "var outputEl = gd.closest('.output');\n",
       "if (outputEl) {{\n",
       "    x.observe(outputEl, {childList: true});\n",
       "}}\n",
       "\n",
       "                        })                };                });            </script>        </div>"
      ]
     },
     "metadata": {},
     "output_type": "display_data"
    }
   ],
   "source": [
    "# Check and eliminate outlier\n",
    "px.box(df, y = 'Time on App' )"
   ]
  },
  {
   "cell_type": "code",
   "execution_count": 22,
   "id": "eb944395-c58d-479d-adff-823cc3c66e24",
   "metadata": {},
   "outputs": [],
   "source": [
    "df = df[(df['Time on App'] >= 9.48) & (df['Time on App'] <= 14.72)]"
   ]
  },
  {
   "cell_type": "code",
   "execution_count": 23,
   "id": "ed70784f-82c8-491d-bab6-9c04587267b9",
   "metadata": {},
   "outputs": [
    {
     "data": {
      "application/vnd.plotly.v1+json": {
       "config": {
        "plotlyServerURL": "https://plot.ly"
       },
       "data": [
        {
         "alignmentgroup": "True",
         "hovertemplate": "Length of Membership=%{y}<extra></extra>",
         "legendgroup": "",
         "marker": {
          "color": "#636efa"
         },
         "name": "",
         "notched": false,
         "offsetgroup": "",
         "orientation": "v",
         "showlegend": false,
         "type": "box",
         "x0": " ",
         "xaxis": "x",
         "y": [
          4.08,
          2.66,
          4.1,
          3.12,
          4.45,
          5.49,
          4.69,
          4.43,
          3.27,
          3.2,
          2.48,
          3.71,
          4.05,
          3.92,
          2.49,
          3.36,
          3.14,
          2.42,
          1.52,
          4.06,
          4.6,
          1.56,
          2.25,
          3.92,
          5.71,
          2.72,
          4.65,
          3,
          3.92,
          4.74,
          3.06,
          3.47,
          4.34,
          2.82,
          4.12,
          3.65,
          1.85,
          3.45,
          4.65,
          4.22,
          4.67,
          4.65,
          4.21,
          4.64,
          2.26,
          3.66,
          3.88,
          4.11,
          3.2,
          3.2,
          5.98,
          2.95,
          2.09,
          3.86,
          2.87,
          3.39,
          3,
          3.32,
          3.47,
          3.97,
          4.64,
          5.08,
          4.8,
          3.41,
          3.46,
          4,
          3.44,
          2.78,
          2.6,
          4.69,
          3.4,
          3.85,
          3.26,
          3.12,
          2.84,
          4.47,
          4.44,
          3.16,
          3.75,
          3.16,
          4.13,
          1.91,
          4.4,
          5.11,
          2.67,
          3.37,
          4.57,
          3.92,
          2.48,
          4.13,
          4,
          1.36,
          4.19,
          3.87,
          4.08,
          4.25,
          3.91,
          3.02,
          3.18,
          2.88,
          2.59,
          2.97,
          3.43,
          2.93,
          3.78,
          3,
          3.85,
          3.32,
          3.36,
          3.72,
          3.54,
          2.79,
          5.49,
          2.59,
          2.75,
          5,
          3.87,
          3.8,
          3.29,
          4.72,
          4.02,
          3.64,
          3.83,
          4.53,
          4.11,
          3.22,
          3.28,
          2.92,
          3.91,
          4.92,
          2.47,
          4.13,
          1.77,
          2.72,
          3.9,
          2.49,
          3.86,
          3.58,
          3.96,
          3.25,
          3.91,
          1.44,
          2.91,
          3.35,
          3.09,
          4.51,
          1.83,
          3.99,
          2.65,
          6.4,
          5.39,
          6.08,
          3.86,
          2.94,
          5.08,
          3.6,
          3.78,
          3.31,
          0.97,
          3.77,
          3.59,
          4.52,
          3.68,
          2.87,
          4.06,
          3.02,
          4.72,
          2.93,
          2.36,
          4.97,
          0.8,
          3.67,
          1.72,
          4.77,
          4.09,
          4.13,
          3.44,
          4.72,
          3.23,
          2.97,
          3.18,
          4.81,
          3.62,
          3.26,
          3.6,
          4.79,
          3.32,
          4.63,
          3.31,
          4.02,
          4.37,
          2.57,
          3.52,
          1.5,
          5.04,
          4.48,
          3.36,
          1.92,
          4.33,
          3.81,
          3.09,
          4.54,
          5.07,
          3.11,
          4.75,
          3.09,
          3.2,
          3.85,
          3.97,
          3.84,
          2.91,
          1.14,
          2.69,
          3.11,
          4.85,
          2.31,
          4.84,
          3.68,
          5.25,
          3.89,
          4.39,
          4,
          0.79,
          4.4,
          2.65,
          2.37,
          3.05,
          3.64,
          3.4,
          4.3,
          3.8,
          2.63,
          3.63,
          3.47,
          1.49,
          2.27,
          5.02,
          2.47,
          4.3,
          2.44,
          3.66,
          5,
          2.41,
          5.31,
          4.08,
          3.28,
          3.63,
          3.98,
          3.29,
          2.31,
          3.56,
          3.35,
          2.91,
          3.79,
          4.03,
          4.98,
          2.7,
          3.93,
          3.46,
          2.18,
          2.71,
          4.59,
          4.26,
          3.78,
          1.62,
          3.41,
          3.61,
          3.28,
          5.01,
          3.37,
          5.45,
          3.76,
          4.66,
          3.81,
          5.05,
          2.87,
          3.24,
          3.09,
          4.56,
          3.01,
          1.81,
          3.59,
          3.05,
          3.63,
          1.48,
          2.92,
          1.81,
          3.37,
          2.21,
          5.45,
          3.2,
          4.73,
          3.21,
          3.8,
          4.12,
          5.46,
          1.48,
          3.77,
          2.9,
          3.57,
          1.08,
          3.02,
          5.57,
          2.4,
          3.5,
          5.23,
          3.36,
          2.96,
          2.08,
          3.68,
          4.69,
          4.01,
          2.53,
          2.87,
          3.52,
          4.07,
          1.2,
          3.23,
          4.09,
          4.02,
          4.21,
          2.02,
          4.24,
          4.63,
          3,
          1.82,
          4.08,
          3.69,
          2.19,
          3.21,
          1.98,
          3.35,
          3.53,
          2.97,
          2.62,
          2.8,
          2.96,
          4.35,
          3.87,
          4.62,
          2.73,
          3.54,
          3.13,
          5.14,
          3.13,
          3.18,
          3.83,
          4.81,
          4.05,
          4.54,
          3.48,
          2.63,
          4.79,
          2.76,
          2.16,
          4.2,
          2.14,
          3.43,
          3.14,
          3.53,
          5.04,
          3.61,
          2.9,
          5.71,
          5.05,
          4.78,
          2.97,
          2.67,
          3.62,
          4.24,
          2.48,
          3.51,
          3.31,
          3.54,
          1.13,
          3.23,
          3.35,
          3.22,
          3.79,
          3.56,
          2.93,
          3.05,
          2.74,
          2.78,
          4.33,
          3.42,
          3.34,
          4.66,
          3.22,
          3.77,
          3.42,
          6.12,
          3.49,
          4.08,
          2.83,
          5.41,
          3.45,
          2.94,
          4.75,
          3.53,
          3.9,
          2.4,
          2.85,
          3.78,
          4.35,
          4.57,
          4.62,
          3.01,
          4.79,
          4.33,
          1.43,
          4.14,
          2.91,
          3.98,
          3.7,
          5.84,
          4.56,
          4.49,
          3.86,
          3.05,
          4.65,
          4.02,
          3.97,
          3.74,
          3.38,
          4.6,
          2.22,
          4.29,
          2.12,
          0.94,
          3.76,
          4,
          3.53,
          3.54,
          4.16,
          3.55,
          4.13,
          4.05,
          3.07,
          4.33,
          3.94,
          0.27,
          3.28,
          2.57,
          3.83,
          2.4,
          4.03,
          3.63,
          3.19,
          3.39,
          2.57,
          3.47,
          4.2,
          2.09,
          3.61,
          4.03,
          2.32,
          3.49,
          5.32,
          3.13,
          4.99,
          1.73,
          3.7,
          1.79,
          3.02,
          4.04,
          3.14,
          2.56,
          2.38,
          4.3,
          2.09,
          4.09,
          3.52,
          1.82,
          4.18,
          3.39,
          4.43,
          2.91,
          2.78,
          3.45,
          4.71,
          1.23,
          4.02,
          1.71,
          3.16,
          3.45,
          2.21,
          5.41,
          2.77,
          3.75,
          3.58,
          4.96,
          2.34,
          2.74
         ],
         "y0": " ",
         "yaxis": "y"
        }
       ],
       "layout": {
        "autosize": true,
        "boxmode": "group",
        "legend": {
         "tracegroupgap": 0
        },
        "margin": {
         "t": 60
        },
        "template": {
         "data": {
          "bar": [
           {
            "error_x": {
             "color": "#2a3f5f"
            },
            "error_y": {
             "color": "#2a3f5f"
            },
            "marker": {
             "line": {
              "color": "#E5ECF6",
              "width": 0.5
             },
             "pattern": {
              "fillmode": "overlay",
              "size": 10,
              "solidity": 0.2
             }
            },
            "type": "bar"
           }
          ],
          "barpolar": [
           {
            "marker": {
             "line": {
              "color": "#E5ECF6",
              "width": 0.5
             },
             "pattern": {
              "fillmode": "overlay",
              "size": 10,
              "solidity": 0.2
             }
            },
            "type": "barpolar"
           }
          ],
          "carpet": [
           {
            "aaxis": {
             "endlinecolor": "#2a3f5f",
             "gridcolor": "white",
             "linecolor": "white",
             "minorgridcolor": "white",
             "startlinecolor": "#2a3f5f"
            },
            "baxis": {
             "endlinecolor": "#2a3f5f",
             "gridcolor": "white",
             "linecolor": "white",
             "minorgridcolor": "white",
             "startlinecolor": "#2a3f5f"
            },
            "type": "carpet"
           }
          ],
          "choropleth": [
           {
            "colorbar": {
             "outlinewidth": 0,
             "ticks": ""
            },
            "type": "choropleth"
           }
          ],
          "contour": [
           {
            "colorbar": {
             "outlinewidth": 0,
             "ticks": ""
            },
            "colorscale": [
             [
              0,
              "#0d0887"
             ],
             [
              0.1111111111111111,
              "#46039f"
             ],
             [
              0.2222222222222222,
              "#7201a8"
             ],
             [
              0.3333333333333333,
              "#9c179e"
             ],
             [
              0.4444444444444444,
              "#bd3786"
             ],
             [
              0.5555555555555556,
              "#d8576b"
             ],
             [
              0.6666666666666666,
              "#ed7953"
             ],
             [
              0.7777777777777778,
              "#fb9f3a"
             ],
             [
              0.8888888888888888,
              "#fdca26"
             ],
             [
              1,
              "#f0f921"
             ]
            ],
            "type": "contour"
           }
          ],
          "contourcarpet": [
           {
            "colorbar": {
             "outlinewidth": 0,
             "ticks": ""
            },
            "type": "contourcarpet"
           }
          ],
          "heatmap": [
           {
            "colorbar": {
             "outlinewidth": 0,
             "ticks": ""
            },
            "colorscale": [
             [
              0,
              "#0d0887"
             ],
             [
              0.1111111111111111,
              "#46039f"
             ],
             [
              0.2222222222222222,
              "#7201a8"
             ],
             [
              0.3333333333333333,
              "#9c179e"
             ],
             [
              0.4444444444444444,
              "#bd3786"
             ],
             [
              0.5555555555555556,
              "#d8576b"
             ],
             [
              0.6666666666666666,
              "#ed7953"
             ],
             [
              0.7777777777777778,
              "#fb9f3a"
             ],
             [
              0.8888888888888888,
              "#fdca26"
             ],
             [
              1,
              "#f0f921"
             ]
            ],
            "type": "heatmap"
           }
          ],
          "heatmapgl": [
           {
            "colorbar": {
             "outlinewidth": 0,
             "ticks": ""
            },
            "colorscale": [
             [
              0,
              "#0d0887"
             ],
             [
              0.1111111111111111,
              "#46039f"
             ],
             [
              0.2222222222222222,
              "#7201a8"
             ],
             [
              0.3333333333333333,
              "#9c179e"
             ],
             [
              0.4444444444444444,
              "#bd3786"
             ],
             [
              0.5555555555555556,
              "#d8576b"
             ],
             [
              0.6666666666666666,
              "#ed7953"
             ],
             [
              0.7777777777777778,
              "#fb9f3a"
             ],
             [
              0.8888888888888888,
              "#fdca26"
             ],
             [
              1,
              "#f0f921"
             ]
            ],
            "type": "heatmapgl"
           }
          ],
          "histogram": [
           {
            "marker": {
             "pattern": {
              "fillmode": "overlay",
              "size": 10,
              "solidity": 0.2
             }
            },
            "type": "histogram"
           }
          ],
          "histogram2d": [
           {
            "colorbar": {
             "outlinewidth": 0,
             "ticks": ""
            },
            "colorscale": [
             [
              0,
              "#0d0887"
             ],
             [
              0.1111111111111111,
              "#46039f"
             ],
             [
              0.2222222222222222,
              "#7201a8"
             ],
             [
              0.3333333333333333,
              "#9c179e"
             ],
             [
              0.4444444444444444,
              "#bd3786"
             ],
             [
              0.5555555555555556,
              "#d8576b"
             ],
             [
              0.6666666666666666,
              "#ed7953"
             ],
             [
              0.7777777777777778,
              "#fb9f3a"
             ],
             [
              0.8888888888888888,
              "#fdca26"
             ],
             [
              1,
              "#f0f921"
             ]
            ],
            "type": "histogram2d"
           }
          ],
          "histogram2dcontour": [
           {
            "colorbar": {
             "outlinewidth": 0,
             "ticks": ""
            },
            "colorscale": [
             [
              0,
              "#0d0887"
             ],
             [
              0.1111111111111111,
              "#46039f"
             ],
             [
              0.2222222222222222,
              "#7201a8"
             ],
             [
              0.3333333333333333,
              "#9c179e"
             ],
             [
              0.4444444444444444,
              "#bd3786"
             ],
             [
              0.5555555555555556,
              "#d8576b"
             ],
             [
              0.6666666666666666,
              "#ed7953"
             ],
             [
              0.7777777777777778,
              "#fb9f3a"
             ],
             [
              0.8888888888888888,
              "#fdca26"
             ],
             [
              1,
              "#f0f921"
             ]
            ],
            "type": "histogram2dcontour"
           }
          ],
          "mesh3d": [
           {
            "colorbar": {
             "outlinewidth": 0,
             "ticks": ""
            },
            "type": "mesh3d"
           }
          ],
          "parcoords": [
           {
            "line": {
             "colorbar": {
              "outlinewidth": 0,
              "ticks": ""
             }
            },
            "type": "parcoords"
           }
          ],
          "pie": [
           {
            "automargin": true,
            "type": "pie"
           }
          ],
          "scatter": [
           {
            "fillpattern": {
             "fillmode": "overlay",
             "size": 10,
             "solidity": 0.2
            },
            "type": "scatter"
           }
          ],
          "scatter3d": [
           {
            "line": {
             "colorbar": {
              "outlinewidth": 0,
              "ticks": ""
             }
            },
            "marker": {
             "colorbar": {
              "outlinewidth": 0,
              "ticks": ""
             }
            },
            "type": "scatter3d"
           }
          ],
          "scattercarpet": [
           {
            "marker": {
             "colorbar": {
              "outlinewidth": 0,
              "ticks": ""
             }
            },
            "type": "scattercarpet"
           }
          ],
          "scattergeo": [
           {
            "marker": {
             "colorbar": {
              "outlinewidth": 0,
              "ticks": ""
             }
            },
            "type": "scattergeo"
           }
          ],
          "scattergl": [
           {
            "marker": {
             "colorbar": {
              "outlinewidth": 0,
              "ticks": ""
             }
            },
            "type": "scattergl"
           }
          ],
          "scattermapbox": [
           {
            "marker": {
             "colorbar": {
              "outlinewidth": 0,
              "ticks": ""
             }
            },
            "type": "scattermapbox"
           }
          ],
          "scatterpolar": [
           {
            "marker": {
             "colorbar": {
              "outlinewidth": 0,
              "ticks": ""
             }
            },
            "type": "scatterpolar"
           }
          ],
          "scatterpolargl": [
           {
            "marker": {
             "colorbar": {
              "outlinewidth": 0,
              "ticks": ""
             }
            },
            "type": "scatterpolargl"
           }
          ],
          "scatterternary": [
           {
            "marker": {
             "colorbar": {
              "outlinewidth": 0,
              "ticks": ""
             }
            },
            "type": "scatterternary"
           }
          ],
          "surface": [
           {
            "colorbar": {
             "outlinewidth": 0,
             "ticks": ""
            },
            "colorscale": [
             [
              0,
              "#0d0887"
             ],
             [
              0.1111111111111111,
              "#46039f"
             ],
             [
              0.2222222222222222,
              "#7201a8"
             ],
             [
              0.3333333333333333,
              "#9c179e"
             ],
             [
              0.4444444444444444,
              "#bd3786"
             ],
             [
              0.5555555555555556,
              "#d8576b"
             ],
             [
              0.6666666666666666,
              "#ed7953"
             ],
             [
              0.7777777777777778,
              "#fb9f3a"
             ],
             [
              0.8888888888888888,
              "#fdca26"
             ],
             [
              1,
              "#f0f921"
             ]
            ],
            "type": "surface"
           }
          ],
          "table": [
           {
            "cells": {
             "fill": {
              "color": "#EBF0F8"
             },
             "line": {
              "color": "white"
             }
            },
            "header": {
             "fill": {
              "color": "#C8D4E3"
             },
             "line": {
              "color": "white"
             }
            },
            "type": "table"
           }
          ]
         },
         "layout": {
          "annotationdefaults": {
           "arrowcolor": "#2a3f5f",
           "arrowhead": 0,
           "arrowwidth": 1
          },
          "autotypenumbers": "strict",
          "coloraxis": {
           "colorbar": {
            "outlinewidth": 0,
            "ticks": ""
           }
          },
          "colorscale": {
           "diverging": [
            [
             0,
             "#8e0152"
            ],
            [
             0.1,
             "#c51b7d"
            ],
            [
             0.2,
             "#de77ae"
            ],
            [
             0.3,
             "#f1b6da"
            ],
            [
             0.4,
             "#fde0ef"
            ],
            [
             0.5,
             "#f7f7f7"
            ],
            [
             0.6,
             "#e6f5d0"
            ],
            [
             0.7,
             "#b8e186"
            ],
            [
             0.8,
             "#7fbc41"
            ],
            [
             0.9,
             "#4d9221"
            ],
            [
             1,
             "#276419"
            ]
           ],
           "sequential": [
            [
             0,
             "#0d0887"
            ],
            [
             0.1111111111111111,
             "#46039f"
            ],
            [
             0.2222222222222222,
             "#7201a8"
            ],
            [
             0.3333333333333333,
             "#9c179e"
            ],
            [
             0.4444444444444444,
             "#bd3786"
            ],
            [
             0.5555555555555556,
             "#d8576b"
            ],
            [
             0.6666666666666666,
             "#ed7953"
            ],
            [
             0.7777777777777778,
             "#fb9f3a"
            ],
            [
             0.8888888888888888,
             "#fdca26"
            ],
            [
             1,
             "#f0f921"
            ]
           ],
           "sequentialminus": [
            [
             0,
             "#0d0887"
            ],
            [
             0.1111111111111111,
             "#46039f"
            ],
            [
             0.2222222222222222,
             "#7201a8"
            ],
            [
             0.3333333333333333,
             "#9c179e"
            ],
            [
             0.4444444444444444,
             "#bd3786"
            ],
            [
             0.5555555555555556,
             "#d8576b"
            ],
            [
             0.6666666666666666,
             "#ed7953"
            ],
            [
             0.7777777777777778,
             "#fb9f3a"
            ],
            [
             0.8888888888888888,
             "#fdca26"
            ],
            [
             1,
             "#f0f921"
            ]
           ]
          },
          "colorway": [
           "#636efa",
           "#EF553B",
           "#00cc96",
           "#ab63fa",
           "#FFA15A",
           "#19d3f3",
           "#FF6692",
           "#B6E880",
           "#FF97FF",
           "#FECB52"
          ],
          "font": {
           "color": "#2a3f5f"
          },
          "geo": {
           "bgcolor": "white",
           "lakecolor": "white",
           "landcolor": "#E5ECF6",
           "showlakes": true,
           "showland": true,
           "subunitcolor": "white"
          },
          "hoverlabel": {
           "align": "left"
          },
          "hovermode": "closest",
          "mapbox": {
           "style": "light"
          },
          "paper_bgcolor": "white",
          "plot_bgcolor": "#E5ECF6",
          "polar": {
           "angularaxis": {
            "gridcolor": "white",
            "linecolor": "white",
            "ticks": ""
           },
           "bgcolor": "#E5ECF6",
           "radialaxis": {
            "gridcolor": "white",
            "linecolor": "white",
            "ticks": ""
           }
          },
          "scene": {
           "xaxis": {
            "backgroundcolor": "#E5ECF6",
            "gridcolor": "white",
            "gridwidth": 2,
            "linecolor": "white",
            "showbackground": true,
            "ticks": "",
            "zerolinecolor": "white"
           },
           "yaxis": {
            "backgroundcolor": "#E5ECF6",
            "gridcolor": "white",
            "gridwidth": 2,
            "linecolor": "white",
            "showbackground": true,
            "ticks": "",
            "zerolinecolor": "white"
           },
           "zaxis": {
            "backgroundcolor": "#E5ECF6",
            "gridcolor": "white",
            "gridwidth": 2,
            "linecolor": "white",
            "showbackground": true,
            "ticks": "",
            "zerolinecolor": "white"
           }
          },
          "shapedefaults": {
           "line": {
            "color": "#2a3f5f"
           }
          },
          "ternary": {
           "aaxis": {
            "gridcolor": "white",
            "linecolor": "white",
            "ticks": ""
           },
           "baxis": {
            "gridcolor": "white",
            "linecolor": "white",
            "ticks": ""
           },
           "bgcolor": "#E5ECF6",
           "caxis": {
            "gridcolor": "white",
            "linecolor": "white",
            "ticks": ""
           }
          },
          "title": {
           "x": 0.05
          },
          "xaxis": {
           "automargin": true,
           "gridcolor": "white",
           "linecolor": "white",
           "ticks": "",
           "title": {
            "standoff": 15
           },
           "zerolinecolor": "white",
           "zerolinewidth": 2
          },
          "yaxis": {
           "automargin": true,
           "gridcolor": "white",
           "linecolor": "white",
           "ticks": "",
           "title": {
            "standoff": 15
           },
           "zerolinecolor": "white",
           "zerolinewidth": 2
          }
         }
        },
        "xaxis": {
         "anchor": "y",
         "autorange": true,
         "domain": [
          0,
          1
         ],
         "range": [
          -0.5,
          0.5
         ],
         "type": "category"
        },
        "yaxis": {
         "anchor": "x",
         "autorange": true,
         "domain": [
          0,
          1
         ],
         "range": [
          -0.0705555555555556,
          6.740555555555556
         ],
         "title": {
          "text": "Length of Membership"
         },
         "type": "linear"
        }
       }
      },
      "image/png": "[encoded data removed]",
      "text/html": [
       "<div>                            <div id=\"2f71add3-4590-45eb-8661-312fecaf8267\" class=\"plotly-graph-div\" style=\"height:525px; width:100%;\"></div>            <script type=\"text/javascript\">                require([\"plotly\"], function(Plotly) {                    window.PLOTLYENV=window.PLOTLYENV || {};                                    if (document.getElementById(\"2f71add3-4590-45eb-8661-312fecaf8267\")) {                    Plotly.newPlot(                        \"2f71add3-4590-45eb-8661-312fecaf8267\",                        [{\"alignmentgroup\":\"True\",\"hovertemplate\":\"Length of Membership=%{y}<extra></extra>\",\"legendgroup\":\"\",\"marker\":{\"color\":\"#636efa\"},\"name\":\"\",\"notched\":false,\"offsetgroup\":\"\",\"orientation\":\"v\",\"showlegend\":false,\"x0\":\" \",\"xaxis\":\"x\",\"y\":[4.08,2.66,4.1,3.12,4.45,5.49,4.69,4.43,3.27,3.2,2.48,3.71,4.05,3.92,2.49,3.36,3.14,2.42,1.52,4.06,4.6,1.56,2.25,3.92,5.71,2.72,4.65,3.0,3.92,4.74,3.06,3.47,4.34,2.82,4.12,3.65,1.85,3.45,4.65,4.22,4.67,4.65,4.21,4.64,2.26,3.66,3.88,4.11,3.2,3.2,5.98,2.95,2.09,3.86,2.87,3.39,3.0,3.32,3.47,3.97,4.64,5.08,4.8,3.41,3.46,4.0,3.44,2.78,2.6,4.69,3.4,3.85,3.26,3.12,2.84,4.47,4.44,3.16,3.75,3.16,4.13,1.91,4.4,5.11,2.67,3.37,4.57,3.92,2.48,4.13,4.0,1.36,4.19,3.87,4.08,4.25,3.91,3.02,3.18,2.88,2.59,2.97,3.43,2.93,3.78,3.0,3.85,3.32,3.36,3.72,3.54,2.79,5.49,2.59,2.75,5.0,3.87,3.8,3.29,4.72,4.02,3.64,3.83,4.53,4.11,3.22,3.28,2.92,3.91,4.92,2.47,4.13,1.77,2.72,3.9,2.49,3.86,3.58,3.96,3.25,3.91,1.44,2.91,3.35,3.09,4.51,1.83,3.99,2.65,6.4,5.39,6.08,3.86,2.94,5.08,3.6,3.78,3.31,0.97,3.77,3.59,4.52,3.68,2.87,4.06,3.02,4.72,2.93,2.36,4.97,0.8,3.67,1.72,4.77,4.09,4.13,3.44,4.72,3.23,2.97,3.18,4.81,3.62,3.26,3.6,4.79,3.32,4.63,3.31,4.02,4.37,2.57,3.52,1.5,5.04,4.48,3.36,1.92,4.33,3.81,3.09,4.54,5.07,3.11,4.75,3.09,3.2,3.85,3.97,3.84,2.91,1.14,2.69,3.11,4.85,2.31,4.84,3.68,5.25,3.89,4.39,4.0,0.79,4.4,2.65,2.37,3.05,3.64,3.4,4.3,3.8,2.63,3.63,3.47,1.49,2.27,5.02,2.47,4.3,2.44,3.66,5.0,2.41,5.31,4.08,3.28,3.63,3.98,3.29,2.31,3.56,3.35,2.91,3.79,4.03,4.98,2.7,3.93,3.46,2.18,2.71,4.59,4.26,3.78,1.62,3.41,3.61,3.28,5.01,3.37,5.45,3.76,4.66,3.81,5.05,2.87,3.24,3.09,4.56,3.01,1.81,3.59,3.05,3.63,1.48,2.92,1.81,3.37,2.21,5.45,3.2,4.73,3.21,3.8,4.12,5.46,1.48,3.77,2.9,3.57,1.08,3.02,5.57,2.4,3.5,5.23,3.36,2.96,2.08,3.68,4.69,4.01,2.53,2.87,3.52,4.07,1.2,3.23,4.09,4.02,4.21,2.02,4.24,4.63,3.0,1.82,4.08,3.69,2.19,3.21,1.98,3.35,3.53,2.97,2.62,2.8,2.96,4.35,3.87,4.62,2.73,3.54,3.13,5.14,3.13,3.18,3.83,4.81,4.05,4.54,3.48,2.63,4.79,2.76,2.16,4.2,2.14,3.43,3.14,3.53,5.04,3.61,2.9,5.71,5.05,4.78,2.97,2.67,3.62,4.24,2.48,3.51,3.31,3.54,1.13,3.23,3.35,3.22,3.79,3.56,2.93,3.05,2.74,2.78,4.33,3.42,3.34,4.66,3.22,3.77,3.42,6.12,3.49,4.08,2.83,5.41,3.45,2.94,4.75,3.53,3.9,2.4,2.85,3.78,4.35,4.57,4.62,3.01,4.79,4.33,1.43,4.14,2.91,3.98,3.7,5.84,4.56,4.49,3.86,3.05,4.65,4.02,3.97,3.74,3.38,4.6,2.22,4.29,2.12,0.94,3.76,4.0,3.53,3.54,4.16,3.55,4.13,4.05,3.07,4.33,3.94,0.27,3.28,2.57,3.83,2.4,4.03,3.63,3.19,3.39,2.57,3.47,4.2,2.09,3.61,4.03,2.32,3.49,5.32,3.13,4.99,1.73,3.7,1.79,3.02,4.04,3.14,2.56,2.38,4.3,2.09,4.09,3.52,1.82,4.18,3.39,4.43,2.91,2.78,3.45,4.71,1.23,4.02,1.71,3.16,3.45,2.21,5.41,2.77,3.75,3.58,4.96,2.34,2.74],\"y0\":\" \",\"yaxis\":\"y\",\"type\":\"box\"}],                        {\"template\":{\"data\":{\"histogram2dcontour\":[{\"type\":\"histogram2dcontour\",\"colorbar\":{\"outlinewidth\":0,\"ticks\":\"\"},\"colorscale\":[[0.0,\"#0d0887\"],[0.1111111111111111,\"#46039f\"],[0.2222222222222222,\"#7201a8\"],[0.3333333333333333,\"#9c179e\"],[0.4444444444444444,\"#bd3786\"],[0.5555555555555556,\"#d8576b\"],[0.6666666666666666,\"#ed7953\"],[0.7777777777777778,\"#fb9f3a\"],[0.8888888888888888,\"#fdca26\"],[1.0,\"#f0f921\"]]}],\"choropleth\":[{\"type\":\"choropleth\",\"colorbar\":{\"outlinewidth\":0,\"ticks\":\"\"}}],\"histogram2d\":[{\"type\":\"histogram2d\",\"colorbar\":{\"outlinewidth\":0,\"ticks\":\"\"},\"colorscale\":[[0.0,\"#0d0887\"],[0.1111111111111111,\"#46039f\"],[0.2222222222222222,\"#7201a8\"],[0.3333333333333333,\"#9c179e\"],[0.4444444444444444,\"#bd3786\"],[0.5555555555555556,\"#d8576b\"],[0.6666666666666666,\"#ed7953\"],[0.7777777777777778,\"#fb9f3a\"],[0.8888888888888888,\"#fdca26\"],[1.0,\"#f0f921\"]]}],\"heatmap\":[{\"type\":\"heatmap\",\"colorbar\":{\"outlinewidth\":0,\"ticks\":\"\"},\"colorscale\":[[0.0,\"#0d0887\"],[0.1111111111111111,\"#46039f\"],[0.2222222222222222,\"#7201a8\"],[0.3333333333333333,\"#9c179e\"],[0.4444444444444444,\"#bd3786\"],[0.5555555555555556,\"#d8576b\"],[0.6666666666666666,\"#ed7953\"],[0.7777777777777778,\"#fb9f3a\"],[0.8888888888888888,\"#fdca26\"],[1.0,\"#f0f921\"]]}],\"heatmapgl\":[{\"type\":\"heatmapgl\",\"colorbar\":{\"outlinewidth\":0,\"ticks\":\"\"},\"colorscale\":[[0.0,\"#0d0887\"],[0.1111111111111111,\"#46039f\"],[0.2222222222222222,\"#7201a8\"],[0.3333333333333333,\"#9c179e\"],[0.4444444444444444,\"#bd3786\"],[0.5555555555555556,\"#d8576b\"],[0.6666666666666666,\"#ed7953\"],[0.7777777777777778,\"#fb9f3a\"],[0.8888888888888888,\"#fdca26\"],[1.0,\"#f0f921\"]]}],\"contourcarpet\":[{\"type\":\"contourcarpet\",\"colorbar\":{\"outlinewidth\":0,\"ticks\":\"\"}}],\"contour\":[{\"type\":\"contour\",\"colorbar\":{\"outlinewidth\":0,\"ticks\":\"\"},\"colorscale\":[[0.0,\"#0d0887\"],[0.1111111111111111,\"#46039f\"],[0.2222222222222222,\"#7201a8\"],[0.3333333333333333,\"#9c179e\"],[0.4444444444444444,\"#bd3786\"],[0.5555555555555556,\"#d8576b\"],[0.6666666666666666,\"#ed7953\"],[0.7777777777777778,\"#fb9f3a\"],[0.8888888888888888,\"#fdca26\"],[1.0,\"#f0f921\"]]}],\"surface\":[{\"type\":\"surface\",\"colorbar\":{\"outlinewidth\":0,\"ticks\":\"\"},\"colorscale\":[[0.0,\"#0d0887\"],[0.1111111111111111,\"#46039f\"],[0.2222222222222222,\"#7201a8\"],[0.3333333333333333,\"#9c179e\"],[0.4444444444444444,\"#bd3786\"],[0.5555555555555556,\"#d8576b\"],[0.6666666666666666,\"#ed7953\"],[0.7777777777777778,\"#fb9f3a\"],[0.8888888888888888,\"#fdca26\"],[1.0,\"#f0f921\"]]}],\"mesh3d\":[{\"type\":\"mesh3d\",\"colorbar\":{\"outlinewidth\":0,\"ticks\":\"\"}}],\"scatter\":[{\"fillpattern\":{\"fillmode\":\"overlay\",\"size\":10,\"solidity\":0.2},\"type\":\"scatter\"}],\"parcoords\":[{\"type\":\"parcoords\",\"line\":{\"colorbar\":{\"outlinewidth\":0,\"ticks\":\"\"}}}],\"scatterpolargl\":[{\"type\":\"scatterpolargl\",\"marker\":{\"colorbar\":{\"outlinewidth\":0,\"ticks\":\"\"}}}],\"bar\":[{\"error_x\":{\"color\":\"#2a3f5f\"},\"error_y\":{\"color\":\"#2a3f5f\"},\"marker\":{\"line\":{\"color\":\"#E5ECF6\",\"width\":0.5},\"pattern\":{\"fillmode\":\"overlay\",\"size\":10,\"solidity\":0.2}},\"type\":\"bar\"}],\"scattergeo\":[{\"type\":\"scattergeo\",\"marker\":{\"colorbar\":{\"outlinewidth\":0,\"ticks\":\"\"}}}],\"scatterpolar\":[{\"type\":\"scatterpolar\",\"marker\":{\"colorbar\":{\"outlinewidth\":0,\"ticks\":\"\"}}}],\"histogram\":[{\"marker\":{\"pattern\":{\"fillmode\":\"overlay\",\"size\":10,\"solidity\":0.2}},\"type\":\"histogram\"}],\"scattergl\":[{\"type\":\"scattergl\",\"marker\":{\"colorbar\":{\"outlinewidth\":0,\"ticks\":\"\"}}}],\"scatter3d\":[{\"type\":\"scatter3d\",\"line\":{\"colorbar\":{\"outlinewidth\":0,\"ticks\":\"\"}},\"marker\":{\"colorbar\":{\"outlinewidth\":0,\"ticks\":\"\"}}}],\"scattermapbox\":[{\"type\":\"scattermapbox\",\"marker\":{\"colorbar\":{\"outlinewidth\":0,\"ticks\":\"\"}}}],\"scatterternary\":[{\"type\":\"scatterternary\",\"marker\":{\"colorbar\":{\"outlinewidth\":0,\"ticks\":\"\"}}}],\"scattercarpet\":[{\"type\":\"scattercarpet\",\"marker\":{\"colorbar\":{\"outlinewidth\":0,\"ticks\":\"\"}}}],\"carpet\":[{\"aaxis\":{\"endlinecolor\":\"#2a3f5f\",\"gridcolor\":\"white\",\"linecolor\":\"white\",\"minorgridcolor\":\"white\",\"startlinecolor\":\"#2a3f5f\"},\"baxis\":{\"endlinecolor\":\"#2a3f5f\",\"gridcolor\":\"white\",\"linecolor\":\"white\",\"minorgridcolor\":\"white\",\"startlinecolor\":\"#2a3f5f\"},\"type\":\"carpet\"}],\"table\":[{\"cells\":{\"fill\":{\"color\":\"#EBF0F8\"},\"line\":{\"color\":\"white\"}},\"header\":{\"fill\":{\"color\":\"#C8D4E3\"},\"line\":{\"color\":\"white\"}},\"type\":\"table\"}],\"barpolar\":[{\"marker\":{\"line\":{\"color\":\"#E5ECF6\",\"width\":0.5},\"pattern\":{\"fillmode\":\"overlay\",\"size\":10,\"solidity\":0.2}},\"type\":\"barpolar\"}],\"pie\":[{\"automargin\":true,\"type\":\"pie\"}]},\"layout\":{\"autotypenumbers\":\"strict\",\"colorway\":[\"#636efa\",\"#EF553B\",\"#00cc96\",\"#ab63fa\",\"#FFA15A\",\"#19d3f3\",\"#FF6692\",\"#B6E880\",\"#FF97FF\",\"#FECB52\"],\"font\":{\"color\":\"#2a3f5f\"},\"hovermode\":\"closest\",\"hoverlabel\":{\"align\":\"left\"},\"paper_bgcolor\":\"white\",\"plot_bgcolor\":\"#E5ECF6\",\"polar\":{\"bgcolor\":\"#E5ECF6\",\"angularaxis\":{\"gridcolor\":\"white\",\"linecolor\":\"white\",\"ticks\":\"\"},\"radialaxis\":{\"gridcolor\":\"white\",\"linecolor\":\"white\",\"ticks\":\"\"}},\"ternary\":{\"bgcolor\":\"#E5ECF6\",\"aaxis\":{\"gridcolor\":\"white\",\"linecolor\":\"white\",\"ticks\":\"\"},\"baxis\":{\"gridcolor\":\"white\",\"linecolor\":\"white\",\"ticks\":\"\"},\"caxis\":{\"gridcolor\":\"white\",\"linecolor\":\"white\",\"ticks\":\"\"}},\"coloraxis\":{\"colorbar\":{\"outlinewidth\":0,\"ticks\":\"\"}},\"colorscale\":{\"sequential\":[[0.0,\"#0d0887\"],[0.1111111111111111,\"#46039f\"],[0.2222222222222222,\"#7201a8\"],[0.3333333333333333,\"#9c179e\"],[0.4444444444444444,\"#bd3786\"],[0.5555555555555556,\"#d8576b\"],[0.6666666666666666,\"#ed7953\"],[0.7777777777777778,\"#fb9f3a\"],[0.8888888888888888,\"#fdca26\"],[1.0,\"#f0f921\"]],\"sequentialminus\":[[0.0,\"#0d0887\"],[0.1111111111111111,\"#46039f\"],[0.2222222222222222,\"#7201a8\"],[0.3333333333333333,\"#9c179e\"],[0.4444444444444444,\"#bd3786\"],[0.5555555555555556,\"#d8576b\"],[0.6666666666666666,\"#ed7953\"],[0.7777777777777778,\"#fb9f3a\"],[0.8888888888888888,\"#fdca26\"],[1.0,\"#f0f921\"]],\"diverging\":[[0,\"#8e0152\"],[0.1,\"#c51b7d\"],[0.2,\"#de77ae\"],[0.3,\"#f1b6da\"],[0.4,\"#fde0ef\"],[0.5,\"#f7f7f7\"],[0.6,\"#e6f5d0\"],[0.7,\"#b8e186\"],[0.8,\"#7fbc41\"],[0.9,\"#4d9221\"],[1,\"#276419\"]]},\"xaxis\":{\"gridcolor\":\"white\",\"linecolor\":\"white\",\"ticks\":\"\",\"title\":{\"standoff\":15},\"zerolinecolor\":\"white\",\"automargin\":true,\"zerolinewidth\":2},\"yaxis\":{\"gridcolor\":\"white\",\"linecolor\":\"white\",\"ticks\":\"\",\"title\":{\"standoff\":15},\"zerolinecolor\":\"white\",\"automargin\":true,\"zerolinewidth\":2},\"scene\":{\"xaxis\":{\"backgroundcolor\":\"#E5ECF6\",\"gridcolor\":\"white\",\"linecolor\":\"white\",\"showbackground\":true,\"ticks\":\"\",\"zerolinecolor\":\"white\",\"gridwidth\":2},\"yaxis\":{\"backgroundcolor\":\"#E5ECF6\",\"gridcolor\":\"white\",\"linecolor\":\"white\",\"showbackground\":true,\"ticks\":\"\",\"zerolinecolor\":\"white\",\"gridwidth\":2},\"zaxis\":{\"backgroundcolor\":\"#E5ECF6\",\"gridcolor\":\"white\",\"linecolor\":\"white\",\"showbackground\":true,\"ticks\":\"\",\"zerolinecolor\":\"white\",\"gridwidth\":2}},\"shapedefaults\":{\"line\":{\"color\":\"#2a3f5f\"}},\"annotationdefaults\":{\"arrowcolor\":\"#2a3f5f\",\"arrowhead\":0,\"arrowwidth\":1},\"geo\":{\"bgcolor\":\"white\",\"landcolor\":\"#E5ECF6\",\"subunitcolor\":\"white\",\"showland\":true,\"showlakes\":true,\"lakecolor\":\"white\"},\"title\":{\"x\":0.05},\"mapbox\":{\"style\":\"light\"}}},\"xaxis\":{\"anchor\":\"y\",\"domain\":[0.0,1.0]},\"yaxis\":{\"anchor\":\"x\",\"domain\":[0.0,1.0],\"title\":{\"text\":\"Length of Membership\"}},\"legend\":{\"tracegroupgap\":0},\"margin\":{\"t\":60},\"boxmode\":\"group\"},                        {\"responsive\": true}                    ).then(function(){\n",
       "                            \n",
       "var gd = document.getElementById('2f71add3-4590-45eb-8661-312fecaf8267');\n",
       "var x = new MutationObserver(function (mutations, observer) {{\n",
       "        var display = window.getComputedStyle(gd).display;\n",
       "        if (!display || display === 'none') {{\n",
       "            console.log([gd, 'removed!']);\n",
       "            Plotly.purge(gd);\n",
       "            observer.disconnect();\n",
       "        }}\n",
       "}});\n",
       "\n",
       "// Listen for the removal of the full notebook cells\n",
       "var notebookContainer = gd.closest('#notebook-container');\n",
       "if (notebookContainer) {{\n",
       "    x.observe(notebookContainer, {childList: true});\n",
       "}}\n",
       "\n",
       "// Listen for the clearing of the current output cell\n",
       "var outputEl = gd.closest('.output');\n",
       "if (outputEl) {{\n",
       "    x.observe(outputEl, {childList: true});\n",
       "}}\n",
       "\n",
       "                        })                };                });            </script>        </div>"
      ]
     },
     "metadata": {},
     "output_type": "display_data"
    }
   ],
   "source": [
    "px.box(df, y = 'Length of Membership' )"
   ]
  },
  {
   "cell_type": "code",
   "execution_count": 25,
   "id": "04ec5510-5cfa-44ab-99e9-858a7f16a3f8",
   "metadata": {},
   "outputs": [],
   "source": [
    "df = df[(df['Length of Membership'] >= 1.2) & (df['Length of Membership'] <= 5.84)]"
   ]
  },
  {
   "cell_type": "code",
   "execution_count": 28,
   "id": "d8abb82c-4f1f-46cb-862b-248a4d2be0a0",
   "metadata": {},
   "outputs": [],
   "source": [
    "df_clean = df.copy()"
   ]
  },
  {
   "cell_type": "code",
   "execution_count": 29,
   "id": "50c097b5-6910-47ed-b6bc-19928e0c8247",
   "metadata": {},
   "outputs": [
    {
     "data": {
      "text/html": [
       "<div>\n",
       "<style scoped>\n",
       "    .dataframe tbody tr th:only-of-type {\n",
       "        vertical-align: middle;\n",
       "    }\n",
       "\n",
       "    .dataframe tbody tr th {\n",
       "        vertical-align: top;\n",
       "    }\n",
       "\n",
       "    .dataframe thead th {\n",
       "        text-align: right;\n",
       "    }\n",
       "</style>\n",
       "<table border=\"1\" class=\"dataframe\">\n",
       "  <thead>\n",
       "    <tr style=\"text-align: right;\">\n",
       "      <th></th>\n",
       "      <th>\\tEmail</th>\n",
       "      <th>Address</th>\n",
       "      <th>Avatar</th>\n",
       "      <th>Time on App</th>\n",
       "      <th>Time on Website</th>\n",
       "      <th>Length of Membership</th>\n",
       "      <th>Yearly Amount Spent</th>\n",
       "    </tr>\n",
       "  </thead>\n",
       "  <tbody>\n",
       "    <tr>\n",
       "      <th>0</th>\n",
       "      <td>mstephenson@fernandez.com</td>\n",
       "      <td>835 Frank TunnelWrightmouth, MI 82180-9605</td>\n",
       "      <td>Violet</td>\n",
       "      <td>12.66</td>\n",
       "      <td>39.58</td>\n",
       "      <td>4.08</td>\n",
       "      <td>587.95</td>\n",
       "    </tr>\n",
       "    <tr>\n",
       "      <th>1</th>\n",
       "      <td>hduke@hotmail.com</td>\n",
       "      <td>4547 Archer CommonDiazchester, CA 06566-8576</td>\n",
       "      <td>DarkGreen</td>\n",
       "      <td>11.11</td>\n",
       "      <td>37.27</td>\n",
       "      <td>2.66</td>\n",
       "      <td>392.20</td>\n",
       "    </tr>\n",
       "    <tr>\n",
       "      <th>2</th>\n",
       "      <td>pallen@yahoo.com</td>\n",
       "      <td>24645 Valerie Unions Suite 582Cobbborough, DC ...</td>\n",
       "      <td>Bisque</td>\n",
       "      <td>11.33</td>\n",
       "      <td>37.11</td>\n",
       "      <td>4.10</td>\n",
       "      <td>487.55</td>\n",
       "    </tr>\n",
       "    <tr>\n",
       "      <th>3</th>\n",
       "      <td>riverarebecca@gmail.com</td>\n",
       "      <td>1414 David ThroughwayPort Jason, OH 22070-1220</td>\n",
       "      <td>SaddleBrown</td>\n",
       "      <td>13.72</td>\n",
       "      <td>36.72</td>\n",
       "      <td>3.12</td>\n",
       "      <td>581.85</td>\n",
       "    </tr>\n",
       "    <tr>\n",
       "      <th>4</th>\n",
       "      <td>mstephens@davidson-herman.com</td>\n",
       "      <td>14023 Rodriguez PassagePort Jacobville, PR 372...</td>\n",
       "      <td>MediumAquaMarine</td>\n",
       "      <td>12.80</td>\n",
       "      <td>37.54</td>\n",
       "      <td>4.45</td>\n",
       "      <td>599.41</td>\n",
       "    </tr>\n",
       "    <tr>\n",
       "      <th>...</th>\n",
       "      <td>...</td>\n",
       "      <td>...</td>\n",
       "      <td>...</td>\n",
       "      <td>...</td>\n",
       "      <td>...</td>\n",
       "      <td>...</td>\n",
       "      <td>...</td>\n",
       "    </tr>\n",
       "    <tr>\n",
       "      <th>495</th>\n",
       "      <td>lewisjessica@craig-evans.com</td>\n",
       "      <td>4483 Jones Motorway Suite 872Lake Jamiefurt, U...</td>\n",
       "      <td>Tan</td>\n",
       "      <td>13.57</td>\n",
       "      <td>36.42</td>\n",
       "      <td>3.75</td>\n",
       "      <td>573.85</td>\n",
       "    </tr>\n",
       "    <tr>\n",
       "      <th>496</th>\n",
       "      <td>katrina56@gmail.com</td>\n",
       "      <td>172 Owen Divide Suite 497West Richard, CA 19320</td>\n",
       "      <td>PaleVioletRed</td>\n",
       "      <td>11.70</td>\n",
       "      <td>37.19</td>\n",
       "      <td>3.58</td>\n",
       "      <td>529.05</td>\n",
       "    </tr>\n",
       "    <tr>\n",
       "      <th>497</th>\n",
       "      <td>dale88@hotmail.com</td>\n",
       "      <td>0787 Andrews Ranch Apt. 633South Chadburgh, TN...</td>\n",
       "      <td>Cornsilk</td>\n",
       "      <td>11.50</td>\n",
       "      <td>38.33</td>\n",
       "      <td>4.96</td>\n",
       "      <td>551.62</td>\n",
       "    </tr>\n",
       "    <tr>\n",
       "      <th>498</th>\n",
       "      <td>cwilson@hotmail.com</td>\n",
       "      <td>680 Jennifer Lodge Apt. 808Brendachester, TX 0...</td>\n",
       "      <td>Teal</td>\n",
       "      <td>12.39</td>\n",
       "      <td>36.84</td>\n",
       "      <td>2.34</td>\n",
       "      <td>456.47</td>\n",
       "    </tr>\n",
       "    <tr>\n",
       "      <th>499</th>\n",
       "      <td>hannahwilson@davidson.com</td>\n",
       "      <td>49791 Rachel Heights Apt. 898East Drewborough,...</td>\n",
       "      <td>DarkMagenta</td>\n",
       "      <td>12.42</td>\n",
       "      <td>35.77</td>\n",
       "      <td>2.74</td>\n",
       "      <td>497.78</td>\n",
       "    </tr>\n",
       "  </tbody>\n",
       "</table>\n",
       "<p>482 rows × 7 columns</p>\n",
       "</div>"
      ],
      "text/plain": [
       "                           \\tEmail  \\\n",
       "0        mstephenson@fernandez.com   \n",
       "1                hduke@hotmail.com   \n",
       "2                 pallen@yahoo.com   \n",
       "3          riverarebecca@gmail.com   \n",
       "4    mstephens@davidson-herman.com   \n",
       "..                             ...   \n",
       "495   lewisjessica@craig-evans.com   \n",
       "496            katrina56@gmail.com   \n",
       "497             dale88@hotmail.com   \n",
       "498            cwilson@hotmail.com   \n",
       "499      hannahwilson@davidson.com   \n",
       "\n",
       "                                               Address            Avatar  \\\n",
       "0           835 Frank TunnelWrightmouth, MI 82180-9605            Violet   \n",
       "1         4547 Archer CommonDiazchester, CA 06566-8576         DarkGreen   \n",
       "2    24645 Valerie Unions Suite 582Cobbborough, DC ...            Bisque   \n",
       "3       1414 David ThroughwayPort Jason, OH 22070-1220       SaddleBrown   \n",
       "4    14023 Rodriguez PassagePort Jacobville, PR 372...  MediumAquaMarine   \n",
       "..                                                 ...               ...   \n",
       "495  4483 Jones Motorway Suite 872Lake Jamiefurt, U...               Tan   \n",
       "496    172 Owen Divide Suite 497West Richard, CA 19320     PaleVioletRed   \n",
       "497  0787 Andrews Ranch Apt. 633South Chadburgh, TN...          Cornsilk   \n",
       "498  680 Jennifer Lodge Apt. 808Brendachester, TX 0...              Teal   \n",
       "499  49791 Rachel Heights Apt. 898East Drewborough,...       DarkMagenta   \n",
       "\n",
       "     Time on App  Time on Website  Length of Membership  Yearly Amount Spent  \n",
       "0          12.66            39.58                  4.08               587.95  \n",
       "1          11.11            37.27                  2.66               392.20  \n",
       "2          11.33            37.11                  4.10               487.55  \n",
       "3          13.72            36.72                  3.12               581.85  \n",
       "4          12.80            37.54                  4.45               599.41  \n",
       "..           ...              ...                   ...                  ...  \n",
       "495        13.57            36.42                  3.75               573.85  \n",
       "496        11.70            37.19                  3.58               529.05  \n",
       "497        11.50            38.33                  4.96               551.62  \n",
       "498        12.39            36.84                  2.34               456.47  \n",
       "499        12.42            35.77                  2.74               497.78  \n",
       "\n",
       "[482 rows x 7 columns]"
      ]
     },
     "execution_count": 29,
     "metadata": {},
     "output_type": "execute_result"
    }
   ],
   "source": [
    "df_clean"
   ]
  },
  {
   "cell_type": "markdown",
   "id": "4d94029d-5bce-4055-8ff8-9186c9adeebe",
   "metadata": {
    "tags": []
   },
   "source": [
    "# Univariate Analysis"
   ]
  },
  {
   "cell_type": "markdown",
   "id": "4d420e2a-bd46-4a79-a1b1-b95c9c5d3fe4",
   "metadata": {
    "tags": []
   },
   "source": [
    "## Popular Avatar"
   ]
  },
  {
   "cell_type": "code",
   "execution_count": 83,
   "id": "b46a66a2-b4a8-474f-94e1-a78e18465a2f",
   "metadata": {},
   "outputs": [
    {
     "data": {
      "text/html": [
       "<div>\n",
       "<style scoped>\n",
       "    .dataframe tbody tr th:only-of-type {\n",
       "        vertical-align: middle;\n",
       "    }\n",
       "\n",
       "    .dataframe tbody tr th {\n",
       "        vertical-align: top;\n",
       "    }\n",
       "\n",
       "    .dataframe thead th {\n",
       "        text-align: right;\n",
       "    }\n",
       "</style>\n",
       "<table border=\"1\" class=\"dataframe\">\n",
       "  <thead>\n",
       "    <tr style=\"text-align: right;\">\n",
       "      <th></th>\n",
       "      <th>Avatar</th>\n",
       "      <th>Count</th>\n",
       "    </tr>\n",
       "  </thead>\n",
       "  <tbody>\n",
       "    <tr>\n",
       "      <th>0</th>\n",
       "      <td>CadetBlue</td>\n",
       "      <td>7</td>\n",
       "    </tr>\n",
       "    <tr>\n",
       "      <th>1</th>\n",
       "      <td>SlateBlue</td>\n",
       "      <td>7</td>\n",
       "    </tr>\n",
       "    <tr>\n",
       "      <th>2</th>\n",
       "      <td>Cyan</td>\n",
       "      <td>7</td>\n",
       "    </tr>\n",
       "    <tr>\n",
       "      <th>3</th>\n",
       "      <td>Teal</td>\n",
       "      <td>7</td>\n",
       "    </tr>\n",
       "    <tr>\n",
       "      <th>4</th>\n",
       "      <td>GreenYellow</td>\n",
       "      <td>7</td>\n",
       "    </tr>\n",
       "    <tr>\n",
       "      <th>5</th>\n",
       "      <td>SaddleBrown</td>\n",
       "      <td>6</td>\n",
       "    </tr>\n",
       "    <tr>\n",
       "      <th>6</th>\n",
       "      <td>DarkViolet</td>\n",
       "      <td>6</td>\n",
       "    </tr>\n",
       "    <tr>\n",
       "      <th>7</th>\n",
       "      <td>DarkGoldenRod</td>\n",
       "      <td>6</td>\n",
       "    </tr>\n",
       "    <tr>\n",
       "      <th>8</th>\n",
       "      <td>Purple</td>\n",
       "      <td>6</td>\n",
       "    </tr>\n",
       "    <tr>\n",
       "      <th>9</th>\n",
       "      <td>PeachPuff</td>\n",
       "      <td>6</td>\n",
       "    </tr>\n",
       "    <tr>\n",
       "      <th>10</th>\n",
       "      <td>Orange</td>\n",
       "      <td>6</td>\n",
       "    </tr>\n",
       "    <tr>\n",
       "      <th>11</th>\n",
       "      <td>DeepPink</td>\n",
       "      <td>6</td>\n",
       "    </tr>\n",
       "    <tr>\n",
       "      <th>12</th>\n",
       "      <td>Moccasin</td>\n",
       "      <td>6</td>\n",
       "    </tr>\n",
       "    <tr>\n",
       "      <th>13</th>\n",
       "      <td>BlueViolet</td>\n",
       "      <td>6</td>\n",
       "    </tr>\n",
       "    <tr>\n",
       "      <th>14</th>\n",
       "      <td>Turquoise</td>\n",
       "      <td>6</td>\n",
       "    </tr>\n",
       "    <tr>\n",
       "      <th>15</th>\n",
       "      <td>LightSkyBlue</td>\n",
       "      <td>6</td>\n",
       "    </tr>\n",
       "    <tr>\n",
       "      <th>16</th>\n",
       "      <td>Aqua</td>\n",
       "      <td>6</td>\n",
       "    </tr>\n",
       "    <tr>\n",
       "      <th>17</th>\n",
       "      <td>DarkSeaGreen</td>\n",
       "      <td>6</td>\n",
       "    </tr>\n",
       "    <tr>\n",
       "      <th>18</th>\n",
       "      <td>Olive</td>\n",
       "      <td>5</td>\n",
       "    </tr>\n",
       "    <tr>\n",
       "      <th>19</th>\n",
       "      <td>OliveDrab</td>\n",
       "      <td>5</td>\n",
       "    </tr>\n",
       "  </tbody>\n",
       "</table>\n",
       "</div>"
      ],
      "text/plain": [
       "           Avatar  Count\n",
       "0       CadetBlue      7\n",
       "1       SlateBlue      7\n",
       "2            Cyan      7\n",
       "3            Teal      7\n",
       "4     GreenYellow      7\n",
       "5     SaddleBrown      6\n",
       "6      DarkViolet      6\n",
       "7   DarkGoldenRod      6\n",
       "8          Purple      6\n",
       "9       PeachPuff      6\n",
       "10         Orange      6\n",
       "11       DeepPink      6\n",
       "12       Moccasin      6\n",
       "13     BlueViolet      6\n",
       "14      Turquoise      6\n",
       "15   LightSkyBlue      6\n",
       "16           Aqua      6\n",
       "17   DarkSeaGreen      6\n",
       "18          Olive      5\n",
       "19      OliveDrab      5"
      ]
     },
     "execution_count": 83,
     "metadata": {},
     "output_type": "execute_result"
    }
   ],
   "source": [
    "# Avatar\n",
    "df_avatar = df_clean.groupby('Avatar').count().reset_index().sort_values('Address' , ascending = False).head(20)\n",
    "df_avatar.rename(columns = {'Address' : 'Count'} , inplace = True)\n",
    "df_avatar = df_avatar[['Avatar','Count']].reset_index()\n",
    "df_avatar.drop(columns = 'index' , inplace = True)\n",
    "df_avatar"
   ]
  },
  {
   "cell_type": "code",
   "execution_count": 103,
   "id": "583dfa29-cbaa-4ff1-a2c1-a5aa65e8f385",
   "metadata": {},
   "outputs": [
    {
     "data": {
      "image/png": "[encoded data removed]",
      "text/plain": [
       "<Figure size 640x480 with 1 Axes>"
      ]
     },
     "metadata": {},
     "output_type": "display_data"
    }
   ],
   "source": [
    "sns.barplot(x = df_avatar.Avatar , y = df_avatar.Count)\n",
    "plt.xticks(rotation=90);"
   ]
  },
  {
   "cell_type": "markdown",
   "id": "c5981319-626f-41ad-892c-346e701fb3b2",
   "metadata": {
    "tags": []
   },
   "source": [
    "## Time on app / website / Length of Membership and Yearly Amount Spent Distribution"
   ]
  },
  {
   "cell_type": "code",
   "execution_count": 104,
   "id": "092d3391-d76c-4dcc-9027-ccc1117b6767",
   "metadata": {},
   "outputs": [
    {
     "data": {
      "text/html": [
       "<div>\n",
       "<style scoped>\n",
       "    .dataframe tbody tr th:only-of-type {\n",
       "        vertical-align: middle;\n",
       "    }\n",
       "\n",
       "    .dataframe tbody tr th {\n",
       "        vertical-align: top;\n",
       "    }\n",
       "\n",
       "    .dataframe thead th {\n",
       "        text-align: right;\n",
       "    }\n",
       "</style>\n",
       "<table border=\"1\" class=\"dataframe\">\n",
       "  <thead>\n",
       "    <tr style=\"text-align: right;\">\n",
       "      <th></th>\n",
       "      <th>\\tEmail</th>\n",
       "      <th>Address</th>\n",
       "      <th>Avatar</th>\n",
       "      <th>Time on App</th>\n",
       "      <th>Time on Website</th>\n",
       "      <th>Length of Membership</th>\n",
       "      <th>Yearly Amount Spent</th>\n",
       "    </tr>\n",
       "  </thead>\n",
       "  <tbody>\n",
       "    <tr>\n",
       "      <th>0</th>\n",
       "      <td>mstephenson@fernandez.com</td>\n",
       "      <td>835 Frank TunnelWrightmouth, MI 82180-9605</td>\n",
       "      <td>Violet</td>\n",
       "      <td>12.66</td>\n",
       "      <td>39.58</td>\n",
       "      <td>4.08</td>\n",
       "      <td>587.95</td>\n",
       "    </tr>\n",
       "    <tr>\n",
       "      <th>1</th>\n",
       "      <td>hduke@hotmail.com</td>\n",
       "      <td>4547 Archer CommonDiazchester, CA 06566-8576</td>\n",
       "      <td>DarkGreen</td>\n",
       "      <td>11.11</td>\n",
       "      <td>37.27</td>\n",
       "      <td>2.66</td>\n",
       "      <td>392.20</td>\n",
       "    </tr>\n",
       "    <tr>\n",
       "      <th>2</th>\n",
       "      <td>pallen@yahoo.com</td>\n",
       "      <td>24645 Valerie Unions Suite 582Cobbborough, DC ...</td>\n",
       "      <td>Bisque</td>\n",
       "      <td>11.33</td>\n",
       "      <td>37.11</td>\n",
       "      <td>4.10</td>\n",
       "      <td>487.55</td>\n",
       "    </tr>\n",
       "    <tr>\n",
       "      <th>3</th>\n",
       "      <td>riverarebecca@gmail.com</td>\n",
       "      <td>1414 David ThroughwayPort Jason, OH 22070-1220</td>\n",
       "      <td>SaddleBrown</td>\n",
       "      <td>13.72</td>\n",
       "      <td>36.72</td>\n",
       "      <td>3.12</td>\n",
       "      <td>581.85</td>\n",
       "    </tr>\n",
       "    <tr>\n",
       "      <th>4</th>\n",
       "      <td>mstephens@davidson-herman.com</td>\n",
       "      <td>14023 Rodriguez PassagePort Jacobville, PR 372...</td>\n",
       "      <td>MediumAquaMarine</td>\n",
       "      <td>12.80</td>\n",
       "      <td>37.54</td>\n",
       "      <td>4.45</td>\n",
       "      <td>599.41</td>\n",
       "    </tr>\n",
       "    <tr>\n",
       "      <th>...</th>\n",
       "      <td>...</td>\n",
       "      <td>...</td>\n",
       "      <td>...</td>\n",
       "      <td>...</td>\n",
       "      <td>...</td>\n",
       "      <td>...</td>\n",
       "      <td>...</td>\n",
       "    </tr>\n",
       "    <tr>\n",
       "      <th>495</th>\n",
       "      <td>lewisjessica@craig-evans.com</td>\n",
       "      <td>4483 Jones Motorway Suite 872Lake Jamiefurt, U...</td>\n",
       "      <td>Tan</td>\n",
       "      <td>13.57</td>\n",
       "      <td>36.42</td>\n",
       "      <td>3.75</td>\n",
       "      <td>573.85</td>\n",
       "    </tr>\n",
       "    <tr>\n",
       "      <th>496</th>\n",
       "      <td>katrina56@gmail.com</td>\n",
       "      <td>172 Owen Divide Suite 497West Richard, CA 19320</td>\n",
       "      <td>PaleVioletRed</td>\n",
       "      <td>11.70</td>\n",
       "      <td>37.19</td>\n",
       "      <td>3.58</td>\n",
       "      <td>529.05</td>\n",
       "    </tr>\n",
       "    <tr>\n",
       "      <th>497</th>\n",
       "      <td>dale88@hotmail.com</td>\n",
       "      <td>0787 Andrews Ranch Apt. 633South Chadburgh, TN...</td>\n",
       "      <td>Cornsilk</td>\n",
       "      <td>11.50</td>\n",
       "      <td>38.33</td>\n",
       "      <td>4.96</td>\n",
       "      <td>551.62</td>\n",
       "    </tr>\n",
       "    <tr>\n",
       "      <th>498</th>\n",
       "      <td>cwilson@hotmail.com</td>\n",
       "      <td>680 Jennifer Lodge Apt. 808Brendachester, TX 0...</td>\n",
       "      <td>Teal</td>\n",
       "      <td>12.39</td>\n",
       "      <td>36.84</td>\n",
       "      <td>2.34</td>\n",
       "      <td>456.47</td>\n",
       "    </tr>\n",
       "    <tr>\n",
       "      <th>499</th>\n",
       "      <td>hannahwilson@davidson.com</td>\n",
       "      <td>49791 Rachel Heights Apt. 898East Drewborough,...</td>\n",
       "      <td>DarkMagenta</td>\n",
       "      <td>12.42</td>\n",
       "      <td>35.77</td>\n",
       "      <td>2.74</td>\n",
       "      <td>497.78</td>\n",
       "    </tr>\n",
       "  </tbody>\n",
       "</table>\n",
       "<p>482 rows × 7 columns</p>\n",
       "</div>"
      ],
      "text/plain": [
       "                           \\tEmail  \\\n",
       "0        mstephenson@fernandez.com   \n",
       "1                hduke@hotmail.com   \n",
       "2                 pallen@yahoo.com   \n",
       "3          riverarebecca@gmail.com   \n",
       "4    mstephens@davidson-herman.com   \n",
       "..                             ...   \n",
       "495   lewisjessica@craig-evans.com   \n",
       "496            katrina56@gmail.com   \n",
       "497             dale88@hotmail.com   \n",
       "498            cwilson@hotmail.com   \n",
       "499      hannahwilson@davidson.com   \n",
       "\n",
       "                                               Address            Avatar  \\\n",
       "0           835 Frank TunnelWrightmouth, MI 82180-9605            Violet   \n",
       "1         4547 Archer CommonDiazchester, CA 06566-8576         DarkGreen   \n",
       "2    24645 Valerie Unions Suite 582Cobbborough, DC ...            Bisque   \n",
       "3       1414 David ThroughwayPort Jason, OH 22070-1220       SaddleBrown   \n",
       "4    14023 Rodriguez PassagePort Jacobville, PR 372...  MediumAquaMarine   \n",
       "..                                                 ...               ...   \n",
       "495  4483 Jones Motorway Suite 872Lake Jamiefurt, U...               Tan   \n",
       "496    172 Owen Divide Suite 497West Richard, CA 19320     PaleVioletRed   \n",
       "497  0787 Andrews Ranch Apt. 633South Chadburgh, TN...          Cornsilk   \n",
       "498  680 Jennifer Lodge Apt. 808Brendachester, TX 0...              Teal   \n",
       "499  49791 Rachel Heights Apt. 898East Drewborough,...       DarkMagenta   \n",
       "\n",
       "     Time on App  Time on Website  Length of Membership  Yearly Amount Spent  \n",
       "0          12.66            39.58                  4.08               587.95  \n",
       "1          11.11            37.27                  2.66               392.20  \n",
       "2          11.33            37.11                  4.10               487.55  \n",
       "3          13.72            36.72                  3.12               581.85  \n",
       "4          12.80            37.54                  4.45               599.41  \n",
       "..           ...              ...                   ...                  ...  \n",
       "495        13.57            36.42                  3.75               573.85  \n",
       "496        11.70            37.19                  3.58               529.05  \n",
       "497        11.50            38.33                  4.96               551.62  \n",
       "498        12.39            36.84                  2.34               456.47  \n",
       "499        12.42            35.77                  2.74               497.78  \n",
       "\n",
       "[482 rows x 7 columns]"
      ]
     },
     "execution_count": 104,
     "metadata": {},
     "output_type": "execute_result"
    }
   ],
   "source": [
    "df_clean"
   ]
  },
  {
   "cell_type": "code",
   "execution_count": 96,
   "id": "da0fcea7-cc75-453e-b0e4-fc1d29e4c354",
   "metadata": {},
   "outputs": [
    {
     "data": {
      "text/plain": [
       "<Axes: xlabel='Time on Website', ylabel='Count'>"
      ]
     },
     "execution_count": 96,
     "metadata": {},
     "output_type": "execute_result"
    },
    {
     "data": {
      "image/png": "[encoded data removed]",
      "text/plain": [
       "<Figure size 640x480 with 1 Axes>"
      ]
     },
     "metadata": {},
     "output_type": "display_data"
    }
   ],
   "source": [
    "sns.histplot(df_clean , x = 'Time on Website' , kde = True)"
   ]
  },
  {
   "cell_type": "code",
   "execution_count": 97,
   "id": "e5378d88-6c88-4e5a-a47a-8bf15784b092",
   "metadata": {},
   "outputs": [
    {
     "data": {
      "text/plain": [
       "<Axes: xlabel='Length of Membership', ylabel='Count'>"
      ]
     },
     "execution_count": 97,
     "metadata": {},
     "output_type": "execute_result"
    },
    {
     "data": {
      "image/png": "[encoded data removed]",
      "text/plain": [
       "<Figure size 640x480 with 1 Axes>"
      ]
     },
     "metadata": {},
     "output_type": "display_data"
    }
   ],
   "source": [
    "sns.histplot(df_clean , x = 'Length of Membership' , kde = True)"
   ]
  },
  {
   "cell_type": "code",
   "execution_count": 95,
   "id": "78ca6858-aeeb-482c-95e2-0fb15eee7de2",
   "metadata": {},
   "outputs": [
    {
     "data": {
      "text/plain": [
       "<Axes: xlabel='Yearly Amount Spent', ylabel='Count'>"
      ]
     },
     "execution_count": 95,
     "metadata": {},
     "output_type": "execute_result"
    },
    {
     "data": {
      "image/png": "[encoded data removed]",
      "text/plain": [
       "<Figure size 640x480 with 1 Axes>"
      ]
     },
     "metadata": {},
     "output_type": "display_data"
    }
   ],
   "source": [
    "sns.histplot(df_clean , x = 'Yearly Amount Spent' , kde = True)"
   ]
  },
  {
   "cell_type": "markdown",
   "id": "268cc34e-15fb-45ed-8b4b-b0db682a947f",
   "metadata": {},
   "source": [
    "## Multivariate Analysis"
   ]
  },
  {
   "cell_type": "code",
   "execution_count": 135,
   "id": "29e65523-abff-4aa3-bb22-a6ac59c691d3",
   "metadata": {},
   "outputs": [
    {
     "data": {
      "text/html": [
       "<div>\n",
       "<style scoped>\n",
       "    .dataframe tbody tr th:only-of-type {\n",
       "        vertical-align: middle;\n",
       "    }\n",
       "\n",
       "    .dataframe tbody tr th {\n",
       "        vertical-align: top;\n",
       "    }\n",
       "\n",
       "    .dataframe thead th {\n",
       "        text-align: right;\n",
       "    }\n",
       "</style>\n",
       "<table border=\"1\" class=\"dataframe\">\n",
       "  <thead>\n",
       "    <tr style=\"text-align: right;\">\n",
       "      <th></th>\n",
       "      <th>\\tEmail</th>\n",
       "      <th>Address</th>\n",
       "      <th>Avatar</th>\n",
       "      <th>Time on App</th>\n",
       "      <th>Time on Website</th>\n",
       "      <th>Length of Membership</th>\n",
       "      <th>Yearly Amount Spent</th>\n",
       "    </tr>\n",
       "  </thead>\n",
       "  <tbody>\n",
       "    <tr>\n",
       "      <th>0</th>\n",
       "      <td>mstephenson@fernandez.com</td>\n",
       "      <td>835 Frank TunnelWrightmouth, MI 82180-9605</td>\n",
       "      <td>Violet</td>\n",
       "      <td>12.66</td>\n",
       "      <td>39.58</td>\n",
       "      <td>4.08</td>\n",
       "      <td>587.95</td>\n",
       "    </tr>\n",
       "    <tr>\n",
       "      <th>1</th>\n",
       "      <td>hduke@hotmail.com</td>\n",
       "      <td>4547 Archer CommonDiazchester, CA 06566-8576</td>\n",
       "      <td>DarkGreen</td>\n",
       "      <td>11.11</td>\n",
       "      <td>37.27</td>\n",
       "      <td>2.66</td>\n",
       "      <td>392.20</td>\n",
       "    </tr>\n",
       "    <tr>\n",
       "      <th>2</th>\n",
       "      <td>pallen@yahoo.com</td>\n",
       "      <td>24645 Valerie Unions Suite 582Cobbborough, DC ...</td>\n",
       "      <td>Bisque</td>\n",
       "      <td>11.33</td>\n",
       "      <td>37.11</td>\n",
       "      <td>4.10</td>\n",
       "      <td>487.55</td>\n",
       "    </tr>\n",
       "    <tr>\n",
       "      <th>3</th>\n",
       "      <td>riverarebecca@gmail.com</td>\n",
       "      <td>1414 David ThroughwayPort Jason, OH 22070-1220</td>\n",
       "      <td>SaddleBrown</td>\n",
       "      <td>13.72</td>\n",
       "      <td>36.72</td>\n",
       "      <td>3.12</td>\n",
       "      <td>581.85</td>\n",
       "    </tr>\n",
       "    <tr>\n",
       "      <th>4</th>\n",
       "      <td>mstephens@davidson-herman.com</td>\n",
       "      <td>14023 Rodriguez PassagePort Jacobville, PR 372...</td>\n",
       "      <td>MediumAquaMarine</td>\n",
       "      <td>12.80</td>\n",
       "      <td>37.54</td>\n",
       "      <td>4.45</td>\n",
       "      <td>599.41</td>\n",
       "    </tr>\n",
       "    <tr>\n",
       "      <th>...</th>\n",
       "      <td>...</td>\n",
       "      <td>...</td>\n",
       "      <td>...</td>\n",
       "      <td>...</td>\n",
       "      <td>...</td>\n",
       "      <td>...</td>\n",
       "      <td>...</td>\n",
       "    </tr>\n",
       "    <tr>\n",
       "      <th>495</th>\n",
       "      <td>lewisjessica@craig-evans.com</td>\n",
       "      <td>4483 Jones Motorway Suite 872Lake Jamiefurt, U...</td>\n",
       "      <td>Tan</td>\n",
       "      <td>13.57</td>\n",
       "      <td>36.42</td>\n",
       "      <td>3.75</td>\n",
       "      <td>573.85</td>\n",
       "    </tr>\n",
       "    <tr>\n",
       "      <th>496</th>\n",
       "      <td>katrina56@gmail.com</td>\n",
       "      <td>172 Owen Divide Suite 497West Richard, CA 19320</td>\n",
       "      <td>PaleVioletRed</td>\n",
       "      <td>11.70</td>\n",
       "      <td>37.19</td>\n",
       "      <td>3.58</td>\n",
       "      <td>529.05</td>\n",
       "    </tr>\n",
       "    <tr>\n",
       "      <th>497</th>\n",
       "      <td>dale88@hotmail.com</td>\n",
       "      <td>0787 Andrews Ranch Apt. 633South Chadburgh, TN...</td>\n",
       "      <td>Cornsilk</td>\n",
       "      <td>11.50</td>\n",
       "      <td>38.33</td>\n",
       "      <td>4.96</td>\n",
       "      <td>551.62</td>\n",
       "    </tr>\n",
       "    <tr>\n",
       "      <th>498</th>\n",
       "      <td>cwilson@hotmail.com</td>\n",
       "      <td>680 Jennifer Lodge Apt. 808Brendachester, TX 0...</td>\n",
       "      <td>Teal</td>\n",
       "      <td>12.39</td>\n",
       "      <td>36.84</td>\n",
       "      <td>2.34</td>\n",
       "      <td>456.47</td>\n",
       "    </tr>\n",
       "    <tr>\n",
       "      <th>499</th>\n",
       "      <td>hannahwilson@davidson.com</td>\n",
       "      <td>49791 Rachel Heights Apt. 898East Drewborough,...</td>\n",
       "      <td>DarkMagenta</td>\n",
       "      <td>12.42</td>\n",
       "      <td>35.77</td>\n",
       "      <td>2.74</td>\n",
       "      <td>497.78</td>\n",
       "    </tr>\n",
       "  </tbody>\n",
       "</table>\n",
       "<p>482 rows × 7 columns</p>\n",
       "</div>"
      ],
      "text/plain": [
       "                           \\tEmail  \\\n",
       "0        mstephenson@fernandez.com   \n",
       "1                hduke@hotmail.com   \n",
       "2                 pallen@yahoo.com   \n",
       "3          riverarebecca@gmail.com   \n",
       "4    mstephens@davidson-herman.com   \n",
       "..                             ...   \n",
       "495   lewisjessica@craig-evans.com   \n",
       "496            katrina56@gmail.com   \n",
       "497             dale88@hotmail.com   \n",
       "498            cwilson@hotmail.com   \n",
       "499      hannahwilson@davidson.com   \n",
       "\n",
       "                                               Address            Avatar  \\\n",
       "0           835 Frank TunnelWrightmouth, MI 82180-9605            Violet   \n",
       "1         4547 Archer CommonDiazchester, CA 06566-8576         DarkGreen   \n",
       "2    24645 Valerie Unions Suite 582Cobbborough, DC ...            Bisque   \n",
       "3       1414 David ThroughwayPort Jason, OH 22070-1220       SaddleBrown   \n",
       "4    14023 Rodriguez PassagePort Jacobville, PR 372...  MediumAquaMarine   \n",
       "..                                                 ...               ...   \n",
       "495  4483 Jones Motorway Suite 872Lake Jamiefurt, U...               Tan   \n",
       "496    172 Owen Divide Suite 497West Richard, CA 19320     PaleVioletRed   \n",
       "497  0787 Andrews Ranch Apt. 633South Chadburgh, TN...          Cornsilk   \n",
       "498  680 Jennifer Lodge Apt. 808Brendachester, TX 0...              Teal   \n",
       "499  49791 Rachel Heights Apt. 898East Drewborough,...       DarkMagenta   \n",
       "\n",
       "     Time on App  Time on Website  Length of Membership  Yearly Amount Spent  \n",
       "0          12.66            39.58                  4.08               587.95  \n",
       "1          11.11            37.27                  2.66               392.20  \n",
       "2          11.33            37.11                  4.10               487.55  \n",
       "3          13.72            36.72                  3.12               581.85  \n",
       "4          12.80            37.54                  4.45               599.41  \n",
       "..           ...              ...                   ...                  ...  \n",
       "495        13.57            36.42                  3.75               573.85  \n",
       "496        11.70            37.19                  3.58               529.05  \n",
       "497        11.50            38.33                  4.96               551.62  \n",
       "498        12.39            36.84                  2.34               456.47  \n",
       "499        12.42            35.77                  2.74               497.78  \n",
       "\n",
       "[482 rows x 7 columns]"
      ]
     },
     "execution_count": 135,
     "metadata": {},
     "output_type": "execute_result"
    }
   ],
   "source": [
    "df_clean"
   ]
  },
  {
   "cell_type": "code",
   "execution_count": 124,
   "id": "fb5c0461-1278-4150-adf2-e6c1b9fa1c17",
   "metadata": {},
   "outputs": [
    {
     "data": {
      "image/png": "[encoded data removed]",
      "text/plain": [
       "<Figure size 1000x1000 with 20 Axes>"
      ]
     },
     "metadata": {},
     "output_type": "display_data"
    }
   ],
   "source": [
    "sns.pairplot(df_clean[['Time on App','Time on Website','Length of Membership','Yearly Amount Spent']],\n",
    "             kind = 'reg',\n",
    "             plot_kws = {'line_kws' : {'color' : 'orange'}});"
   ]
  },
  {
   "cell_type": "markdown",
   "id": "9dfe76c9-a175-4b75-9eaf-b805b470cda4",
   "metadata": {},
   "source": [
    "## Multiple Linear Regression"
   ]
  },
  {
   "cell_type": "code",
   "execution_count": 126,
   "id": "b299fe42-8499-4f64-a9c6-de9034e80285",
   "metadata": {},
   "outputs": [],
   "source": [
    "import statsmodels.api as sm\n",
    "import statsmodels.formula.api as smf"
   ]
  },
  {
   "cell_type": "code",
   "execution_count": 137,
   "id": "78cafdc0-18a0-4f63-a617-b8fb743123ca",
   "metadata": {},
   "outputs": [],
   "source": [
    "df_reg = df_clean.copy()"
   ]
  },
  {
   "cell_type": "code",
   "execution_count": 140,
   "id": "be6975d3-4469-42ab-a09b-9269034f35bf",
   "metadata": {},
   "outputs": [
    {
     "data": {
      "text/html": [
       "<div>\n",
       "<style scoped>\n",
       "    .dataframe tbody tr th:only-of-type {\n",
       "        vertical-align: middle;\n",
       "    }\n",
       "\n",
       "    .dataframe tbody tr th {\n",
       "        vertical-align: top;\n",
       "    }\n",
       "\n",
       "    .dataframe thead th {\n",
       "        text-align: right;\n",
       "    }\n",
       "</style>\n",
       "<table border=\"1\" class=\"dataframe\">\n",
       "  <thead>\n",
       "    <tr style=\"text-align: right;\">\n",
       "      <th></th>\n",
       "      <th>\\tEmail</th>\n",
       "      <th>Address</th>\n",
       "      <th>Avatar</th>\n",
       "      <th>time_on_app</th>\n",
       "      <th>time_on_website</th>\n",
       "      <th>length_of_member_ship</th>\n",
       "      <th>yearly_amount_spent</th>\n",
       "    </tr>\n",
       "  </thead>\n",
       "  <tbody>\n",
       "    <tr>\n",
       "      <th>0</th>\n",
       "      <td>mstephenson@fernandez.com</td>\n",
       "      <td>835 Frank TunnelWrightmouth, MI 82180-9605</td>\n",
       "      <td>Violet</td>\n",
       "      <td>12.66</td>\n",
       "      <td>39.58</td>\n",
       "      <td>4.08</td>\n",
       "      <td>587.95</td>\n",
       "    </tr>\n",
       "    <tr>\n",
       "      <th>1</th>\n",
       "      <td>hduke@hotmail.com</td>\n",
       "      <td>4547 Archer CommonDiazchester, CA 06566-8576</td>\n",
       "      <td>DarkGreen</td>\n",
       "      <td>11.11</td>\n",
       "      <td>37.27</td>\n",
       "      <td>2.66</td>\n",
       "      <td>392.20</td>\n",
       "    </tr>\n",
       "    <tr>\n",
       "      <th>2</th>\n",
       "      <td>pallen@yahoo.com</td>\n",
       "      <td>24645 Valerie Unions Suite 582Cobbborough, DC ...</td>\n",
       "      <td>Bisque</td>\n",
       "      <td>11.33</td>\n",
       "      <td>37.11</td>\n",
       "      <td>4.10</td>\n",
       "      <td>487.55</td>\n",
       "    </tr>\n",
       "    <tr>\n",
       "      <th>3</th>\n",
       "      <td>riverarebecca@gmail.com</td>\n",
       "      <td>1414 David ThroughwayPort Jason, OH 22070-1220</td>\n",
       "      <td>SaddleBrown</td>\n",
       "      <td>13.72</td>\n",
       "      <td>36.72</td>\n",
       "      <td>3.12</td>\n",
       "      <td>581.85</td>\n",
       "    </tr>\n",
       "    <tr>\n",
       "      <th>4</th>\n",
       "      <td>mstephens@davidson-herman.com</td>\n",
       "      <td>14023 Rodriguez PassagePort Jacobville, PR 372...</td>\n",
       "      <td>MediumAquaMarine</td>\n",
       "      <td>12.80</td>\n",
       "      <td>37.54</td>\n",
       "      <td>4.45</td>\n",
       "      <td>599.41</td>\n",
       "    </tr>\n",
       "    <tr>\n",
       "      <th>...</th>\n",
       "      <td>...</td>\n",
       "      <td>...</td>\n",
       "      <td>...</td>\n",
       "      <td>...</td>\n",
       "      <td>...</td>\n",
       "      <td>...</td>\n",
       "      <td>...</td>\n",
       "    </tr>\n",
       "    <tr>\n",
       "      <th>495</th>\n",
       "      <td>lewisjessica@craig-evans.com</td>\n",
       "      <td>4483 Jones Motorway Suite 872Lake Jamiefurt, U...</td>\n",
       "      <td>Tan</td>\n",
       "      <td>13.57</td>\n",
       "      <td>36.42</td>\n",
       "      <td>3.75</td>\n",
       "      <td>573.85</td>\n",
       "    </tr>\n",
       "    <tr>\n",
       "      <th>496</th>\n",
       "      <td>katrina56@gmail.com</td>\n",
       "      <td>172 Owen Divide Suite 497West Richard, CA 19320</td>\n",
       "      <td>PaleVioletRed</td>\n",
       "      <td>11.70</td>\n",
       "      <td>37.19</td>\n",
       "      <td>3.58</td>\n",
       "      <td>529.05</td>\n",
       "    </tr>\n",
       "    <tr>\n",
       "      <th>497</th>\n",
       "      <td>dale88@hotmail.com</td>\n",
       "      <td>0787 Andrews Ranch Apt. 633South Chadburgh, TN...</td>\n",
       "      <td>Cornsilk</td>\n",
       "      <td>11.50</td>\n",
       "      <td>38.33</td>\n",
       "      <td>4.96</td>\n",
       "      <td>551.62</td>\n",
       "    </tr>\n",
       "    <tr>\n",
       "      <th>498</th>\n",
       "      <td>cwilson@hotmail.com</td>\n",
       "      <td>680 Jennifer Lodge Apt. 808Brendachester, TX 0...</td>\n",
       "      <td>Teal</td>\n",
       "      <td>12.39</td>\n",
       "      <td>36.84</td>\n",
       "      <td>2.34</td>\n",
       "      <td>456.47</td>\n",
       "    </tr>\n",
       "    <tr>\n",
       "      <th>499</th>\n",
       "      <td>hannahwilson@davidson.com</td>\n",
       "      <td>49791 Rachel Heights Apt. 898East Drewborough,...</td>\n",
       "      <td>DarkMagenta</td>\n",
       "      <td>12.42</td>\n",
       "      <td>35.77</td>\n",
       "      <td>2.74</td>\n",
       "      <td>497.78</td>\n",
       "    </tr>\n",
       "  </tbody>\n",
       "</table>\n",
       "<p>482 rows × 7 columns</p>\n",
       "</div>"
      ],
      "text/plain": [
       "                           \\tEmail  \\\n",
       "0        mstephenson@fernandez.com   \n",
       "1                hduke@hotmail.com   \n",
       "2                 pallen@yahoo.com   \n",
       "3          riverarebecca@gmail.com   \n",
       "4    mstephens@davidson-herman.com   \n",
       "..                             ...   \n",
       "495   lewisjessica@craig-evans.com   \n",
       "496            katrina56@gmail.com   \n",
       "497             dale88@hotmail.com   \n",
       "498            cwilson@hotmail.com   \n",
       "499      hannahwilson@davidson.com   \n",
       "\n",
       "                                               Address            Avatar  \\\n",
       "0           835 Frank TunnelWrightmouth, MI 82180-9605            Violet   \n",
       "1         4547 Archer CommonDiazchester, CA 06566-8576         DarkGreen   \n",
       "2    24645 Valerie Unions Suite 582Cobbborough, DC ...            Bisque   \n",
       "3       1414 David ThroughwayPort Jason, OH 22070-1220       SaddleBrown   \n",
       "4    14023 Rodriguez PassagePort Jacobville, PR 372...  MediumAquaMarine   \n",
       "..                                                 ...               ...   \n",
       "495  4483 Jones Motorway Suite 872Lake Jamiefurt, U...               Tan   \n",
       "496    172 Owen Divide Suite 497West Richard, CA 19320     PaleVioletRed   \n",
       "497  0787 Andrews Ranch Apt. 633South Chadburgh, TN...          Cornsilk   \n",
       "498  680 Jennifer Lodge Apt. 808Brendachester, TX 0...              Teal   \n",
       "499  49791 Rachel Heights Apt. 898East Drewborough,...       DarkMagenta   \n",
       "\n",
       "     time_on_app  time_on_website  length_of_member_ship  yearly_amount_spent  \n",
       "0          12.66            39.58                   4.08               587.95  \n",
       "1          11.11            37.27                   2.66               392.20  \n",
       "2          11.33            37.11                   4.10               487.55  \n",
       "3          13.72            36.72                   3.12               581.85  \n",
       "4          12.80            37.54                   4.45               599.41  \n",
       "..           ...              ...                    ...                  ...  \n",
       "495        13.57            36.42                   3.75               573.85  \n",
       "496        11.70            37.19                   3.58               529.05  \n",
       "497        11.50            38.33                   4.96               551.62  \n",
       "498        12.39            36.84                   2.34               456.47  \n",
       "499        12.42            35.77                   2.74               497.78  \n",
       "\n",
       "[482 rows x 7 columns]"
      ]
     },
     "execution_count": 140,
     "metadata": {},
     "output_type": "execute_result"
    }
   ],
   "source": [
    "df_reg = df_reg.rename(columns = {'Time on App' : 'time_on_app' , 'Time on Website':'time_on_website', 'Length of Membership' : 'length_of_member_ship' , 'Yearly Amount Spent' : 'yearly_amount_spent'})\n",
    "df_reg"
   ]
  },
  {
   "cell_type": "code",
   "execution_count": 149,
   "id": "dee5d5af-8024-4c1c-bbac-8249c0a5564b",
   "metadata": {},
   "outputs": [],
   "source": [
    "# First Model\n",
    "model_a = smf.ols(formula = 'yearly_amount_spent ~ time_on_app + time_on_website + length_of_member_ship'\n",
    "               ,data = df_reg).fit()"
   ]
  },
  {
   "cell_type": "code",
   "execution_count": 150,
   "id": "5837405c-1ff6-401e-9d75-9efae87224be",
   "metadata": {},
   "outputs": [
    {
     "name": "stdout",
     "output_type": "stream",
     "text": [
      "                             OLS Regression Results                            \n",
      "===============================================================================\n",
      "Dep. Variable:     yearly_amount_spent   R-squared:                       0.857\n",
      "Model:                             OLS   Adj. R-squared:                  0.856\n",
      "Method:                  Least Squares   F-statistic:                     956.5\n",
      "Date:                 Fri, 07 Apr 2023   Prob (F-statistic):          1.53e-201\n",
      "Time:                         16:26:55   Log-Likelihood:                -2276.2\n",
      "No. Observations:                  482   AIC:                             4560.\n",
      "Df Residuals:                      478   BIC:                             4577.\n",
      "Df Model:                            3                                         \n",
      "Covariance Type:             nonrobust                                         \n",
      "=========================================================================================\n",
      "                            coef    std err          t      P>|t|      [0.025      0.975]\n",
      "-----------------------------------------------------------------------------------------\n",
      "Intercept              -192.3705     48.774     -3.944      0.000    -288.208     -96.533\n",
      "time_on_app              38.5533      1.304     29.557      0.000      35.990      41.116\n",
      "time_on_website           0.1456      1.256      0.116      0.908      -2.322       2.614\n",
      "length_of_member_ship    62.6722      1.378     45.482      0.000      59.965      65.380\n",
      "==============================================================================\n",
      "Omnibus:                        0.957   Durbin-Watson:                   2.080\n",
      "Prob(Omnibus):                  0.620   Jarque-Bera (JB):                1.058\n",
      "Skew:                          -0.087   Prob(JB):                        0.589\n",
      "Kurtosis:                       2.849   Cond. No.                     1.54e+03\n",
      "==============================================================================\n",
      "\n",
      "Notes:\n",
      "[1] Standard Errors assume that the covariance matrix of the errors is correctly specified.\n",
      "[2] The condition number is large, 1.54e+03. This might indicate that there are\n",
      "strong multicollinearity or other numerical problems.\n"
     ]
    }
   ],
   "source": [
    "print(model_a.summary())"
   ]
  },
  {
   "cell_type": "code",
   "execution_count": 151,
   "id": "94474cd7-b9a4-4acf-b9f4-9d1d158161b1",
   "metadata": {},
   "outputs": [],
   "source": [
    "# Second Model (exclude time on website)\n",
    "model_b = smf.ols(formula = 'yearly_amount_spent ~ time_on_app + length_of_member_ship'\n",
    "               ,data = df_reg).fit()"
   ]
  },
  {
   "cell_type": "code",
   "execution_count": 153,
   "id": "9567e20a-d11d-4934-baff-2e9c4966e65d",
   "metadata": {},
   "outputs": [
    {
     "name": "stdout",
     "output_type": "stream",
     "text": [
      "                             OLS Regression Results                            \n",
      "===============================================================================\n",
      "Dep. Variable:     yearly_amount_spent   R-squared:                       0.857\n",
      "Model:                             OLS   Adj. R-squared:                  0.857\n",
      "Method:                  Least Squares   F-statistic:                     1438.\n",
      "Date:                 Fri, 07 Apr 2023   Prob (F-statistic):          3.60e-203\n",
      "Time:                         16:27:24   Log-Likelihood:                -2276.2\n",
      "No. Observations:                  482   AIC:                             4558.\n",
      "Df Residuals:                      479   BIC:                             4571.\n",
      "Df Model:                            2                                         \n",
      "Covariance Type:             nonrobust                                         \n",
      "=========================================================================================\n",
      "                            coef    std err          t      P>|t|      [0.025      0.975]\n",
      "-----------------------------------------------------------------------------------------\n",
      "Intercept              -187.0572     16.628    -11.250      0.000    -219.729    -154.385\n",
      "time_on_app              38.5625      1.301     29.651      0.000      36.007      41.118\n",
      "length_of_member_ship    62.6642      1.375     45.581      0.000      59.963      65.366\n",
      "==============================================================================\n",
      "Omnibus:                        0.950   Durbin-Watson:                   2.080\n",
      "Prob(Omnibus):                  0.622   Jarque-Bera (JB):                1.052\n",
      "Skew:                          -0.087   Prob(JB):                        0.591\n",
      "Kurtosis:                       2.851   Cond. No.                         170.\n",
      "==============================================================================\n",
      "\n",
      "Notes:\n",
      "[1] Standard Errors assume that the covariance matrix of the errors is correctly specified.\n"
     ]
    }
   ],
   "source": [
    "print(model_b.summary())"
   ]
  },
  {
   "cell_type": "markdown",
   "id": "53f4844d-ee25-4649-91ff-3044af0285db",
   "metadata": {},
   "source": [
    "# Conclusion"
   ]
  },
  {
   "cell_type": "markdown",
   "id": "9275d59b-8fe5-4e93-9451-905409cf030e",
   "metadata": {},
   "source": [
    "The prediction model is\n",
    "- -187 + time_on_application * 38.56 + length_of_membership * 62.66 = yearly_amount_spent\n",
    "- Excluding the variable, time on application, gives the better fit model"
   ]
  },
  {
   "cell_type": "code",
   "execution_count": null,
   "id": "44c1dea9-1e5a-459c-ab1c-3ce9d0315900",
   "metadata": {},
   "outputs": [],
   "source": []
  }
 ],
 "metadata": {
  "kernelspec": {
   "display_name": "Python 3 (ipykernel)",
   "language": "python",
   "name": "python3"
  },
  "language_info": {
   "codemirror_mode": {
    "name": "ipython",
    "version": 3
   },
   "file_extension": ".py",
   "mimetype": "text/x-python",
   "name": "python",
   "nbconvert_exporter": "python",
   "pygments_lexer": "ipython3",
   "version": "3.11.1"
  }
 },
 "nbformat": 4,
 "nbformat_minor": 5
}
